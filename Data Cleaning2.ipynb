{
 "cells": [
  {
   "cell_type": "code",
   "execution_count": 1,
   "metadata": {
    "collapsed": true,
    "pycharm": {
     "name": "#%%\n"
    }
   },
   "outputs": [],
   "source": [
    "import numpy as np\n",
    "import pandas as pd\n",
    "import pickle\n",
    "import matplotlib.pyplot as plt"
   ]
  },
  {
   "cell_type": "code",
   "execution_count": 2,
   "outputs": [],
   "source": [
    "flights_dict = pd.read_pickle('barcelona_amsterdam_flights.pkl')"
   ],
   "metadata": {
    "collapsed": false,
    "pycharm": {
     "name": "#%%\n"
    }
   }
  },
  {
   "cell_type": "code",
   "execution_count": 3,
   "outputs": [],
   "source": [
    "df = pd.concat(flights_dict.values(), ignore_index=True)"
   ],
   "metadata": {
    "collapsed": false,
    "pycharm": {
     "name": "#%%\n"
    }
   }
  },
  {
   "cell_type": "code",
   "execution_count": 4,
   "outputs": [
    {
     "data": {
      "text/plain": "             timestamp  icao24   latitude  longitude  ground_speed      track  \\\n0  2023-07-02 17:09:58  343046  41.290718   2.098888    122.653879  65.942651   \n1  2023-07-02 17:09:59  343046  41.290718   2.098888    122.653879  65.942651   \n2  2023-07-02 17:10:00  343046  41.290718   2.098888    122.653879  65.942651   \n3  2023-07-02 17:10:01  343046  41.290718   2.098888    122.653879  65.942651   \n4  2023-07-02 17:10:02  343046  41.291656   2.101685    122.653879  65.942651   \n\n   vertical_rate callsign  onground  alert    spi  squawk  baro_altitude  \\\n0           64.0  VLG8021     False  False  False     NaN          100.0   \n1           64.0  VLG8021     False  False  False     NaN          100.0   \n2           64.0  VLG8021     False  False  False     NaN          100.0   \n3           64.0  VLG8021     False  False  False     NaN          100.0   \n4           64.0  VLG8021     False  False  False     NaN          225.0   \n\n   altitude            last_position        hour  \n0       NaN  2023-07-02 17:09:57.956  1688310000  \n1       NaN  2023-07-02 17:09:57.956  1688310000  \n2       NaN  2023-07-02 17:09:57.956  1688310000  \n3       NaN  2023-07-02 17:09:57.956  1688310000  \n4       NaN  2023-07-02 17:10:01.165  1688310000  ",
      "text/html": "<div>\n<style scoped>\n    .dataframe tbody tr th:only-of-type {\n        vertical-align: middle;\n    }\n\n    .dataframe tbody tr th {\n        vertical-align: top;\n    }\n\n    .dataframe thead th {\n        text-align: right;\n    }\n</style>\n<table border=\"1\" class=\"dataframe\">\n  <thead>\n    <tr style=\"text-align: right;\">\n      <th></th>\n      <th>timestamp</th>\n      <th>icao24</th>\n      <th>latitude</th>\n      <th>longitude</th>\n      <th>ground_speed</th>\n      <th>track</th>\n      <th>vertical_rate</th>\n      <th>callsign</th>\n      <th>onground</th>\n      <th>alert</th>\n      <th>spi</th>\n      <th>squawk</th>\n      <th>baro_altitude</th>\n      <th>altitude</th>\n      <th>last_position</th>\n      <th>hour</th>\n    </tr>\n  </thead>\n  <tbody>\n    <tr>\n      <th>0</th>\n      <td>2023-07-02 17:09:58</td>\n      <td>343046</td>\n      <td>41.290718</td>\n      <td>2.098888</td>\n      <td>122.653879</td>\n      <td>65.942651</td>\n      <td>64.0</td>\n      <td>VLG8021</td>\n      <td>False</td>\n      <td>False</td>\n      <td>False</td>\n      <td>NaN</td>\n      <td>100.0</td>\n      <td>NaN</td>\n      <td>2023-07-02 17:09:57.956</td>\n      <td>1688310000</td>\n    </tr>\n    <tr>\n      <th>1</th>\n      <td>2023-07-02 17:09:59</td>\n      <td>343046</td>\n      <td>41.290718</td>\n      <td>2.098888</td>\n      <td>122.653879</td>\n      <td>65.942651</td>\n      <td>64.0</td>\n      <td>VLG8021</td>\n      <td>False</td>\n      <td>False</td>\n      <td>False</td>\n      <td>NaN</td>\n      <td>100.0</td>\n      <td>NaN</td>\n      <td>2023-07-02 17:09:57.956</td>\n      <td>1688310000</td>\n    </tr>\n    <tr>\n      <th>2</th>\n      <td>2023-07-02 17:10:00</td>\n      <td>343046</td>\n      <td>41.290718</td>\n      <td>2.098888</td>\n      <td>122.653879</td>\n      <td>65.942651</td>\n      <td>64.0</td>\n      <td>VLG8021</td>\n      <td>False</td>\n      <td>False</td>\n      <td>False</td>\n      <td>NaN</td>\n      <td>100.0</td>\n      <td>NaN</td>\n      <td>2023-07-02 17:09:57.956</td>\n      <td>1688310000</td>\n    </tr>\n    <tr>\n      <th>3</th>\n      <td>2023-07-02 17:10:01</td>\n      <td>343046</td>\n      <td>41.290718</td>\n      <td>2.098888</td>\n      <td>122.653879</td>\n      <td>65.942651</td>\n      <td>64.0</td>\n      <td>VLG8021</td>\n      <td>False</td>\n      <td>False</td>\n      <td>False</td>\n      <td>NaN</td>\n      <td>100.0</td>\n      <td>NaN</td>\n      <td>2023-07-02 17:09:57.956</td>\n      <td>1688310000</td>\n    </tr>\n    <tr>\n      <th>4</th>\n      <td>2023-07-02 17:10:02</td>\n      <td>343046</td>\n      <td>41.291656</td>\n      <td>2.101685</td>\n      <td>122.653879</td>\n      <td>65.942651</td>\n      <td>64.0</td>\n      <td>VLG8021</td>\n      <td>False</td>\n      <td>False</td>\n      <td>False</td>\n      <td>NaN</td>\n      <td>225.0</td>\n      <td>NaN</td>\n      <td>2023-07-02 17:10:01.165</td>\n      <td>1688310000</td>\n    </tr>\n  </tbody>\n</table>\n</div>"
     },
     "execution_count": 4,
     "metadata": {},
     "output_type": "execute_result"
    }
   ],
   "source": [
    "df.head()"
   ],
   "metadata": {
    "collapsed": false,
    "pycharm": {
     "name": "#%%\n"
    }
   }
  },
  {
   "cell_type": "code",
   "execution_count": 5,
   "outputs": [
    {
     "data": {
      "text/plain": "(19101909, 16)"
     },
     "execution_count": 5,
     "metadata": {},
     "output_type": "execute_result"
    }
   ],
   "source": [
    "df.shape"
   ],
   "metadata": {
    "collapsed": false,
    "pycharm": {
     "name": "#%%\n"
    }
   }
  },
  {
   "cell_type": "code",
   "execution_count": 6,
   "outputs": [],
   "source": [
    "def haversine(lon1, lat1, lon2, lat2):\n",
    "    # convert degrees to radians\n",
    "    lon1, lat1, lon2, lat2 = map(np.radians, [lon1, lat1, lon2, lat2])\n",
    "\n",
    "    # Haversine formula\n",
    "    dlon = lon2 - lon1\n",
    "    dlat = lat2 - lat1\n",
    "    a = np.sin(dlat/2)**2 + np.cos(lat1) * np.cos(lat2) * np.sin(dlon/2)**2\n",
    "    c = 2* np.arcsin(np.sqrt(a))\n",
    "    r = 6371\n",
    "    return c * r\n",
    "\n",
    "amsterdam_lat, amsterdam_lon = 52.3676, 4.9041\n",
    "barcelona_lat, barcelona_lon = 41.3851, 2.1734"
   ],
   "metadata": {
    "collapsed": false,
    "pycharm": {
     "name": "#%%\n"
    }
   }
  },
  {
   "cell_type": "code",
   "execution_count": 7,
   "outputs": [],
   "source": [
    "df.drop_duplicates(subset=['icao24', 'last_position'], inplace = True)"
   ],
   "metadata": {
    "collapsed": false,
    "pycharm": {
     "name": "#%%\n"
    }
   }
  },
  {
   "cell_type": "code",
   "execution_count": 16,
   "outputs": [
    {
     "data": {
      "text/plain": "                    timestamp  icao24   latitude  longitude  ground_speed  \\\n0         2023-07-02 17:09:58  343046  41.290718   2.098888    122.653879   \n4         2023-07-02 17:10:02  343046  41.291656   2.101685    122.653879   \n6         2023-07-02 17:10:04  343046  41.292394   2.103944    162.163358   \n11        2023-07-02 17:10:09  343046  41.293837   2.108626    160.822745   \n12        2023-07-02 17:10:10  343046  41.293991   2.109131    160.822745   \n...                       ...     ...        ...        ...           ...   \n19101502  2023-01-07 12:05:55  505ceb  52.302778   4.764731           NaN   \n19101565  2023-01-07 12:06:58  505ceb  52.304420   4.767265           NaN   \n19101581  2023-01-07 12:07:14  505ceb  52.304615   4.767113           NaN   \n19101591  2023-01-07 12:07:24  505ceb  52.304638   4.767094           NaN   \n19101609  2023-01-07 12:07:42  505ceb  52.304640   4.767105           NaN   \n\n              track  baro_altitude  \n0         65.942651          100.0  \n4         65.942651          225.0  \n6         66.755016          325.0  \n11        68.860175          550.0  \n12        68.860175          550.0  \n...             ...            ...  \n19101502        NaN            NaN  \n19101565        NaN            NaN  \n19101581        NaN            NaN  \n19101591        NaN            NaN  \n19101609        NaN            NaN  \n\n[13971832 rows x 7 columns]",
      "text/html": "<div>\n<style scoped>\n    .dataframe tbody tr th:only-of-type {\n        vertical-align: middle;\n    }\n\n    .dataframe tbody tr th {\n        vertical-align: top;\n    }\n\n    .dataframe thead th {\n        text-align: right;\n    }\n</style>\n<table border=\"1\" class=\"dataframe\">\n  <thead>\n    <tr style=\"text-align: right;\">\n      <th></th>\n      <th>timestamp</th>\n      <th>icao24</th>\n      <th>latitude</th>\n      <th>longitude</th>\n      <th>ground_speed</th>\n      <th>track</th>\n      <th>baro_altitude</th>\n    </tr>\n  </thead>\n  <tbody>\n    <tr>\n      <th>0</th>\n      <td>2023-07-02 17:09:58</td>\n      <td>343046</td>\n      <td>41.290718</td>\n      <td>2.098888</td>\n      <td>122.653879</td>\n      <td>65.942651</td>\n      <td>100.0</td>\n    </tr>\n    <tr>\n      <th>4</th>\n      <td>2023-07-02 17:10:02</td>\n      <td>343046</td>\n      <td>41.291656</td>\n      <td>2.101685</td>\n      <td>122.653879</td>\n      <td>65.942651</td>\n      <td>225.0</td>\n    </tr>\n    <tr>\n      <th>6</th>\n      <td>2023-07-02 17:10:04</td>\n      <td>343046</td>\n      <td>41.292394</td>\n      <td>2.103944</td>\n      <td>162.163358</td>\n      <td>66.755016</td>\n      <td>325.0</td>\n    </tr>\n    <tr>\n      <th>11</th>\n      <td>2023-07-02 17:10:09</td>\n      <td>343046</td>\n      <td>41.293837</td>\n      <td>2.108626</td>\n      <td>160.822745</td>\n      <td>68.860175</td>\n      <td>550.0</td>\n    </tr>\n    <tr>\n      <th>12</th>\n      <td>2023-07-02 17:10:10</td>\n      <td>343046</td>\n      <td>41.293991</td>\n      <td>2.109131</td>\n      <td>160.822745</td>\n      <td>68.860175</td>\n      <td>550.0</td>\n    </tr>\n    <tr>\n      <th>...</th>\n      <td>...</td>\n      <td>...</td>\n      <td>...</td>\n      <td>...</td>\n      <td>...</td>\n      <td>...</td>\n      <td>...</td>\n    </tr>\n    <tr>\n      <th>19101502</th>\n      <td>2023-01-07 12:05:55</td>\n      <td>505ceb</td>\n      <td>52.302778</td>\n      <td>4.764731</td>\n      <td>NaN</td>\n      <td>NaN</td>\n      <td>NaN</td>\n    </tr>\n    <tr>\n      <th>19101565</th>\n      <td>2023-01-07 12:06:58</td>\n      <td>505ceb</td>\n      <td>52.304420</td>\n      <td>4.767265</td>\n      <td>NaN</td>\n      <td>NaN</td>\n      <td>NaN</td>\n    </tr>\n    <tr>\n      <th>19101581</th>\n      <td>2023-01-07 12:07:14</td>\n      <td>505ceb</td>\n      <td>52.304615</td>\n      <td>4.767113</td>\n      <td>NaN</td>\n      <td>NaN</td>\n      <td>NaN</td>\n    </tr>\n    <tr>\n      <th>19101591</th>\n      <td>2023-01-07 12:07:24</td>\n      <td>505ceb</td>\n      <td>52.304638</td>\n      <td>4.767094</td>\n      <td>NaN</td>\n      <td>NaN</td>\n      <td>NaN</td>\n    </tr>\n    <tr>\n      <th>19101609</th>\n      <td>2023-01-07 12:07:42</td>\n      <td>505ceb</td>\n      <td>52.304640</td>\n      <td>4.767105</td>\n      <td>NaN</td>\n      <td>NaN</td>\n      <td>NaN</td>\n    </tr>\n  </tbody>\n</table>\n<p>13971832 rows × 7 columns</p>\n</div>"
     },
     "execution_count": 16,
     "metadata": {},
     "output_type": "execute_result"
    }
   ],
   "source": [
    "df = df[['timestamp', 'icao24', 'latitude', 'longitude', 'ground_speed', \"track\", \"baro_altitude\"]]\n",
    "df"
   ],
   "metadata": {
    "collapsed": false,
    "pycharm": {
     "name": "#%%\n"
    }
   }
  },
  {
   "cell_type": "code",
   "execution_count": 17,
   "outputs": [
    {
     "data": {
      "text/plain": "              timestamp  icao24   latitude  longitude  ground_speed  \\\n0   2023-07-02 17:09:58  343046  41.290718   2.098888    122.653879   \n4   2023-07-02 17:10:02  343046  41.291656   2.101685    122.653879   \n6   2023-07-02 17:10:04  343046  41.292394   2.103944    162.163358   \n11  2023-07-02 17:10:09  343046  41.293837   2.108626    160.822745   \n12  2023-07-02 17:10:10  343046  41.293991   2.109131    160.822745   \n\n        track  baro_altitude  \n0   65.942651          100.0  \n4   65.942651          225.0  \n6   66.755016          325.0  \n11  68.860175          550.0  \n12  68.860175          550.0  ",
      "text/html": "<div>\n<style scoped>\n    .dataframe tbody tr th:only-of-type {\n        vertical-align: middle;\n    }\n\n    .dataframe tbody tr th {\n        vertical-align: top;\n    }\n\n    .dataframe thead th {\n        text-align: right;\n    }\n</style>\n<table border=\"1\" class=\"dataframe\">\n  <thead>\n    <tr style=\"text-align: right;\">\n      <th></th>\n      <th>timestamp</th>\n      <th>icao24</th>\n      <th>latitude</th>\n      <th>longitude</th>\n      <th>ground_speed</th>\n      <th>track</th>\n      <th>baro_altitude</th>\n    </tr>\n  </thead>\n  <tbody>\n    <tr>\n      <th>0</th>\n      <td>2023-07-02 17:09:58</td>\n      <td>343046</td>\n      <td>41.290718</td>\n      <td>2.098888</td>\n      <td>122.653879</td>\n      <td>65.942651</td>\n      <td>100.0</td>\n    </tr>\n    <tr>\n      <th>4</th>\n      <td>2023-07-02 17:10:02</td>\n      <td>343046</td>\n      <td>41.291656</td>\n      <td>2.101685</td>\n      <td>122.653879</td>\n      <td>65.942651</td>\n      <td>225.0</td>\n    </tr>\n    <tr>\n      <th>6</th>\n      <td>2023-07-02 17:10:04</td>\n      <td>343046</td>\n      <td>41.292394</td>\n      <td>2.103944</td>\n      <td>162.163358</td>\n      <td>66.755016</td>\n      <td>325.0</td>\n    </tr>\n    <tr>\n      <th>11</th>\n      <td>2023-07-02 17:10:09</td>\n      <td>343046</td>\n      <td>41.293837</td>\n      <td>2.108626</td>\n      <td>160.822745</td>\n      <td>68.860175</td>\n      <td>550.0</td>\n    </tr>\n    <tr>\n      <th>12</th>\n      <td>2023-07-02 17:10:10</td>\n      <td>343046</td>\n      <td>41.293991</td>\n      <td>2.109131</td>\n      <td>160.822745</td>\n      <td>68.860175</td>\n      <td>550.0</td>\n    </tr>\n  </tbody>\n</table>\n</div>"
     },
     "execution_count": 17,
     "metadata": {},
     "output_type": "execute_result"
    }
   ],
   "source": [
    "df.head()"
   ],
   "metadata": {
    "collapsed": false,
    "pycharm": {
     "name": "#%%\n"
    }
   }
  },
  {
   "cell_type": "code",
   "execution_count": 18,
   "outputs": [
    {
     "data": {
      "text/plain": "(13971832, 7)"
     },
     "execution_count": 18,
     "metadata": {},
     "output_type": "execute_result"
    }
   ],
   "source": [
    "df.shape"
   ],
   "metadata": {
    "collapsed": false,
    "pycharm": {
     "name": "#%%\n"
    }
   }
  },
  {
   "cell_type": "code",
   "execution_count": 21,
   "outputs": [],
   "source": [
    "df = df[df['baro_altitude'] >= 10000]"
   ],
   "metadata": {
    "collapsed": false,
    "pycharm": {
     "name": "#%%\n"
    }
   }
  },
  {
   "cell_type": "code",
   "execution_count": 22,
   "outputs": [
    {
     "data": {
      "text/plain": "               timestamp  icao24   latitude  longitude  ground_speed  \\\n279  2023-07-02 17:14:37  343046  41.413239   2.250699    280.058680   \n280  2023-07-02 17:14:38  343046  41.414267   2.249898    280.058680   \n281  2023-07-02 17:14:39  343046  41.415291   2.249195    279.177122   \n282  2023-07-02 17:14:40  343046  41.416362   2.248429    279.177122   \n283  2023-07-02 17:14:41  343046  41.417573   2.247534    279.177122   \n\n          track  baro_altitude  \n279  331.879375        10000.0  \n280  331.879375        10050.0  \n281  331.782644        10100.0  \n282  331.782644        10150.0  \n283  331.782644        10200.0  ",
      "text/html": "<div>\n<style scoped>\n    .dataframe tbody tr th:only-of-type {\n        vertical-align: middle;\n    }\n\n    .dataframe tbody tr th {\n        vertical-align: top;\n    }\n\n    .dataframe thead th {\n        text-align: right;\n    }\n</style>\n<table border=\"1\" class=\"dataframe\">\n  <thead>\n    <tr style=\"text-align: right;\">\n      <th></th>\n      <th>timestamp</th>\n      <th>icao24</th>\n      <th>latitude</th>\n      <th>longitude</th>\n      <th>ground_speed</th>\n      <th>track</th>\n      <th>baro_altitude</th>\n    </tr>\n  </thead>\n  <tbody>\n    <tr>\n      <th>279</th>\n      <td>2023-07-02 17:14:37</td>\n      <td>343046</td>\n      <td>41.413239</td>\n      <td>2.250699</td>\n      <td>280.058680</td>\n      <td>331.879375</td>\n      <td>10000.0</td>\n    </tr>\n    <tr>\n      <th>280</th>\n      <td>2023-07-02 17:14:38</td>\n      <td>343046</td>\n      <td>41.414267</td>\n      <td>2.249898</td>\n      <td>280.058680</td>\n      <td>331.879375</td>\n      <td>10050.0</td>\n    </tr>\n    <tr>\n      <th>281</th>\n      <td>2023-07-02 17:14:39</td>\n      <td>343046</td>\n      <td>41.415291</td>\n      <td>2.249195</td>\n      <td>279.177122</td>\n      <td>331.782644</td>\n      <td>10100.0</td>\n    </tr>\n    <tr>\n      <th>282</th>\n      <td>2023-07-02 17:14:40</td>\n      <td>343046</td>\n      <td>41.416362</td>\n      <td>2.248429</td>\n      <td>279.177122</td>\n      <td>331.782644</td>\n      <td>10150.0</td>\n    </tr>\n    <tr>\n      <th>283</th>\n      <td>2023-07-02 17:14:41</td>\n      <td>343046</td>\n      <td>41.417573</td>\n      <td>2.247534</td>\n      <td>279.177122</td>\n      <td>331.782644</td>\n      <td>10200.0</td>\n    </tr>\n  </tbody>\n</table>\n</div>"
     },
     "execution_count": 22,
     "metadata": {},
     "output_type": "execute_result"
    }
   ],
   "source": [
    "df.head()"
   ],
   "metadata": {
    "collapsed": false,
    "pycharm": {
     "name": "#%%\n"
    }
   }
  },
  {
   "cell_type": "code",
   "execution_count": 23,
   "outputs": [
    {
     "data": {
      "text/plain": "(11438167, 7)"
     },
     "execution_count": 23,
     "metadata": {},
     "output_type": "execute_result"
    }
   ],
   "source": [
    "df.shape"
   ],
   "metadata": {
    "collapsed": false,
    "pycharm": {
     "name": "#%%\n"
    }
   }
  },
  {
   "cell_type": "code",
   "execution_count": 25,
   "outputs": [
    {
     "data": {
      "text/plain": "                    timestamp  icao24   latitude  longitude  ground_speed  \\\n5790      2023-07-02 18:46:29  343046  52.191576   4.311428    295.082784   \n10367     2023-04-15 14:17:05  344409  44.171265   6.352142    429.773988   \n64989     2023-07-25 16:56:54  344699  50.856551   3.479385    407.843981   \n200083    2023-05-04 08:01:32  345642  43.966690   1.280738    462.904558   \n228540    2023-05-14 22:12:00  346089  50.314407   2.825944    416.885715   \n...                       ...     ...        ...        ...           ...   \n18661171  2023-07-19 12:45:07  485a35  49.644150   2.144936    503.525135   \n18761390  2023-06-28 15:23:30  485a35  51.932465   4.160690    295.236938   \n18875427  2023-07-12 22:12:44  486484  51.465454   3.687398    446.000736   \n18916098  2022-08-20 17:59:07  486493  52.143162   4.291495    279.078601   \n19046133  2023-08-09 18:23:06  503e9b  49.158371   1.528367    456.194740   \n\n               track  baro_altitude  \n5790       29.431793        83800.0  \n10367      26.386189        59200.0  \n64989      16.524316       125600.0  \n200083    352.552583       109300.0  \n228540     29.455081        52000.0  \n...              ...            ...  \n18661171   30.690550       103200.0  \n18761390   42.117037        91600.0  \n18875427   27.944021       121300.0  \n18916098   25.922337        55500.0  \n19046133   23.924232        74300.0  \n\n[202 rows x 7 columns]",
      "text/html": "<div>\n<style scoped>\n    .dataframe tbody tr th:only-of-type {\n        vertical-align: middle;\n    }\n\n    .dataframe tbody tr th {\n        vertical-align: top;\n    }\n\n    .dataframe thead th {\n        text-align: right;\n    }\n</style>\n<table border=\"1\" class=\"dataframe\">\n  <thead>\n    <tr style=\"text-align: right;\">\n      <th></th>\n      <th>timestamp</th>\n      <th>icao24</th>\n      <th>latitude</th>\n      <th>longitude</th>\n      <th>ground_speed</th>\n      <th>track</th>\n      <th>baro_altitude</th>\n    </tr>\n  </thead>\n  <tbody>\n    <tr>\n      <th>5790</th>\n      <td>2023-07-02 18:46:29</td>\n      <td>343046</td>\n      <td>52.191576</td>\n      <td>4.311428</td>\n      <td>295.082784</td>\n      <td>29.431793</td>\n      <td>83800.0</td>\n    </tr>\n    <tr>\n      <th>10367</th>\n      <td>2023-04-15 14:17:05</td>\n      <td>344409</td>\n      <td>44.171265</td>\n      <td>6.352142</td>\n      <td>429.773988</td>\n      <td>26.386189</td>\n      <td>59200.0</td>\n    </tr>\n    <tr>\n      <th>64989</th>\n      <td>2023-07-25 16:56:54</td>\n      <td>344699</td>\n      <td>50.856551</td>\n      <td>3.479385</td>\n      <td>407.843981</td>\n      <td>16.524316</td>\n      <td>125600.0</td>\n    </tr>\n    <tr>\n      <th>200083</th>\n      <td>2023-05-04 08:01:32</td>\n      <td>345642</td>\n      <td>43.966690</td>\n      <td>1.280738</td>\n      <td>462.904558</td>\n      <td>352.552583</td>\n      <td>109300.0</td>\n    </tr>\n    <tr>\n      <th>228540</th>\n      <td>2023-05-14 22:12:00</td>\n      <td>346089</td>\n      <td>50.314407</td>\n      <td>2.825944</td>\n      <td>416.885715</td>\n      <td>29.455081</td>\n      <td>52000.0</td>\n    </tr>\n    <tr>\n      <th>...</th>\n      <td>...</td>\n      <td>...</td>\n      <td>...</td>\n      <td>...</td>\n      <td>...</td>\n      <td>...</td>\n      <td>...</td>\n    </tr>\n    <tr>\n      <th>18661171</th>\n      <td>2023-07-19 12:45:07</td>\n      <td>485a35</td>\n      <td>49.644150</td>\n      <td>2.144936</td>\n      <td>503.525135</td>\n      <td>30.690550</td>\n      <td>103200.0</td>\n    </tr>\n    <tr>\n      <th>18761390</th>\n      <td>2023-06-28 15:23:30</td>\n      <td>485a35</td>\n      <td>51.932465</td>\n      <td>4.160690</td>\n      <td>295.236938</td>\n      <td>42.117037</td>\n      <td>91600.0</td>\n    </tr>\n    <tr>\n      <th>18875427</th>\n      <td>2023-07-12 22:12:44</td>\n      <td>486484</td>\n      <td>51.465454</td>\n      <td>3.687398</td>\n      <td>446.000736</td>\n      <td>27.944021</td>\n      <td>121300.0</td>\n    </tr>\n    <tr>\n      <th>18916098</th>\n      <td>2022-08-20 17:59:07</td>\n      <td>486493</td>\n      <td>52.143162</td>\n      <td>4.291495</td>\n      <td>279.078601</td>\n      <td>25.922337</td>\n      <td>55500.0</td>\n    </tr>\n    <tr>\n      <th>19046133</th>\n      <td>2023-08-09 18:23:06</td>\n      <td>503e9b</td>\n      <td>49.158371</td>\n      <td>1.528367</td>\n      <td>456.194740</td>\n      <td>23.924232</td>\n      <td>74300.0</td>\n    </tr>\n  </tbody>\n</table>\n<p>202 rows × 7 columns</p>\n</div>"
     },
     "execution_count": 25,
     "metadata": {},
     "output_type": "execute_result"
    }
   ],
   "source": [
    "outliers = df[df['baro_altitude'] >= 50000]\n",
    "outliers"
   ],
   "metadata": {
    "collapsed": false,
    "pycharm": {
     "name": "#%%\n"
    }
   }
  },
  {
   "cell_type": "code",
   "execution_count": 27,
   "outputs": [
    {
     "data": {
      "text/plain": "                   timestamp  icao24   latitude  longitude  ground_speed  \\\n5634978  2023-05-25 11:31:04  345642  41.378632   2.270447    243.353442   \n5634979  2023-05-25 11:31:05  345642  41.379772   2.269676    243.353442   \n5634980  2023-05-25 11:31:06  345642  41.380191   2.269363    243.353442   \n5634981  2023-05-25 11:31:07  345642  41.381378   2.268555    243.353442   \n5634982  2023-05-25 11:31:08  345642  41.382294   2.267883    244.237378   \n...                      ...     ...        ...        ...           ...   \n5672141  2023-04-10 14:39:27  345642  51.925278   4.116669    341.540332   \n5672142  2023-04-10 14:39:28  345642  51.926651   4.117432    341.540332   \n5672143  2023-04-10 14:39:29  345642  51.928323   4.118304    344.702473   \n5672144  2023-04-10 14:39:30  345642  51.929859   4.119167    340.594773   \n5672145  2023-04-10 14:39:31  345642  51.930725   4.119644    341.540332   \n\n              track  baro_altitude  \n5634978  332.066009        10000.0  \n5634979  332.066009        10050.0  \n5634980  332.066009        10075.0  \n5634981  332.066009        10125.0  \n5634982  332.175904        10175.0  \n...             ...            ...  \n5672141   18.965450        10025.0  \n5672142   18.965450        10025.0  \n5672143   18.960583        10000.0  \n5672144   19.020122        10000.0  \n5672145   18.965450        10000.0  \n\n[27921 rows x 7 columns]",
      "text/html": "<div>\n<style scoped>\n    .dataframe tbody tr th:only-of-type {\n        vertical-align: middle;\n    }\n\n    .dataframe tbody tr th {\n        vertical-align: top;\n    }\n\n    .dataframe thead th {\n        text-align: right;\n    }\n</style>\n<table border=\"1\" class=\"dataframe\">\n  <thead>\n    <tr style=\"text-align: right;\">\n      <th></th>\n      <th>timestamp</th>\n      <th>icao24</th>\n      <th>latitude</th>\n      <th>longitude</th>\n      <th>ground_speed</th>\n      <th>track</th>\n      <th>baro_altitude</th>\n    </tr>\n  </thead>\n  <tbody>\n    <tr>\n      <th>5634978</th>\n      <td>2023-05-25 11:31:04</td>\n      <td>345642</td>\n      <td>41.378632</td>\n      <td>2.270447</td>\n      <td>243.353442</td>\n      <td>332.066009</td>\n      <td>10000.0</td>\n    </tr>\n    <tr>\n      <th>5634979</th>\n      <td>2023-05-25 11:31:05</td>\n      <td>345642</td>\n      <td>41.379772</td>\n      <td>2.269676</td>\n      <td>243.353442</td>\n      <td>332.066009</td>\n      <td>10050.0</td>\n    </tr>\n    <tr>\n      <th>5634980</th>\n      <td>2023-05-25 11:31:06</td>\n      <td>345642</td>\n      <td>41.380191</td>\n      <td>2.269363</td>\n      <td>243.353442</td>\n      <td>332.066009</td>\n      <td>10075.0</td>\n    </tr>\n    <tr>\n      <th>5634981</th>\n      <td>2023-05-25 11:31:07</td>\n      <td>345642</td>\n      <td>41.381378</td>\n      <td>2.268555</td>\n      <td>243.353442</td>\n      <td>332.066009</td>\n      <td>10125.0</td>\n    </tr>\n    <tr>\n      <th>5634982</th>\n      <td>2023-05-25 11:31:08</td>\n      <td>345642</td>\n      <td>41.382294</td>\n      <td>2.267883</td>\n      <td>244.237378</td>\n      <td>332.175904</td>\n      <td>10175.0</td>\n    </tr>\n    <tr>\n      <th>...</th>\n      <td>...</td>\n      <td>...</td>\n      <td>...</td>\n      <td>...</td>\n      <td>...</td>\n      <td>...</td>\n      <td>...</td>\n    </tr>\n    <tr>\n      <th>5672141</th>\n      <td>2023-04-10 14:39:27</td>\n      <td>345642</td>\n      <td>51.925278</td>\n      <td>4.116669</td>\n      <td>341.540332</td>\n      <td>18.965450</td>\n      <td>10025.0</td>\n    </tr>\n    <tr>\n      <th>5672142</th>\n      <td>2023-04-10 14:39:28</td>\n      <td>345642</td>\n      <td>51.926651</td>\n      <td>4.117432</td>\n      <td>341.540332</td>\n      <td>18.965450</td>\n      <td>10025.0</td>\n    </tr>\n    <tr>\n      <th>5672143</th>\n      <td>2023-04-10 14:39:29</td>\n      <td>345642</td>\n      <td>51.928323</td>\n      <td>4.118304</td>\n      <td>344.702473</td>\n      <td>18.960583</td>\n      <td>10000.0</td>\n    </tr>\n    <tr>\n      <th>5672144</th>\n      <td>2023-04-10 14:39:30</td>\n      <td>345642</td>\n      <td>51.929859</td>\n      <td>4.119167</td>\n      <td>340.594773</td>\n      <td>19.020122</td>\n      <td>10000.0</td>\n    </tr>\n    <tr>\n      <th>5672145</th>\n      <td>2023-04-10 14:39:31</td>\n      <td>345642</td>\n      <td>51.930725</td>\n      <td>4.119644</td>\n      <td>341.540332</td>\n      <td>18.965450</td>\n      <td>10000.0</td>\n    </tr>\n  </tbody>\n</table>\n<p>27921 rows × 7 columns</p>\n</div>"
     },
     "execution_count": 27,
     "metadata": {},
     "output_type": "execute_result"
    }
   ],
   "source": [
    "flight = df[df['icao24'] == '345642']\n",
    "flight"
   ],
   "metadata": {
    "collapsed": false,
    "pycharm": {
     "name": "#%%\n"
    }
   }
  },
  {
   "cell_type": "code",
   "execution_count": null,
   "outputs": [],
   "source": [],
   "metadata": {
    "collapsed": false,
    "pycharm": {
     "name": "#%%\n"
    }
   }
  }
 ],
 "metadata": {
  "kernelspec": {
   "display_name": "Python 3",
   "language": "python",
   "name": "python3"
  },
  "language_info": {
   "codemirror_mode": {
    "name": "ipython",
    "version": 2
   },
   "file_extension": ".py",
   "mimetype": "text/x-python",
   "name": "python",
   "nbconvert_exporter": "python",
   "pygments_lexer": "ipython2",
   "version": "2.7.6"
  }
 },
 "nbformat": 4,
 "nbformat_minor": 0
}
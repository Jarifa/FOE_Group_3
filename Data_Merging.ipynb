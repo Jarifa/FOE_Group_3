{
 "cells": [
  {
   "cell_type": "code",
   "execution_count": 1,
   "metadata": {
    "collapsed": true,
    "pycharm": {
     "name": "#%%\n"
    },
    "ExecuteTime": {
     "end_time": "2023-11-28T12:52:03.413979100Z",
     "start_time": "2023-11-28T12:52:00.585874Z"
    }
   },
   "outputs": [],
   "source": [
    "import pandas as pd\n",
    "import os"
   ]
  },
  {
   "cell_type": "code",
   "execution_count": 2,
   "outputs": [],
   "source": [
    "# Define a function to load CSV files from a specified folder and merge them into a single DataFrame\n",
    "def load_csv(folder_path):\n",
    "    dataframes = [] # List to store individual DataFrames\n",
    "    file = 1 # Counter for file numbering in print statements\n",
    "\n",
    "    # Loop through each file in the directory\n",
    "    for filename in os.listdir(path):\n",
    "        # Check if the file is a CSV\n",
    "        if filename.endswith('.csv'):\n",
    "            # Create full file path\n",
    "            file_path = os.path.join(folder_path, filename)\n",
    "            # Read the CSV file into a DataFrame\n",
    "            df = pd.read_csv(file_path)\n",
    "            # Add the DataFrame to the list\n",
    "            dataframes.append(df)\n",
    "            # Print a message indicating completion of file loading\n",
    "            print(\"File\", file, \"complete\")\n",
    "            file += 1\n",
    "    # Concatenate all DataFrames in the list into a single DataFrame\n",
    "    combined_df = pd.concat(dataframes, ignore_index=True)\n",
    "    return combined_df # Return the combined DataFrame"
   ],
   "metadata": {
    "collapsed": false,
    "pycharm": {
     "name": "#%%\n"
    },
    "ExecuteTime": {
     "end_time": "2023-11-28T12:54:41.052487800Z",
     "start_time": "2023-11-28T12:52:03.413979100Z"
    }
   }
  },
  {
   "cell_type": "code",
   "execution_count": 3,
   "outputs": [
    {
     "name": "stderr",
     "output_type": "stream",
     "text": [
      "F:\\WIN temp files\\ipykernel_10052\\2158103575.py:8: DtypeWarning: Columns (2) have mixed types. Specify dtype option on import or set low_memory=False.\n",
      "  df = pd.read_csv(file_path)\n"
     ]
    },
    {
     "name": "stdout",
     "output_type": "stream",
     "text": [
      "File 1 complete\n"
     ]
    },
    {
     "name": "stderr",
     "output_type": "stream",
     "text": [
      "F:\\WIN temp files\\ipykernel_10052\\2158103575.py:8: DtypeWarning: Columns (2) have mixed types. Specify dtype option on import or set low_memory=False.\n",
      "  df = pd.read_csv(file_path)\n"
     ]
    },
    {
     "name": "stdout",
     "output_type": "stream",
     "text": [
      "File 2 complete\n",
      "File 3 complete\n",
      "File 4 complete\n",
      "File 5 complete\n",
      "File 6 complete\n",
      "File 7 complete\n",
      "File 8 complete\n",
      "File 9 complete\n",
      "File 10 complete\n",
      "File 11 complete\n"
     ]
    },
    {
     "name": "stderr",
     "output_type": "stream",
     "text": [
      "F:\\WIN temp files\\ipykernel_10052\\2158103575.py:8: DtypeWarning: Columns (2) have mixed types. Specify dtype option on import or set low_memory=False.\n",
      "  df = pd.read_csv(file_path)\n"
     ]
    },
    {
     "name": "stdout",
     "output_type": "stream",
     "text": [
      "File 12 complete\n",
      "File 13 complete\n",
      "File 14 complete\n",
      "File 15 complete\n",
      "File 16 complete\n",
      "File 17 complete\n"
     ]
    },
    {
     "name": "stderr",
     "output_type": "stream",
     "text": [
      "F:\\WIN temp files\\ipykernel_10052\\2158103575.py:8: DtypeWarning: Columns (2) have mixed types. Specify dtype option on import or set low_memory=False.\n",
      "  df = pd.read_csv(file_path)\n"
     ]
    },
    {
     "name": "stdout",
     "output_type": "stream",
     "text": [
      "File 18 complete\n"
     ]
    },
    {
     "name": "stderr",
     "output_type": "stream",
     "text": [
      "F:\\WIN temp files\\ipykernel_10052\\2158103575.py:8: DtypeWarning: Columns (2) have mixed types. Specify dtype option on import or set low_memory=False.\n",
      "  df = pd.read_csv(file_path)\n"
     ]
    },
    {
     "name": "stdout",
     "output_type": "stream",
     "text": [
      "File 19 complete\n"
     ]
    },
    {
     "name": "stderr",
     "output_type": "stream",
     "text": [
      "F:\\WIN temp files\\ipykernel_10052\\2158103575.py:8: DtypeWarning: Columns (2) have mixed types. Specify dtype option on import or set low_memory=False.\n",
      "  df = pd.read_csv(file_path)\n"
     ]
    },
    {
     "name": "stdout",
     "output_type": "stream",
     "text": [
      "File 20 complete\n",
      "File 21 complete\n"
     ]
    },
    {
     "name": "stderr",
     "output_type": "stream",
     "text": [
      "F:\\WIN temp files\\ipykernel_10052\\2158103575.py:8: DtypeWarning: Columns (2) have mixed types. Specify dtype option on import or set low_memory=False.\n",
      "  df = pd.read_csv(file_path)\n"
     ]
    },
    {
     "name": "stdout",
     "output_type": "stream",
     "text": [
      "File 22 complete\n"
     ]
    },
    {
     "name": "stderr",
     "output_type": "stream",
     "text": [
      "F:\\WIN temp files\\ipykernel_10052\\2158103575.py:8: DtypeWarning: Columns (2) have mixed types. Specify dtype option on import or set low_memory=False.\n",
      "  df = pd.read_csv(file_path)\n"
     ]
    },
    {
     "name": "stdout",
     "output_type": "stream",
     "text": [
      "File 23 complete\n"
     ]
    },
    {
     "name": "stderr",
     "output_type": "stream",
     "text": [
      "F:\\WIN temp files\\ipykernel_10052\\2158103575.py:8: DtypeWarning: Columns (2) have mixed types. Specify dtype option on import or set low_memory=False.\n",
      "  df = pd.read_csv(file_path)\n"
     ]
    },
    {
     "name": "stdout",
     "output_type": "stream",
     "text": [
      "File 24 complete\n"
     ]
    },
    {
     "name": "stderr",
     "output_type": "stream",
     "text": [
      "F:\\WIN temp files\\ipykernel_10052\\2158103575.py:8: DtypeWarning: Columns (2) have mixed types. Specify dtype option on import or set low_memory=False.\n",
      "  df = pd.read_csv(file_path)\n"
     ]
    },
    {
     "name": "stdout",
     "output_type": "stream",
     "text": [
      "File 25 complete\n",
      "Datasets/Flights loaded into one df.\n"
     ]
    }
   ],
   "source": [
    "# Specify the path to the folder containing CSV files\n",
    "path = \"Datasets/Flights\"\n",
    "# Load all CSV files from the specified folder and combine them\n",
    "df = load_csv(path)\n",
    "# Print a message indicating successful loading and combination of files\n",
    "print(path, \"loaded into one df.\")"
   ],
   "metadata": {
    "collapsed": false,
    "pycharm": {
     "name": "#%%\n"
    }
   }
  },
  {
   "cell_type": "code",
   "execution_count": 4,
   "outputs": [],
   "source": [
    "# Save the combined DataFrame to a new CSV file\n",
    "df.to_csv('Datasets/Merged_Flights.csv')"
   ],
   "metadata": {
    "collapsed": false,
    "pycharm": {
     "name": "#%%\n"
    },
    "ExecuteTime": {
     "start_time": "2023-11-28T12:54:39.530974700Z"
    }
   }
  },
  {
   "cell_type": "code",
   "execution_count": 5,
   "outputs": [
    {
     "data": {
      "text/plain": "          Unnamed: 0            timestamp  icao24   latitude  longitude  \\\n0                  0  2022-10-01 17:22:01  4853d1  52.304360   4.766124   \n1                  1  2022-10-01 17:22:02  4853d1  52.304360   4.766124   \n2                  2  2022-10-01 17:22:03  4853d1  52.304360   4.766124   \n3                  3  2022-10-01 17:22:04  4853d1  52.304360   4.766124   \n4                  4  2022-10-01 17:22:05  4853d1  52.304360   4.766124   \n...              ...                  ...     ...        ...        ...   \n26490443     2737273  2023-04-29 20:22:19  344644  52.303562   4.765205   \n26490444     2737274  2023-04-29 20:22:20  344644  52.303562   4.765205   \n26490445     2737275  2023-04-29 20:22:21  344644  52.303562   4.765205   \n26490446     2737276  2023-04-29 20:22:22  344644  52.303562   4.765205   \n26490447     2737277  2023-04-29 20:22:23  344644  52.303562   4.765205   \n\n          ground_speed      track  vertical_rate callsign  onground  alert  \\\n0                  NaN        NaN            NaN   TRA13Y      True  False   \n1                  NaN        NaN            NaN   TRA13Y      True  False   \n2                  NaN        NaN            NaN   TRA13Y      True  False   \n3                  NaN        NaN            NaN   TRA13Y      True  False   \n4                  NaN        NaN            NaN   TRA13Y      True  False   \n...                ...        ...            ...      ...       ...    ...   \n26490443     106.85027  58.392498          -64.0  VLG96SC      True  False   \n26490444     106.85027  58.392498          -64.0  VLG96SC      True  False   \n26490445     106.85027  58.392498          -64.0  VLG96SC      True  False   \n26490446     106.85027  58.392498          -64.0  VLG96SC      True  False   \n26490447     106.85027  58.392498          -64.0  VLG96SC      True  False   \n\n            spi  squawk  baro_altitude  altitude            last_position  \\\n0         False     NaN            NaN       NaN  2022-10-01 17:22:00.300   \n1         False     NaN            NaN       NaN  2022-10-01 17:22:00.300   \n2         False     NaN            NaN       NaN  2022-10-01 17:22:00.300   \n3         False     NaN            NaN       NaN  2022-10-01 17:22:00.300   \n4         False     NaN            NaN       NaN  2022-10-01 17:22:00.300   \n...         ...     ...            ...       ...                      ...   \n26490443  False  5346.0            NaN       NaN  2023-04-29 20:17:20.697   \n26490444  False  5346.0            NaN       NaN  2023-04-29 20:17:20.697   \n26490445  False  5346.0            NaN       NaN  2023-04-29 20:17:20.697   \n26490446  False  5346.0            NaN       NaN  2023-04-29 20:17:20.697   \n26490447  False  5346.0            NaN       NaN  2023-04-29 20:17:20.697   \n\n                hour  \n0         1664636400  \n1         1664636400  \n2         1664636400  \n3         1664636400  \n4         1664636400  \n...              ...  \n26490443  1682791200  \n26490444  1682791200  \n26490445  1682791200  \n26490446  1682791200  \n26490447  1682791200  \n\n[26490448 rows x 17 columns]",
      "text/html": "<div>\n<style scoped>\n    .dataframe tbody tr th:only-of-type {\n        vertical-align: middle;\n    }\n\n    .dataframe tbody tr th {\n        vertical-align: top;\n    }\n\n    .dataframe thead th {\n        text-align: right;\n    }\n</style>\n<table border=\"1\" class=\"dataframe\">\n  <thead>\n    <tr style=\"text-align: right;\">\n      <th></th>\n      <th>Unnamed: 0</th>\n      <th>timestamp</th>\n      <th>icao24</th>\n      <th>latitude</th>\n      <th>longitude</th>\n      <th>ground_speed</th>\n      <th>track</th>\n      <th>vertical_rate</th>\n      <th>callsign</th>\n      <th>onground</th>\n      <th>alert</th>\n      <th>spi</th>\n      <th>squawk</th>\n      <th>baro_altitude</th>\n      <th>altitude</th>\n      <th>last_position</th>\n      <th>hour</th>\n    </tr>\n  </thead>\n  <tbody>\n    <tr>\n      <th>0</th>\n      <td>0</td>\n      <td>2022-10-01 17:22:01</td>\n      <td>4853d1</td>\n      <td>52.304360</td>\n      <td>4.766124</td>\n      <td>NaN</td>\n      <td>NaN</td>\n      <td>NaN</td>\n      <td>TRA13Y</td>\n      <td>True</td>\n      <td>False</td>\n      <td>False</td>\n      <td>NaN</td>\n      <td>NaN</td>\n      <td>NaN</td>\n      <td>2022-10-01 17:22:00.300</td>\n      <td>1664636400</td>\n    </tr>\n    <tr>\n      <th>1</th>\n      <td>1</td>\n      <td>2022-10-01 17:22:02</td>\n      <td>4853d1</td>\n      <td>52.304360</td>\n      <td>4.766124</td>\n      <td>NaN</td>\n      <td>NaN</td>\n      <td>NaN</td>\n      <td>TRA13Y</td>\n      <td>True</td>\n      <td>False</td>\n      <td>False</td>\n      <td>NaN</td>\n      <td>NaN</td>\n      <td>NaN</td>\n      <td>2022-10-01 17:22:00.300</td>\n      <td>1664636400</td>\n    </tr>\n    <tr>\n      <th>2</th>\n      <td>2</td>\n      <td>2022-10-01 17:22:03</td>\n      <td>4853d1</td>\n      <td>52.304360</td>\n      <td>4.766124</td>\n      <td>NaN</td>\n      <td>NaN</td>\n      <td>NaN</td>\n      <td>TRA13Y</td>\n      <td>True</td>\n      <td>False</td>\n      <td>False</td>\n      <td>NaN</td>\n      <td>NaN</td>\n      <td>NaN</td>\n      <td>2022-10-01 17:22:00.300</td>\n      <td>1664636400</td>\n    </tr>\n    <tr>\n      <th>3</th>\n      <td>3</td>\n      <td>2022-10-01 17:22:04</td>\n      <td>4853d1</td>\n      <td>52.304360</td>\n      <td>4.766124</td>\n      <td>NaN</td>\n      <td>NaN</td>\n      <td>NaN</td>\n      <td>TRA13Y</td>\n      <td>True</td>\n      <td>False</td>\n      <td>False</td>\n      <td>NaN</td>\n      <td>NaN</td>\n      <td>NaN</td>\n      <td>2022-10-01 17:22:00.300</td>\n      <td>1664636400</td>\n    </tr>\n    <tr>\n      <th>4</th>\n      <td>4</td>\n      <td>2022-10-01 17:22:05</td>\n      <td>4853d1</td>\n      <td>52.304360</td>\n      <td>4.766124</td>\n      <td>NaN</td>\n      <td>NaN</td>\n      <td>NaN</td>\n      <td>TRA13Y</td>\n      <td>True</td>\n      <td>False</td>\n      <td>False</td>\n      <td>NaN</td>\n      <td>NaN</td>\n      <td>NaN</td>\n      <td>2022-10-01 17:22:00.300</td>\n      <td>1664636400</td>\n    </tr>\n    <tr>\n      <th>...</th>\n      <td>...</td>\n      <td>...</td>\n      <td>...</td>\n      <td>...</td>\n      <td>...</td>\n      <td>...</td>\n      <td>...</td>\n      <td>...</td>\n      <td>...</td>\n      <td>...</td>\n      <td>...</td>\n      <td>...</td>\n      <td>...</td>\n      <td>...</td>\n      <td>...</td>\n      <td>...</td>\n      <td>...</td>\n    </tr>\n    <tr>\n      <th>26490443</th>\n      <td>2737273</td>\n      <td>2023-04-29 20:22:19</td>\n      <td>344644</td>\n      <td>52.303562</td>\n      <td>4.765205</td>\n      <td>106.85027</td>\n      <td>58.392498</td>\n      <td>-64.0</td>\n      <td>VLG96SC</td>\n      <td>True</td>\n      <td>False</td>\n      <td>False</td>\n      <td>5346.0</td>\n      <td>NaN</td>\n      <td>NaN</td>\n      <td>2023-04-29 20:17:20.697</td>\n      <td>1682791200</td>\n    </tr>\n    <tr>\n      <th>26490444</th>\n      <td>2737274</td>\n      <td>2023-04-29 20:22:20</td>\n      <td>344644</td>\n      <td>52.303562</td>\n      <td>4.765205</td>\n      <td>106.85027</td>\n      <td>58.392498</td>\n      <td>-64.0</td>\n      <td>VLG96SC</td>\n      <td>True</td>\n      <td>False</td>\n      <td>False</td>\n      <td>5346.0</td>\n      <td>NaN</td>\n      <td>NaN</td>\n      <td>2023-04-29 20:17:20.697</td>\n      <td>1682791200</td>\n    </tr>\n    <tr>\n      <th>26490445</th>\n      <td>2737275</td>\n      <td>2023-04-29 20:22:21</td>\n      <td>344644</td>\n      <td>52.303562</td>\n      <td>4.765205</td>\n      <td>106.85027</td>\n      <td>58.392498</td>\n      <td>-64.0</td>\n      <td>VLG96SC</td>\n      <td>True</td>\n      <td>False</td>\n      <td>False</td>\n      <td>5346.0</td>\n      <td>NaN</td>\n      <td>NaN</td>\n      <td>2023-04-29 20:17:20.697</td>\n      <td>1682791200</td>\n    </tr>\n    <tr>\n      <th>26490446</th>\n      <td>2737276</td>\n      <td>2023-04-29 20:22:22</td>\n      <td>344644</td>\n      <td>52.303562</td>\n      <td>4.765205</td>\n      <td>106.85027</td>\n      <td>58.392498</td>\n      <td>-64.0</td>\n      <td>VLG96SC</td>\n      <td>True</td>\n      <td>False</td>\n      <td>False</td>\n      <td>5346.0</td>\n      <td>NaN</td>\n      <td>NaN</td>\n      <td>2023-04-29 20:17:20.697</td>\n      <td>1682791200</td>\n    </tr>\n    <tr>\n      <th>26490447</th>\n      <td>2737277</td>\n      <td>2023-04-29 20:22:23</td>\n      <td>344644</td>\n      <td>52.303562</td>\n      <td>4.765205</td>\n      <td>106.85027</td>\n      <td>58.392498</td>\n      <td>-64.0</td>\n      <td>VLG96SC</td>\n      <td>True</td>\n      <td>False</td>\n      <td>False</td>\n      <td>5346.0</td>\n      <td>NaN</td>\n      <td>NaN</td>\n      <td>2023-04-29 20:17:20.697</td>\n      <td>1682791200</td>\n    </tr>\n  </tbody>\n</table>\n<p>26490448 rows × 17 columns</p>\n</div>"
     },
     "execution_count": 5,
     "metadata": {},
     "output_type": "execute_result"
    }
   ],
   "source": [
    "# Display the combined DataFrame\n",
    "df"
   ],
   "metadata": {
    "collapsed": false,
    "ExecuteTime": {
     "start_time": "2023-11-28T12:57:31.109425400Z"
    },
    "pycharm": {
     "name": "#%%\n"
    }
   }
  },
  {
   "cell_type": "code",
   "execution_count": 5,
   "outputs": [],
   "source": [],
   "metadata": {
    "collapsed": false,
    "pycharm": {
     "name": "#%%\n"
    }
   }
  }
 ],
 "metadata": {
  "kernelspec": {
   "display_name": "Python 3",
   "language": "python",
   "name": "python3"
  },
  "language_info": {
   "codemirror_mode": {
    "name": "ipython",
    "version": 2
   },
   "file_extension": ".py",
   "mimetype": "text/x-python",
   "name": "python",
   "nbconvert_exporter": "python",
   "pygments_lexer": "ipython2",
   "version": "2.7.6"
  }
 },
 "nbformat": 4,
 "nbformat_minor": 0
}
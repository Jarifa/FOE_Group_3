{
 "cells": [
  {
   "cell_type": "code",
   "execution_count": 2,
   "metadata": {
    "collapsed": true,
    "pycharm": {
     "name": "#%%\n"
    }
   },
   "outputs": [],
   "source": [
    "import pandas as pd\n",
    "from sklearn.model_selection import train_test_split\n",
    "from sklearn.linear_model import LinearRegression\n",
    "from sklearn.metrics import mean_absolute_error, r2_score\n",
    "import numpy as np\n",
    "import matplotlib.pyplot as plt"
   ]
  },
  {
   "cell_type": "code",
   "execution_count": 3,
   "outputs": [
    {
     "data": {
      "text/plain": "        Unnamed: 0            timestamp  icao24   latitude  longitude  \\\n0         10060824  2023-05-23 09:00:02  342582  41.280988   2.399389   \n1         10060944  2023-05-23 09:02:02  342582  41.342204   2.601513   \n2         10061064  2023-05-23 09:04:02  342582  41.502949   2.601460   \n3         10061184  2023-05-23 09:06:02  342582  41.672353   2.411818   \n4         10061304  2023-05-23 09:08:02  342582  41.843216   2.212996   \n...            ...                  ...     ...        ...        ...   \n109831    20942036  2023-08-27 12:15:59  ad5b90  53.724976  -9.134426   \n109832    20942194  2023-08-27 12:18:37  ad5b90  53.761690  -9.662314   \n109833    20942315  2023-08-27 12:20:38  ad5b90  53.787048 -10.055158   \n109834    20942435  2023-08-27 12:22:38  ad5b90  53.811454 -10.442020   \n109835    20942798  2023-08-27 12:28:41  ad5b90  53.878647 -11.658927   \n\n        ground_speed       track  vertical_rate  baro_altitude  \\\n0         268.463918   84.013336         1088.0        10025.0   \n1         330.287468   48.928307         3136.0        14625.0   \n2         372.413427  322.637777          896.0        19225.0   \n3         415.895060  318.606717         1472.0        22675.0   \n4         411.095741  318.945186         1728.0        27100.0   \n...              ...         ...            ...            ...   \n109831    429.283917  277.091907           64.0        36000.0   \n109832    428.923865  276.694229          -64.0        36000.0   \n109833    408.485877  276.324702           64.0        36000.0   \n109834    422.403470  276.115504         1024.0        37675.0   \n109835    429.958929  275.471917          128.0        40000.0   \n\n        latitude_in_10min  longitude_in_10min  baro_altitude_in_10min  \\\n0               42.024148            2.001172                 29175.0   \n1               42.228513            1.819898                 31900.0   \n2               42.470910            1.768352                 34800.0   \n3               42.707428            1.718674                 36000.0   \n4               42.946115            1.693072                 36000.0   \n...                   ...                 ...                     ...   \n109831          53.857215          -11.247011                 40000.0   \n109832          53.878647          -11.658927                 40000.0   \n109833          53.898926          -12.067674                 40000.0   \n109834          53.917694          -12.492711                 40000.0   \n109835          53.972897          -13.980587                 40000.0   \n\n        Climbing  Descending  Cruise  \n0           True       False   False  \n1           True       False   False  \n2           True       False   False  \n3           True       False   False  \n4           True       False   False  \n...          ...         ...     ...  \n109831      True       False   False  \n109832     False        True   False  \n109833      True       False   False  \n109834      True       False   False  \n109835      True       False   False  \n\n[109836 rows x 15 columns]",
      "text/html": "<div>\n<style scoped>\n    .dataframe tbody tr th:only-of-type {\n        vertical-align: middle;\n    }\n\n    .dataframe tbody tr th {\n        vertical-align: top;\n    }\n\n    .dataframe thead th {\n        text-align: right;\n    }\n</style>\n<table border=\"1\" class=\"dataframe\">\n  <thead>\n    <tr style=\"text-align: right;\">\n      <th></th>\n      <th>Unnamed: 0</th>\n      <th>timestamp</th>\n      <th>icao24</th>\n      <th>latitude</th>\n      <th>longitude</th>\n      <th>ground_speed</th>\n      <th>track</th>\n      <th>vertical_rate</th>\n      <th>baro_altitude</th>\n      <th>latitude_in_10min</th>\n      <th>longitude_in_10min</th>\n      <th>baro_altitude_in_10min</th>\n      <th>Climbing</th>\n      <th>Descending</th>\n      <th>Cruise</th>\n    </tr>\n  </thead>\n  <tbody>\n    <tr>\n      <th>0</th>\n      <td>10060824</td>\n      <td>2023-05-23 09:00:02</td>\n      <td>342582</td>\n      <td>41.280988</td>\n      <td>2.399389</td>\n      <td>268.463918</td>\n      <td>84.013336</td>\n      <td>1088.0</td>\n      <td>10025.0</td>\n      <td>42.024148</td>\n      <td>2.001172</td>\n      <td>29175.0</td>\n      <td>True</td>\n      <td>False</td>\n      <td>False</td>\n    </tr>\n    <tr>\n      <th>1</th>\n      <td>10060944</td>\n      <td>2023-05-23 09:02:02</td>\n      <td>342582</td>\n      <td>41.342204</td>\n      <td>2.601513</td>\n      <td>330.287468</td>\n      <td>48.928307</td>\n      <td>3136.0</td>\n      <td>14625.0</td>\n      <td>42.228513</td>\n      <td>1.819898</td>\n      <td>31900.0</td>\n      <td>True</td>\n      <td>False</td>\n      <td>False</td>\n    </tr>\n    <tr>\n      <th>2</th>\n      <td>10061064</td>\n      <td>2023-05-23 09:04:02</td>\n      <td>342582</td>\n      <td>41.502949</td>\n      <td>2.601460</td>\n      <td>372.413427</td>\n      <td>322.637777</td>\n      <td>896.0</td>\n      <td>19225.0</td>\n      <td>42.470910</td>\n      <td>1.768352</td>\n      <td>34800.0</td>\n      <td>True</td>\n      <td>False</td>\n      <td>False</td>\n    </tr>\n    <tr>\n      <th>3</th>\n      <td>10061184</td>\n      <td>2023-05-23 09:06:02</td>\n      <td>342582</td>\n      <td>41.672353</td>\n      <td>2.411818</td>\n      <td>415.895060</td>\n      <td>318.606717</td>\n      <td>1472.0</td>\n      <td>22675.0</td>\n      <td>42.707428</td>\n      <td>1.718674</td>\n      <td>36000.0</td>\n      <td>True</td>\n      <td>False</td>\n      <td>False</td>\n    </tr>\n    <tr>\n      <th>4</th>\n      <td>10061304</td>\n      <td>2023-05-23 09:08:02</td>\n      <td>342582</td>\n      <td>41.843216</td>\n      <td>2.212996</td>\n      <td>411.095741</td>\n      <td>318.945186</td>\n      <td>1728.0</td>\n      <td>27100.0</td>\n      <td>42.946115</td>\n      <td>1.693072</td>\n      <td>36000.0</td>\n      <td>True</td>\n      <td>False</td>\n      <td>False</td>\n    </tr>\n    <tr>\n      <th>...</th>\n      <td>...</td>\n      <td>...</td>\n      <td>...</td>\n      <td>...</td>\n      <td>...</td>\n      <td>...</td>\n      <td>...</td>\n      <td>...</td>\n      <td>...</td>\n      <td>...</td>\n      <td>...</td>\n      <td>...</td>\n      <td>...</td>\n      <td>...</td>\n      <td>...</td>\n    </tr>\n    <tr>\n      <th>109831</th>\n      <td>20942036</td>\n      <td>2023-08-27 12:15:59</td>\n      <td>ad5b90</td>\n      <td>53.724976</td>\n      <td>-9.134426</td>\n      <td>429.283917</td>\n      <td>277.091907</td>\n      <td>64.0</td>\n      <td>36000.0</td>\n      <td>53.857215</td>\n      <td>-11.247011</td>\n      <td>40000.0</td>\n      <td>True</td>\n      <td>False</td>\n      <td>False</td>\n    </tr>\n    <tr>\n      <th>109832</th>\n      <td>20942194</td>\n      <td>2023-08-27 12:18:37</td>\n      <td>ad5b90</td>\n      <td>53.761690</td>\n      <td>-9.662314</td>\n      <td>428.923865</td>\n      <td>276.694229</td>\n      <td>-64.0</td>\n      <td>36000.0</td>\n      <td>53.878647</td>\n      <td>-11.658927</td>\n      <td>40000.0</td>\n      <td>False</td>\n      <td>True</td>\n      <td>False</td>\n    </tr>\n    <tr>\n      <th>109833</th>\n      <td>20942315</td>\n      <td>2023-08-27 12:20:38</td>\n      <td>ad5b90</td>\n      <td>53.787048</td>\n      <td>-10.055158</td>\n      <td>408.485877</td>\n      <td>276.324702</td>\n      <td>64.0</td>\n      <td>36000.0</td>\n      <td>53.898926</td>\n      <td>-12.067674</td>\n      <td>40000.0</td>\n      <td>True</td>\n      <td>False</td>\n      <td>False</td>\n    </tr>\n    <tr>\n      <th>109834</th>\n      <td>20942435</td>\n      <td>2023-08-27 12:22:38</td>\n      <td>ad5b90</td>\n      <td>53.811454</td>\n      <td>-10.442020</td>\n      <td>422.403470</td>\n      <td>276.115504</td>\n      <td>1024.0</td>\n      <td>37675.0</td>\n      <td>53.917694</td>\n      <td>-12.492711</td>\n      <td>40000.0</td>\n      <td>True</td>\n      <td>False</td>\n      <td>False</td>\n    </tr>\n    <tr>\n      <th>109835</th>\n      <td>20942798</td>\n      <td>2023-08-27 12:28:41</td>\n      <td>ad5b90</td>\n      <td>53.878647</td>\n      <td>-11.658927</td>\n      <td>429.958929</td>\n      <td>275.471917</td>\n      <td>128.0</td>\n      <td>40000.0</td>\n      <td>53.972897</td>\n      <td>-13.980587</td>\n      <td>40000.0</td>\n      <td>True</td>\n      <td>False</td>\n      <td>False</td>\n    </tr>\n  </tbody>\n</table>\n<p>109836 rows × 15 columns</p>\n</div>"
     },
     "execution_count": 3,
     "metadata": {},
     "output_type": "execute_result"
    }
   ],
   "source": [
    "data = pd.read_csv('Datasets/Cleaned_prepared_data.csv')\n",
    "data"
   ],
   "metadata": {
    "collapsed": false,
    "pycharm": {
     "name": "#%%\n"
    }
   }
  },
  {
   "cell_type": "code",
   "execution_count": 4,
   "outputs": [
    {
     "data": {
      "text/plain": "'Model trained successfully'"
     },
     "execution_count": 4,
     "metadata": {},
     "output_type": "execute_result"
    }
   ],
   "source": [
    "# Selecting the features and targets\n",
    "features = data[['latitude', 'longitude', 'baro_altitude']]\n",
    "targets = data[['latitude_in_10min', 'longitude_in_10min', 'baro_altitude_in_10min']]\n",
    "\n",
    "# Splitting the dataset into training and testing sets\n",
    "X_train, X_test, y_train, y_test = train_test_split(features, targets, test_size=0.2, random_state=42)\n",
    "\n",
    "# Creating a Linear Regression model\n",
    "linear_model = LinearRegression()\n",
    "\n",
    "# Training the model\n",
    "linear_model.fit(X_train, y_train)\n",
    "\n",
    "# The model is now trained and can be used for predictions\n",
    "\"Model trained successfully\""
   ],
   "metadata": {
    "collapsed": false,
    "pycharm": {
     "name": "#%%\n"
    }
   }
  },
  {
   "cell_type": "code",
   "execution_count": 5,
   "outputs": [
    {
     "data": {
      "text/plain": "(1086.2455298602806,\n 1084.1663513818426,\n 0.8628930650268422,\n 0.8636362673965845)"
     },
     "execution_count": 5,
     "metadata": {},
     "output_type": "execute_result"
    }
   ],
   "source": [
    "# Predictions on the training and testing sets\n",
    "train_predictions = linear_model.predict(X_train)\n",
    "test_predictions = linear_model.predict(X_test)\n",
    "\n",
    "# Evaluating the model\n",
    "mae_train = mean_absolute_error(y_train, train_predictions)\n",
    "mae_test = mean_absolute_error(y_test, test_predictions)\n",
    "r2_train = r2_score(y_train, train_predictions)\n",
    "r2_test = r2_score(y_test, test_predictions)\n",
    "\n",
    "(mae_train, mae_test, r2_train, r2_test)"
   ],
   "metadata": {
    "collapsed": false,
    "pycharm": {
     "name": "#%%\n"
    }
   }
  },
  {
   "cell_type": "code",
   "execution_count": 6,
   "outputs": [
    {
     "name": "stdout",
     "output_type": "stream",
     "text": [
      "Latitude metrics: 0.136108846876129 0.13430973177817074 0.9881322858675732 0.9884432508327954\n",
      "Longitude metrics: 0.17624104079539604 0.1743935567627768 0.9709089510340982 0.9704050176499958\n",
      "Altitude metrics: 3258.424239693179 3252.1903508569785 0.6296379581788532 0.6320605337069596\n"
     ]
    }
   ],
   "source": [
    "# Separating the predictions and true values for latitude and longitude\n",
    "train_lat_true, train_long_true, train_alt_true = y_train['latitude_in_10min'], y_train['longitude_in_10min'], y_train['baro_altitude_in_10min']\n",
    "test_lat_true, test_long_true, test_alt_true = y_test['latitude_in_10min'], y_test['longitude_in_10min'], y_test['baro_altitude_in_10min']\n",
    "train_lat_pred, train_long_pred, train_alt_pred = train_predictions[:, 0], train_predictions[:, 1], train_predictions[:, 2]\n",
    "test_lat_pred, test_long_pred, test_alt_pred = test_predictions[:, 0], test_predictions[:, 1], test_predictions[:, 2]\n",
    "\n",
    "# Calculating metrics for latitude\n",
    "mae_train_lat = mean_absolute_error(train_lat_true, train_lat_pred)\n",
    "mae_test_lat = mean_absolute_error(test_lat_true, test_lat_pred)\n",
    "r2_train_lat = r2_score(train_lat_true, train_lat_pred)\n",
    "r2_test_lat = r2_score(test_lat_true, test_lat_pred)\n",
    "\n",
    "# Calculating metrics for longitude\n",
    "mae_train_long = mean_absolute_error(train_long_true, train_long_pred)\n",
    "mae_test_long = mean_absolute_error(test_long_true, test_long_pred)\n",
    "r2_train_long = r2_score(train_long_true, train_long_pred)\n",
    "r2_test_long = r2_score(test_long_true, test_long_pred)\n",
    "\n",
    "# Calculating metrics for Altitude\n",
    "mae_train_alt = mean_absolute_error(train_alt_true, train_alt_pred)\n",
    "mae_test_alt = mean_absolute_error(test_alt_true, test_alt_pred)\n",
    "r2_train_alt = r2_score(train_alt_true, train_alt_pred)\n",
    "r2_test_alt = r2_score(test_alt_true, test_alt_pred)\n",
    "\n",
    "print(\"Latitude metrics:\", mae_train_lat, mae_test_lat, r2_train_lat, r2_test_lat)\n",
    "print(\"Longitude metrics:\", mae_train_long, mae_test_long, r2_train_long, r2_test_long)\n",
    "print(\"Altitude metrics:\", mae_train_alt, mae_test_alt, r2_train_alt, r2_test_alt)"
   ],
   "metadata": {
    "collapsed": false,
    "pycharm": {
     "name": "#%%\n"
    }
   }
  },
  {
   "cell_type": "code",
   "execution_count": 7,
   "outputs": [
    {
     "data": {
      "text/plain": "<Figure size 1200x600 with 1 Axes>",
      "image/png": "[encoded data removed]"
     },
     "metadata": {},
     "output_type": "display_data"
    }
   ],
   "source": [
    "# Selecting a few random samples from the test dataset for prediction\n",
    "np.random.seed(1)\n",
    "sample_indices = np.random.choice(X_test.index, size=5, replace=False)\n",
    "sample_data = X_test.loc[sample_indices]\n",
    "\n",
    "# Using the model to predict the latitude and longitude in 10 minutes\n",
    "predicted_positions = linear_model.predict(sample_data)\n",
    "\n",
    "# Actual positions for comparison\n",
    "actual_positions = y_test.loc[sample_indices]\n",
    "\n",
    "# Visualization\n",
    "plt.figure(figsize=(12, 6))\n",
    "\n",
    "# Plotting predicted positions\n",
    "plt.scatter(predicted_positions[:, 1], predicted_positions[:, 0], color='blue', label='Predicted Positions')\n",
    "\n",
    "# Plotting actual positions\n",
    "plt.scatter(actual_positions['longitude_in_10min'], actual_positions['latitude_in_10min'], color='red', label='Actual Positions')\n",
    "\n",
    "plt.xlabel('Longitude')\n",
    "plt.ylabel('Latitude')\n",
    "plt.title('Predicted vs Actual Positions')\n",
    "plt.legend()\n",
    "plt.grid(True)\n",
    "plt.show()"
   ],
   "metadata": {
    "collapsed": false,
    "pycharm": {
     "name": "#%%\n"
    }
   }
  },
  {
   "cell_type": "code",
   "execution_count": 8,
   "outputs": [
    {
     "data": {
      "text/plain": "   Actual Latitude  Predicted Latitude  Latitude Error  Actual Longitude  \\\n0        46.826337           46.817077        0.009261          0.943726   \n1        49.373474           49.136617        0.236857          1.904579   \n2        51.201141           51.274871        0.073730          3.623707   \n3        49.581299           49.439265        0.142034          2.523960   \n4        50.556708           50.645257        0.088549          2.919097   \n5        42.779831           42.837734        0.057904          1.520776   \n6        48.753740           48.534930        0.218810          2.181148   \n7        49.020158           48.944434        0.075724          1.465880   \n8        48.893188           48.946477        0.053289          1.881831   \n9        46.097672           46.141114        0.043443          0.651744   \n\n   Predicted Longitude  Longitude Error  Actual Altitude  Predicted Altitude  \\\n0             1.143012         0.199286          38025.0        37470.962058   \n1             1.809358         0.095220          35975.0        32071.985128   \n2             3.725362         0.101656          20475.0        24230.967569   \n3             2.385896         0.138065          40000.0        33889.787908   \n4             2.631289         0.287808          27900.0        29193.942063   \n5             1.369319         0.151457          34250.0        32054.196955   \n6             2.286458         0.105310          35950.0        32745.074353   \n7             1.455353         0.010527          40000.0        35234.459434   \n8             1.997549         0.115718          38000.0        33584.636530   \n9             0.876648         0.224904          36000.0        37401.164322   \n\n   Altitude Error  \n0      554.037942  \n1     3903.014872  \n2     3755.967569  \n3     6110.212092  \n4     1293.942063  \n5     2195.803045  \n6     3204.925647  \n7     4765.540566  \n8     4415.363470  \n9     1401.164322  ",
      "text/html": "<div>\n<style scoped>\n    .dataframe tbody tr th:only-of-type {\n        vertical-align: middle;\n    }\n\n    .dataframe tbody tr th {\n        vertical-align: top;\n    }\n\n    .dataframe thead th {\n        text-align: right;\n    }\n</style>\n<table border=\"1\" class=\"dataframe\">\n  <thead>\n    <tr style=\"text-align: right;\">\n      <th></th>\n      <th>Actual Latitude</th>\n      <th>Predicted Latitude</th>\n      <th>Latitude Error</th>\n      <th>Actual Longitude</th>\n      <th>Predicted Longitude</th>\n      <th>Longitude Error</th>\n      <th>Actual Altitude</th>\n      <th>Predicted Altitude</th>\n      <th>Altitude Error</th>\n    </tr>\n  </thead>\n  <tbody>\n    <tr>\n      <th>0</th>\n      <td>46.826337</td>\n      <td>46.817077</td>\n      <td>0.009261</td>\n      <td>0.943726</td>\n      <td>1.143012</td>\n      <td>0.199286</td>\n      <td>38025.0</td>\n      <td>37470.962058</td>\n      <td>554.037942</td>\n    </tr>\n    <tr>\n      <th>1</th>\n      <td>49.373474</td>\n      <td>49.136617</td>\n      <td>0.236857</td>\n      <td>1.904579</td>\n      <td>1.809358</td>\n      <td>0.095220</td>\n      <td>35975.0</td>\n      <td>32071.985128</td>\n      <td>3903.014872</td>\n    </tr>\n    <tr>\n      <th>2</th>\n      <td>51.201141</td>\n      <td>51.274871</td>\n      <td>0.073730</td>\n      <td>3.623707</td>\n      <td>3.725362</td>\n      <td>0.101656</td>\n      <td>20475.0</td>\n      <td>24230.967569</td>\n      <td>3755.967569</td>\n    </tr>\n    <tr>\n      <th>3</th>\n      <td>49.581299</td>\n      <td>49.439265</td>\n      <td>0.142034</td>\n      <td>2.523960</td>\n      <td>2.385896</td>\n      <td>0.138065</td>\n      <td>40000.0</td>\n      <td>33889.787908</td>\n      <td>6110.212092</td>\n    </tr>\n    <tr>\n      <th>4</th>\n      <td>50.556708</td>\n      <td>50.645257</td>\n      <td>0.088549</td>\n      <td>2.919097</td>\n      <td>2.631289</td>\n      <td>0.287808</td>\n      <td>27900.0</td>\n      <td>29193.942063</td>\n      <td>1293.942063</td>\n    </tr>\n    <tr>\n      <th>5</th>\n      <td>42.779831</td>\n      <td>42.837734</td>\n      <td>0.057904</td>\n      <td>1.520776</td>\n      <td>1.369319</td>\n      <td>0.151457</td>\n      <td>34250.0</td>\n      <td>32054.196955</td>\n      <td>2195.803045</td>\n    </tr>\n    <tr>\n      <th>6</th>\n      <td>48.753740</td>\n      <td>48.534930</td>\n      <td>0.218810</td>\n      <td>2.181148</td>\n      <td>2.286458</td>\n      <td>0.105310</td>\n      <td>35950.0</td>\n      <td>32745.074353</td>\n      <td>3204.925647</td>\n    </tr>\n    <tr>\n      <th>7</th>\n      <td>49.020158</td>\n      <td>48.944434</td>\n      <td>0.075724</td>\n      <td>1.465880</td>\n      <td>1.455353</td>\n      <td>0.010527</td>\n      <td>40000.0</td>\n      <td>35234.459434</td>\n      <td>4765.540566</td>\n    </tr>\n    <tr>\n      <th>8</th>\n      <td>48.893188</td>\n      <td>48.946477</td>\n      <td>0.053289</td>\n      <td>1.881831</td>\n      <td>1.997549</td>\n      <td>0.115718</td>\n      <td>38000.0</td>\n      <td>33584.636530</td>\n      <td>4415.363470</td>\n    </tr>\n    <tr>\n      <th>9</th>\n      <td>46.097672</td>\n      <td>46.141114</td>\n      <td>0.043443</td>\n      <td>0.651744</td>\n      <td>0.876648</td>\n      <td>0.224904</td>\n      <td>36000.0</td>\n      <td>37401.164322</td>\n      <td>1401.164322</td>\n    </tr>\n  </tbody>\n</table>\n</div>"
     },
     "execution_count": 8,
     "metadata": {},
     "output_type": "execute_result"
    }
   ],
   "source": [
    "# Selecting a few example data points from the test set\n",
    "example_data = X_test.sample(10, random_state=1)\n",
    "\n",
    "# Actual values for comparison\n",
    "actual_values = y_test.loc[example_data.index]\n",
    "\n",
    "# Making predictions\n",
    "predictions = linear_model.predict(example_data)\n",
    "\n",
    "# Creating a DataFrame for comparison\n",
    "comparison = pd.DataFrame({\n",
    "    'Actual Latitude': actual_values['latitude_in_10min'],\n",
    "    'Predicted Latitude': predictions[:, 0],\n",
    "    'Latitude Error': np.abs(actual_values['latitude_in_10min'] - predictions[:, 0]),\n",
    "    'Actual Longitude': actual_values['longitude_in_10min'],\n",
    "    'Predicted Longitude': predictions[:, 1],\n",
    "    'Longitude Error': np.abs(actual_values['longitude_in_10min'] - predictions[:, 1]),\n",
    "    'Actual Altitude': actual_values['baro_altitude_in_10min'],\n",
    "    'Predicted Altitude': predictions[:, 2],\n",
    "    'Altitude Error': np.abs(actual_values['baro_altitude_in_10min'] - predictions[:, 2])\n",
    "})\n",
    "\n",
    "comparison.reset_index(drop=True, inplace=True)\n",
    "comparison"
   ],
   "metadata": {
    "collapsed": false,
    "pycharm": {
     "name": "#%%\n"
    }
   }
  },
  {
   "cell_type": "code",
   "execution_count": 8,
   "outputs": [],
   "source": [],
   "metadata": {
    "collapsed": false,
    "pycharm": {
     "name": "#%%\n"
    }
   }
  }
 ],
 "metadata": {
  "kernelspec": {
   "display_name": "Python 3",
   "language": "python",
   "name": "python3"
  },
  "language_info": {
   "codemirror_mode": {
    "name": "ipython",
    "version": 2
   },
   "file_extension": ".py",
   "mimetype": "text/x-python",
   "name": "python",
   "nbconvert_exporter": "python",
   "pygments_lexer": "ipython2",
   "version": "2.7.6"
  }
 },
 "nbformat": 4,
 "nbformat_minor": 0
}
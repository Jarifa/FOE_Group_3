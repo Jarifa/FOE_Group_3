{
 "cells": [
  {
   "cell_type": "code",
   "execution_count": 1,
   "metadata": {
    "collapsed": true
   },
   "outputs": [],
   "source": [
    "import pandas as pd\n",
    "from sklearn.model_selection import train_test_split\n",
    "from sklearn.linear_model import LinearRegression\n",
    "from sklearn.metrics import mean_absolute_error, r2_score\n",
    "import numpy as np\n",
    "import matplotlib.pyplot as plt"
   ]
  },
  {
   "cell_type": "code",
   "execution_count": 2,
   "outputs": [
    {
     "data": {
      "text/plain": "      Unnamed: 0            timestamp  icao24   latitude  longitude  \\\n0        1081344  2022-10-30 21:29:07  484133  50.280304   2.691000   \n1        1081404  2022-10-30 21:30:07  484133  50.403076   2.812572   \n2        1081464  2022-10-30 21:31:07  484133  50.525436   2.934795   \n3        1081526  2022-10-30 21:32:09  484133  50.651023   3.060657   \n4        1081586  2022-10-30 21:33:09  484133  50.777573   3.188336   \n...          ...                  ...     ...        ...        ...   \n9391      703333  2022-10-24 06:48:46  503d40  45.536840  14.723153   \n9392      703395  2022-10-24 06:49:48  503d40  45.431396  14.840437   \n9393      703457  2022-10-24 06:50:50  503d40  45.326936  14.956010   \n9394      703521  2022-10-24 06:51:54  503d40  45.218857  15.075008   \n9395      703586  2022-10-24 06:52:59  503d40  45.109451  15.198277   \n\n      ground_speed       track  vertical_rate  baro_altitude  \\\n0       524.069199   32.295105            0.0        34000.0   \n1       523.759989   32.446022          -64.0        34000.0   \n2       525.140480   32.479560         -960.0        33000.0   \n3       530.969409   32.462916         -896.0        32025.0   \n4       535.111675   32.561525        -1984.0        30625.0   \n...            ...         ...            ...            ...   \n9391    466.511119  141.877264            0.0        39025.0   \n9392    464.490718  141.995192            0.0        39000.0   \n9393    461.069011  142.135915            0.0        39000.0   \n9394    466.068262  142.146580          -64.0        38975.0   \n9395    473.358863  139.884474            0.0        39025.0   \n\n      latitude_in_10min  longitude_in_10min  baro_altitude_in_10min  Climbing  \\\n0             51.483078            3.806911                 17550.0     False   \n1             51.590744            3.887824                 15500.0     False   \n2             51.692210            3.963928                 13425.0     False   \n3             51.791087            4.038773                 11300.0     False   \n4             51.883118            4.107254                 10500.0     False   \n...                 ...                 ...                     ...       ...   \n9391          44.368515           16.049717                 39000.0     False   \n9392          44.368515           16.049717                 39000.0     False   \n9393          44.177608           16.264147                 39000.0     False   \n9394          44.177608           16.264147                 39000.0     False   \n9395          43.974408           16.490609                 39025.0     False   \n\n      Descending  Cruise  \n0          False    True  \n1           True   False  \n2           True   False  \n3           True   False  \n4           True   False  \n...          ...     ...  \n9391       False    True  \n9392       False    True  \n9393       False    True  \n9394        True   False  \n9395       False    True  \n\n[9396 rows x 15 columns]",
      "text/html": "<div>\n<style scoped>\n    .dataframe tbody tr th:only-of-type {\n        vertical-align: middle;\n    }\n\n    .dataframe tbody tr th {\n        vertical-align: top;\n    }\n\n    .dataframe thead th {\n        text-align: right;\n    }\n</style>\n<table border=\"1\" class=\"dataframe\">\n  <thead>\n    <tr style=\"text-align: right;\">\n      <th></th>\n      <th>Unnamed: 0</th>\n      <th>timestamp</th>\n      <th>icao24</th>\n      <th>latitude</th>\n      <th>longitude</th>\n      <th>ground_speed</th>\n      <th>track</th>\n      <th>vertical_rate</th>\n      <th>baro_altitude</th>\n      <th>latitude_in_10min</th>\n      <th>longitude_in_10min</th>\n      <th>baro_altitude_in_10min</th>\n      <th>Climbing</th>\n      <th>Descending</th>\n      <th>Cruise</th>\n    </tr>\n  </thead>\n  <tbody>\n    <tr>\n      <th>0</th>\n      <td>1081344</td>\n      <td>2022-10-30 21:29:07</td>\n      <td>484133</td>\n      <td>50.280304</td>\n      <td>2.691000</td>\n      <td>524.069199</td>\n      <td>32.295105</td>\n      <td>0.0</td>\n      <td>34000.0</td>\n      <td>51.483078</td>\n      <td>3.806911</td>\n      <td>17550.0</td>\n      <td>False</td>\n      <td>False</td>\n      <td>True</td>\n    </tr>\n    <tr>\n      <th>1</th>\n      <td>1081404</td>\n      <td>2022-10-30 21:30:07</td>\n      <td>484133</td>\n      <td>50.403076</td>\n      <td>2.812572</td>\n      <td>523.759989</td>\n      <td>32.446022</td>\n      <td>-64.0</td>\n      <td>34000.0</td>\n      <td>51.590744</td>\n      <td>3.887824</td>\n      <td>15500.0</td>\n      <td>False</td>\n      <td>True</td>\n      <td>False</td>\n    </tr>\n    <tr>\n      <th>2</th>\n      <td>1081464</td>\n      <td>2022-10-30 21:31:07</td>\n      <td>484133</td>\n      <td>50.525436</td>\n      <td>2.934795</td>\n      <td>525.140480</td>\n      <td>32.479560</td>\n      <td>-960.0</td>\n      <td>33000.0</td>\n      <td>51.692210</td>\n      <td>3.963928</td>\n      <td>13425.0</td>\n      <td>False</td>\n      <td>True</td>\n      <td>False</td>\n    </tr>\n    <tr>\n      <th>3</th>\n      <td>1081526</td>\n      <td>2022-10-30 21:32:09</td>\n      <td>484133</td>\n      <td>50.651023</td>\n      <td>3.060657</td>\n      <td>530.969409</td>\n      <td>32.462916</td>\n      <td>-896.0</td>\n      <td>32025.0</td>\n      <td>51.791087</td>\n      <td>4.038773</td>\n      <td>11300.0</td>\n      <td>False</td>\n      <td>True</td>\n      <td>False</td>\n    </tr>\n    <tr>\n      <th>4</th>\n      <td>1081586</td>\n      <td>2022-10-30 21:33:09</td>\n      <td>484133</td>\n      <td>50.777573</td>\n      <td>3.188336</td>\n      <td>535.111675</td>\n      <td>32.561525</td>\n      <td>-1984.0</td>\n      <td>30625.0</td>\n      <td>51.883118</td>\n      <td>4.107254</td>\n      <td>10500.0</td>\n      <td>False</td>\n      <td>True</td>\n      <td>False</td>\n    </tr>\n    <tr>\n      <th>...</th>\n      <td>...</td>\n      <td>...</td>\n      <td>...</td>\n      <td>...</td>\n      <td>...</td>\n      <td>...</td>\n      <td>...</td>\n      <td>...</td>\n      <td>...</td>\n      <td>...</td>\n      <td>...</td>\n      <td>...</td>\n      <td>...</td>\n      <td>...</td>\n      <td>...</td>\n    </tr>\n    <tr>\n      <th>9391</th>\n      <td>703333</td>\n      <td>2022-10-24 06:48:46</td>\n      <td>503d40</td>\n      <td>45.536840</td>\n      <td>14.723153</td>\n      <td>466.511119</td>\n      <td>141.877264</td>\n      <td>0.0</td>\n      <td>39025.0</td>\n      <td>44.368515</td>\n      <td>16.049717</td>\n      <td>39000.0</td>\n      <td>False</td>\n      <td>False</td>\n      <td>True</td>\n    </tr>\n    <tr>\n      <th>9392</th>\n      <td>703395</td>\n      <td>2022-10-24 06:49:48</td>\n      <td>503d40</td>\n      <td>45.431396</td>\n      <td>14.840437</td>\n      <td>464.490718</td>\n      <td>141.995192</td>\n      <td>0.0</td>\n      <td>39000.0</td>\n      <td>44.368515</td>\n      <td>16.049717</td>\n      <td>39000.0</td>\n      <td>False</td>\n      <td>False</td>\n      <td>True</td>\n    </tr>\n    <tr>\n      <th>9393</th>\n      <td>703457</td>\n      <td>2022-10-24 06:50:50</td>\n      <td>503d40</td>\n      <td>45.326936</td>\n      <td>14.956010</td>\n      <td>461.069011</td>\n      <td>142.135915</td>\n      <td>0.0</td>\n      <td>39000.0</td>\n      <td>44.177608</td>\n      <td>16.264147</td>\n      <td>39000.0</td>\n      <td>False</td>\n      <td>False</td>\n      <td>True</td>\n    </tr>\n    <tr>\n      <th>9394</th>\n      <td>703521</td>\n      <td>2022-10-24 06:51:54</td>\n      <td>503d40</td>\n      <td>45.218857</td>\n      <td>15.075008</td>\n      <td>466.068262</td>\n      <td>142.146580</td>\n      <td>-64.0</td>\n      <td>38975.0</td>\n      <td>44.177608</td>\n      <td>16.264147</td>\n      <td>39000.0</td>\n      <td>False</td>\n      <td>True</td>\n      <td>False</td>\n    </tr>\n    <tr>\n      <th>9395</th>\n      <td>703586</td>\n      <td>2022-10-24 06:52:59</td>\n      <td>503d40</td>\n      <td>45.109451</td>\n      <td>15.198277</td>\n      <td>473.358863</td>\n      <td>139.884474</td>\n      <td>0.0</td>\n      <td>39025.0</td>\n      <td>43.974408</td>\n      <td>16.490609</td>\n      <td>39025.0</td>\n      <td>False</td>\n      <td>False</td>\n      <td>True</td>\n    </tr>\n  </tbody>\n</table>\n<p>9396 rows × 15 columns</p>\n</div>"
     },
     "execution_count": 2,
     "metadata": {},
     "output_type": "execute_result"
    }
   ],
   "source": [
    "data = pd.read_csv('Datasets/Cleaned_prepared_data.csv')\n",
    "data"
   ],
   "metadata": {
    "collapsed": false
   }
  },
  {
   "cell_type": "code",
   "execution_count": 2,
   "outputs": [],
   "source": [],
   "metadata": {
    "collapsed": false
   }
  },
  {
   "cell_type": "code",
   "execution_count": 3,
   "outputs": [
    {
     "data": {
      "text/plain": "'Model trained successfully'"
     },
     "execution_count": 3,
     "metadata": {},
     "output_type": "execute_result"
    }
   ],
   "source": [
    "# Selecting the features and targets\n",
    "features = data[['latitude', 'longitude', 'baro_altitude']]\n",
    "targets = data[['latitude_in_10min', 'longitude_in_10min', 'baro_altitude_in_10min']]\n",
    "\n",
    "# Splitting the dataset into training and testing sets\n",
    "X_train, X_test, y_train, y_test = train_test_split(features, targets, test_size=0.2, random_state=42)\n",
    "\n",
    "# Creating a Linear Regression model\n",
    "linear_model = LinearRegression()\n",
    "\n",
    "# Training the model\n",
    "linear_model.fit(X_train, y_train)\n",
    "\n",
    "# The model is now trained and can be used for predictions\n",
    "\"Model trained successfully\""
   ],
   "metadata": {
    "collapsed": false
   }
  },
  {
   "cell_type": "code",
   "execution_count": 4,
   "outputs": [
    {
     "data": {
      "text/plain": "(1195.9735040775283, 1201.399400520094, 0.7595346511302977, 0.7619417342613609)"
     },
     "execution_count": 4,
     "metadata": {},
     "output_type": "execute_result"
    }
   ],
   "source": [
    "# Predictions on the training and testing sets\n",
    "train_predictions = linear_model.predict(X_train)\n",
    "test_predictions = linear_model.predict(X_test)\n",
    "\n",
    "# Evaluating the model\n",
    "mae_train = mean_absolute_error(y_train, train_predictions)\n",
    "mae_test = mean_absolute_error(y_test, test_predictions)\n",
    "r2_train = r2_score(y_train, train_predictions)\n",
    "r2_test = r2_score(y_test, test_predictions)\n",
    "\n",
    "(mae_train, mae_test, r2_train, r2_test)"
   ],
   "metadata": {
    "collapsed": false
   }
  },
  {
   "cell_type": "code",
   "execution_count": 5,
   "outputs": [
    {
     "name": "stdout",
     "output_type": "stream",
     "text": [
      "Latitude metrics: 0.6504229742462833 0.6482378914341893 0.9270818492720301 0.928817080199455\n",
      "Longitude metrics: 0.2861221163477633 0.2860674610619336 0.9853904142067594 0.9849634840306989\n",
      "Altitude metrics: 3586.983967141986 3603.263896207791 0.3661316899121039 0.3720446385539291\n"
     ]
    }
   ],
   "source": [
    "# Separating the predictions and true values for latitude and longitude\n",
    "train_lat_true, train_long_true, train_alt_true = y_train['latitude_in_10min'], y_train['longitude_in_10min'], y_train['baro_altitude_in_10min']\n",
    "test_lat_true, test_long_true, test_alt_true = y_test['latitude_in_10min'], y_test['longitude_in_10min'], y_test['baro_altitude_in_10min']\n",
    "train_lat_pred, train_long_pred, train_alt_pred = train_predictions[:, 0], train_predictions[:, 1], train_predictions[:, 2]\n",
    "test_lat_pred, test_long_pred, test_alt_pred = test_predictions[:, 0], test_predictions[:, 1], test_predictions[:, 2]\n",
    "\n",
    "# Calculating metrics for latitude\n",
    "mae_train_lat = mean_absolute_error(train_lat_true, train_lat_pred)\n",
    "mae_test_lat = mean_absolute_error(test_lat_true, test_lat_pred)\n",
    "r2_train_lat = r2_score(train_lat_true, train_lat_pred)\n",
    "r2_test_lat = r2_score(test_lat_true, test_lat_pred)\n",
    "\n",
    "# Calculating metrics for longitude\n",
    "mae_train_long = mean_absolute_error(train_long_true, train_long_pred)\n",
    "mae_test_long = mean_absolute_error(test_long_true, test_long_pred)\n",
    "r2_train_long = r2_score(train_long_true, train_long_pred)\n",
    "r2_test_long = r2_score(test_long_true, test_long_pred)\n",
    "\n",
    "# Calculating metrics for Altitude\n",
    "mae_train_alt = mean_absolute_error(train_alt_true, train_alt_pred)\n",
    "mae_test_alt = mean_absolute_error(test_alt_true, test_alt_pred)\n",
    "r2_train_alt = r2_score(train_alt_true, train_alt_pred)\n",
    "r2_test_alt = r2_score(test_alt_true, test_alt_pred)\n",
    "\n",
    "print(\"Latitude metrics:\", mae_train_lat, mae_test_lat, r2_train_lat, r2_test_lat)\n",
    "print(\"Longitude metrics:\", mae_train_long, mae_test_long, r2_train_long, r2_test_long)\n",
    "print(\"Altitude metrics:\", mae_train_alt, mae_test_alt, r2_train_alt, r2_test_alt)"
   ],
   "metadata": {
    "collapsed": false
   }
  },
  {
   "cell_type": "code",
   "execution_count": 6,
   "outputs": [
    {
     "data": {
      "text/plain": "<Figure size 1200x600 with 1 Axes>",
      "image/png": "[encoded data removed]"
     },
     "metadata": {},
     "output_type": "display_data"
    }
   ],
   "source": [
    "# Selecting a few random samples from the test dataset for prediction\n",
    "np.random.seed(2)\n",
    "sample_indices = np.random.choice(X_test.index, size=5, replace=False)\n",
    "sample_data = X_test.loc[sample_indices]\n",
    "\n",
    "# Using the model to predict the latitude and longitude in 10 minutes\n",
    "predicted_positions = linear_model.predict(sample_data)\n",
    "\n",
    "# Actual positions for comparison\n",
    "actual_positions = y_test.loc[sample_indices]\n",
    "\n",
    "# Visualization\n",
    "plt.figure(figsize=(12, 6))\n",
    "\n",
    "# Plotting predicted positions\n",
    "plt.scatter(predicted_positions[:, 1], predicted_positions[:, 0], color='blue', label='Predicted Positions')\n",
    "\n",
    "# Plotting actual positions\n",
    "plt.scatter(actual_positions['longitude_in_10min'], actual_positions['latitude_in_10min'], color='red', label='Actual Positions')\n",
    "\n",
    "plt.xlabel('Longitude')\n",
    "plt.ylabel('Latitude')\n",
    "plt.title('Predicted vs Actual Positions')\n",
    "plt.legend()\n",
    "plt.grid(True)\n",
    "plt.show()"
   ],
   "metadata": {
    "collapsed": false
   }
  },
  {
   "cell_type": "code",
   "execution_count": 7,
   "outputs": [
    {
     "data": {
      "text/plain": "   Actual Latitude  Predicted Latitude  Latitude Error  Actual Longitude  \\\n0        47.339539           48.035635        0.696096         12.485550   \n1        49.907397           49.540358        0.367039          2.398212   \n2        45.234949           44.671461        0.563488          1.162340   \n3        48.648345           50.223814        1.575469          2.384901   \n4        45.227315           44.643744        0.583571          1.064267   \n\n   Predicted Longitude  Longitude Error  Actual Altitude  Predicted Altitude  \\\n0            12.305979         0.179571          37350.0        36529.465597   \n1             1.793271         0.604941          36000.0        31433.887373   \n2             1.187658         0.025318          36000.0        37075.862809   \n3             3.732281         1.347380          37000.0        31535.833386   \n4             1.207378         0.143111          36000.0        37114.393963   \n\n   Altitude Error  \n0      820.534403  \n1     4566.112627  \n2     1075.862809  \n3     5464.166614  \n4     1114.393963  ",
      "text/html": "<div>\n<style scoped>\n    .dataframe tbody tr th:only-of-type {\n        vertical-align: middle;\n    }\n\n    .dataframe tbody tr th {\n        vertical-align: top;\n    }\n\n    .dataframe thead th {\n        text-align: right;\n    }\n</style>\n<table border=\"1\" class=\"dataframe\">\n  <thead>\n    <tr style=\"text-align: right;\">\n      <th></th>\n      <th>Actual Latitude</th>\n      <th>Predicted Latitude</th>\n      <th>Latitude Error</th>\n      <th>Actual Longitude</th>\n      <th>Predicted Longitude</th>\n      <th>Longitude Error</th>\n      <th>Actual Altitude</th>\n      <th>Predicted Altitude</th>\n      <th>Altitude Error</th>\n    </tr>\n  </thead>\n  <tbody>\n    <tr>\n      <th>0</th>\n      <td>47.339539</td>\n      <td>48.035635</td>\n      <td>0.696096</td>\n      <td>12.485550</td>\n      <td>12.305979</td>\n      <td>0.179571</td>\n      <td>37350.0</td>\n      <td>36529.465597</td>\n      <td>820.534403</td>\n    </tr>\n    <tr>\n      <th>1</th>\n      <td>49.907397</td>\n      <td>49.540358</td>\n      <td>0.367039</td>\n      <td>2.398212</td>\n      <td>1.793271</td>\n      <td>0.604941</td>\n      <td>36000.0</td>\n      <td>31433.887373</td>\n      <td>4566.112627</td>\n    </tr>\n    <tr>\n      <th>2</th>\n      <td>45.234949</td>\n      <td>44.671461</td>\n      <td>0.563488</td>\n      <td>1.162340</td>\n      <td>1.187658</td>\n      <td>0.025318</td>\n      <td>36000.0</td>\n      <td>37075.862809</td>\n      <td>1075.862809</td>\n    </tr>\n    <tr>\n      <th>3</th>\n      <td>48.648345</td>\n      <td>50.223814</td>\n      <td>1.575469</td>\n      <td>2.384901</td>\n      <td>3.732281</td>\n      <td>1.347380</td>\n      <td>37000.0</td>\n      <td>31535.833386</td>\n      <td>5464.166614</td>\n    </tr>\n    <tr>\n      <th>4</th>\n      <td>45.227315</td>\n      <td>44.643744</td>\n      <td>0.583571</td>\n      <td>1.064267</td>\n      <td>1.207378</td>\n      <td>0.143111</td>\n      <td>36000.0</td>\n      <td>37114.393963</td>\n      <td>1114.393963</td>\n    </tr>\n  </tbody>\n</table>\n</div>"
     },
     "execution_count": 7,
     "metadata": {},
     "output_type": "execute_result"
    }
   ],
   "source": [
    "# Selecting a few example data points from the test set\n",
    "example_data = X_test.sample(5, random_state=1)\n",
    "\n",
    "# Actual values for comparison\n",
    "actual_values = y_test.loc[example_data.index]\n",
    "\n",
    "# Making predictions\n",
    "predictions = linear_model.predict(example_data)\n",
    "\n",
    "# Creating a DataFrame for comparison\n",
    "comparison = pd.DataFrame({\n",
    "    'Actual Latitude': actual_values['latitude_in_10min'],\n",
    "    'Predicted Latitude': predictions[:, 0],\n",
    "    'Latitude Error': np.abs(actual_values['latitude_in_10min'] - predictions[:, 0]),\n",
    "    'Actual Longitude': actual_values['longitude_in_10min'],\n",
    "    'Predicted Longitude': predictions[:, 1],\n",
    "    'Longitude Error': np.abs(actual_values['longitude_in_10min'] - predictions[:, 1]),\n",
    "    'Actual Altitude': actual_values['baro_altitude_in_10min'],\n",
    "    'Predicted Altitude': predictions[:, 2],\n",
    "    'Altitude Error': np.abs(actual_values['baro_altitude_in_10min'] - predictions[:, 2])\n",
    "})\n",
    "\n",
    "comparison.reset_index(drop=True, inplace=True)\n",
    "comparison"
   ],
   "metadata": {
    "collapsed": false
   }
  },
  {
   "cell_type": "code",
   "execution_count": 7,
   "outputs": [],
   "source": [],
   "metadata": {
    "collapsed": false
   }
  }
 ],
 "metadata": {
  "kernelspec": {
   "display_name": "Python 3",
   "language": "python",
   "name": "python3"
  },
  "language_info": {
   "codemirror_mode": {
    "name": "ipython",
    "version": 2
   },
   "file_extension": ".py",
   "mimetype": "text/x-python",
   "name": "python",
   "nbconvert_exporter": "python",
   "pygments_lexer": "ipython2",
   "version": "2.7.6"
  }
 },
 "nbformat": 4,
 "nbformat_minor": 0
}

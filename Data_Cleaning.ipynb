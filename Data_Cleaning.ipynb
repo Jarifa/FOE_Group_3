{
 "cells": [
  {
   "cell_type": "code",
   "execution_count": 1,
   "metadata": {
    "pycharm": {
     "name": "#%%\n"
    }
   },
   "outputs": [],
   "source": [
    "import pandas as pd\n",
    "from datetime import timedelta\n",
    "import numpy as np"
   ]
  },
  {
   "cell_type": "code",
   "execution_count": 2,
   "metadata": {
    "pycharm": {
     "name": "#%%\n"
    }
   },
   "outputs": [
    {
     "name": "stderr",
     "output_type": "stream",
     "text": [
      "F:\\WIN temp files\\ipykernel_18932\\2559509712.py:1: DtypeWarning: Columns (3) have mixed types. Specify dtype option on import or set low_memory=False.\n",
      "  flights_df = pd.read_csv('Datasets/Merged_Flights.csv')\n"
     ]
    },
    {
     "data": {
      "text/plain": [
       "(26490448, 18)"
      ]
     },
     "execution_count": 2,
     "metadata": {},
     "output_type": "execute_result"
    }
   ],
   "source": [
    "flights_df = pd.read_csv('Datasets/Merged_Flights.csv')\n",
    "flights_df.shape"
   ]
  },
  {
   "cell_type": "code",
   "execution_count": 3,
   "metadata": {
    "pycharm": {
     "name": "#%%\n"
    }
   },
   "outputs": [
    {
     "data": {
      "text/plain": [
       "(19486764, 8)"
      ]
     },
     "execution_count": 3,
     "metadata": {},
     "output_type": "execute_result"
    }
   ],
   "source": [
    "flights_df.drop_duplicates(subset=['icao24', 'last_position'], inplace = True)\n",
    "flights_df = flights_df[['timestamp', 'icao24', 'latitude', 'longitude', 'ground_speed', 'track', 'vertical_rate', 'baro_altitude']]\n",
    "flights_df.shape"
   ]
  },
  {
   "cell_type": "code",
   "execution_count": 4,
   "metadata": {
    "pycharm": {
     "name": "#%%\n"
    }
   },
   "outputs": [
    {
     "data": {
      "text/plain": [
       "(15274354, 8)"
      ]
     },
     "execution_count": 4,
     "metadata": {},
     "output_type": "execute_result"
    }
   ],
   "source": [
    "\n",
    "flights_df = flights_df[(flights_df['longitude'] <= 20) & (flights_df['longitude'] >= -20)]\n",
    "flights_df = flights_df[(flights_df['baro_altitude'] >= 10000) & (flights_df['baro_altitude'] <= 50000)]\n",
    "flights_df = flights_df[(flights_df['vertical_rate'] >= -4500) & (flights_df['vertical_rate'] <= 4500)]\n",
    "flights_df.shape"
   ]
  },
  {
   "cell_type": "code",
   "execution_count": 5,
   "metadata": {
    "pycharm": {
     "name": "#%%\n"
    }
   },
   "outputs": [
    {
     "data": {
      "text/plain": [
       "(15274354, 8)"
      ]
     },
     "execution_count": 5,
     "metadata": {},
     "output_type": "execute_result"
    }
   ],
   "source": [
    "# Convert 'timestamp' and 'last_position' to datetime\n",
    "flights_df['timestamp'] = pd.to_datetime(flights_df['timestamp'])\n",
    "flights_df.shape"
   ]
  },
  {
   "cell_type": "code",
   "execution_count": 6,
   "metadata": {
    "pycharm": {
     "name": "#%%\n"
    }
   },
   "outputs": [
    {
     "data": {
      "text/plain": [
       "(timestamp        0\n",
       " icao24           0\n",
       " latitude         0\n",
       " longitude        0\n",
       " ground_speed     0\n",
       " track            0\n",
       " vertical_rate    0\n",
       " baro_altitude    0\n",
       " dtype: int64,\n",
       " (15274354, 8))"
      ]
     },
     "execution_count": 6,
     "metadata": {},
     "output_type": "execute_result"
    }
   ],
   "source": [
    "flights_df.isnull().sum(), flights_df.shape"
   ]
  },
  {
   "cell_type": "code",
   "execution_count": 7,
   "metadata": {
    "pycharm": {
     "name": "#%%\n"
    }
   },
   "outputs": [
    {
     "data": {
      "text/plain": [
       "(timestamp        0\n",
       " icao24           0\n",
       " latitude         0\n",
       " longitude        0\n",
       " ground_speed     0\n",
       " track            0\n",
       " vertical_rate    0\n",
       " baro_altitude    0\n",
       " dtype: int64,\n",
       " (15274354, 8))"
      ]
     },
     "execution_count": 7,
     "metadata": {},
     "output_type": "execute_result"
    }
   ],
   "source": [
    "flights_df.dropna(inplace = True)\n",
    "flights_df.isnull().sum(), flights_df.shape"
   ]
  },
  {
   "cell_type": "code",
   "execution_count": null,
   "outputs": [],
   "source": [
    "flights_df_sorted = flights_df.sort_values(by=['icao24', 'timestamp'])"
   ],
   "metadata": {
    "collapsed": false,
    "pycharm": {
     "name": "#%%\n"
    }
   }
  },
  {
   "cell_type": "code",
   "execution_count": null,
   "outputs": [],
   "source": [
    "# Downsampling the dataset by keeping one in every 120 data points\n",
    "downsampled_df = flights_df_sorted.iloc[::120, :]\n",
    "downsampled_df.shape"
   ],
   "metadata": {
    "collapsed": false,
    "pycharm": {
     "name": "#%%\n"
    }
   }
  },
  {
   "cell_type": "code",
   "execution_count": null,
   "outputs": [],
   "source": [
    "# Function to find the row with the closest timestamp to the target time\n",
    "def find_first_future_row(df, target_time, icao24):\n",
    "    # finds the first row that matches the original row time + 10 minutes\n",
    "    future_rows = df[(df['icao24'] == icao24) & (df['timestamp'] >= target_time) & (df['timestamp'] <= target_time + timedelta(minutes=2))]\n",
    "    # returns the row if it exists, otherwise returns None (to filter nan values if no future point exists)\n",
    "    return future_rows.iloc[0] if not future_rows.empty else None\n",
    "\n",
    "# Adding new columns for future position and altitude\n",
    "downsampled_df['latitude_in_10min'] = np.nan\n",
    "downsampled_df['longitude_in_10min'] = np.nan\n",
    "downsampled_df['baro_altitude_in_10min'] = np.nan\n",
    "\n",
    "rows = downsampled_df.shape[0]\n",
    "n=0\n",
    "# Iterating over each row in the subset\n",
    "for index, row in downsampled_df.iterrows():\n",
    "    future_time = row['timestamp'] + timedelta(minutes=10)\n",
    "    future_row = find_first_future_row(downsampled_df, future_time, row['icao24'])\n",
    "    if future_row is not None:\n",
    "        downsampled_df.at[index, 'latitude_in_10min'] = future_row['latitude']\n",
    "        downsampled_df.at[index, 'longitude_in_10min'] = future_row['longitude']\n",
    "        downsampled_df.at[index, 'baro_altitude_in_10min'] = future_row['baro_altitude']\n",
    "    n += 1\n",
    "    if n % 1000 == 0:\n",
    "        print(round((n/rows)*100,1), '%')\n",
    "\n",
    "\n",
    "\n",
    "# Displaying the modified subset to check the results\n",
    "downsampled_df.head()\n",
    "downsampled_df.isna().sum()"
   ],
   "metadata": {
    "collapsed": false,
    "pycharm": {
     "name": "#%%\n"
    }
   }
  },
  {
   "cell_type": "code",
   "execution_count": null,
   "outputs": [],
   "source": [
    "downsampled_df.dropna(inplace = True)"
   ],
   "metadata": {
    "collapsed": false,
    "pycharm": {
     "name": "#%%\n"
    }
   }
  },
  {
   "cell_type": "code",
   "execution_count": null,
   "outputs": [],
   "source": [
    "downsampled_df['Climbing'] = downsampled_df['vertical_rate'] > 0\n",
    "downsampled_df['Descending'] = downsampled_df['vertical_rate'] < 0\n",
    "downsampled_df['Cruise'] = downsampled_df['vertical_rate'] == 0"
   ],
   "metadata": {
    "collapsed": false,
    "pycharm": {
     "name": "#%%\n"
    }
   }
  },
  {
   "cell_type": "code",
   "execution_count": null,
   "outputs": [],
   "source": [
    "downsampled_df"
   ],
   "metadata": {
    "collapsed": false,
    "pycharm": {
     "name": "#%%\n"
    }
   }
  },
  {
   "cell_type": "code",
   "execution_count": null,
   "outputs": [],
   "source": [
    "downsampled_df.to_csv('Datasets/Cleaned_prepared_data.csv')"
   ],
   "metadata": {
    "collapsed": false,
    "pycharm": {
     "name": "#%%\n"
    }
   }
  }
 ],
 "metadata": {
  "kernelspec": {
   "display_name": "Python 3 (ipykernel)",
   "language": "python",
   "name": "python3"
  },
  "language_info": {
   "codemirror_mode": {
    "name": "ipython",
    "version": 3
   },
   "file_extension": ".py",
   "mimetype": "text/x-python",
   "name": "python",
   "nbconvert_exporter": "python",
   "pygments_lexer": "ipython3",
   "version": "3.9.12"
  }
 },
 "nbformat": 4,
 "nbformat_minor": 1
}
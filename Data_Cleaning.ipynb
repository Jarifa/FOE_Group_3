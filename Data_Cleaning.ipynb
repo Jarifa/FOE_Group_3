{
 "cells": [
  {
   "cell_type": "code",
   "execution_count": 1,
   "outputs": [],
   "source": [
    "import pandas as pd\n",
    "from datetime import timedelta\n",
    "import numpy as np"
   ],
   "metadata": {
    "collapsed": false,
    "pycharm": {
     "name": "#%%\n"
    }
   }
  },
  {
   "cell_type": "code",
   "execution_count": 2,
   "outputs": [
    {
     "name": "stderr",
     "output_type": "stream",
     "text": [
      "F:\\WIN temp files\\ipykernel_12684\\2559509712.py:1: DtypeWarning: Columns (3) have mixed types. Specify dtype option on import or set low_memory=False.\n",
      "  flights_df = pd.read_csv('Datasets/Merged_Flights.csv')\n"
     ]
    },
    {
     "data": {
      "text/plain": "(26490448, 18)"
     },
     "execution_count": 2,
     "metadata": {},
     "output_type": "execute_result"
    }
   ],
   "source": [
    "flights_df = pd.read_csv('Datasets/Merged_Flights.csv')\n",
    "flights_df.shape"
   ],
   "metadata": {
    "collapsed": false,
    "pycharm": {
     "name": "#%%\n"
    }
   }
  },
  {
   "cell_type": "code",
   "execution_count": 3,
   "outputs": [
    {
     "data": {
      "text/plain": "(19486764, 8)"
     },
     "execution_count": 3,
     "metadata": {},
     "output_type": "execute_result"
    }
   ],
   "source": [
    "flights_df.drop_duplicates(subset=['icao24', 'last_position'], inplace = True)\n",
    "flights_df = flights_df[['timestamp', 'icao24', 'latitude', 'longitude', 'ground_speed', 'track', 'vertical_rate', 'baro_altitude']]\n",
    "flights_df.shape"
   ],
   "metadata": {
    "collapsed": false,
    "pycharm": {
     "name": "#%%\n"
    }
   }
  },
  {
   "cell_type": "code",
   "execution_count": 4,
   "outputs": [
    {
     "data": {
      "text/plain": "(15274354, 8)"
     },
     "execution_count": 4,
     "metadata": {},
     "output_type": "execute_result"
    }
   ],
   "source": [
    "\n",
    "flights_df = flights_df[(flights_df['longitude'] <= 20) & (flights_df['longitude'] >= -20)]\n",
    "flights_df = flights_df[(flights_df['baro_altitude'] >= 10000) & (flights_df['baro_altitude'] <= 50000)]\n",
    "flights_df = flights_df[(flights_df['vertical_rate'] >= -4500) & (flights_df['vertical_rate'] <= 4500)]\n",
    "flights_df.shape"
   ],
   "metadata": {
    "collapsed": false,
    "pycharm": {
     "name": "#%%\n"
    }
   }
  },
  {
   "cell_type": "code",
   "execution_count": 5,
   "outputs": [
    {
     "data": {
      "text/plain": "(15274354, 8)"
     },
     "execution_count": 5,
     "metadata": {},
     "output_type": "execute_result"
    }
   ],
   "source": [
    "# Convert 'timestamp' and 'last_position' to datetime\n",
    "flights_df['timestamp'] = pd.to_datetime(flights_df['timestamp'])\n",
    "flights_df.shape"
   ],
   "metadata": {
    "collapsed": false,
    "pycharm": {
     "name": "#%%\n"
    }
   }
  },
  {
   "cell_type": "code",
   "execution_count": 6,
   "outputs": [
    {
     "data": {
      "text/plain": "(timestamp        0\n icao24           0\n latitude         0\n longitude        0\n ground_speed     0\n track            0\n vertical_rate    0\n baro_altitude    0\n dtype: int64,\n (15274354, 8))"
     },
     "execution_count": 6,
     "metadata": {},
     "output_type": "execute_result"
    }
   ],
   "source": [
    "flights_df.isnull().sum(), flights_df.shape"
   ],
   "metadata": {
    "collapsed": false,
    "pycharm": {
     "name": "#%%\n"
    }
   }
  },
  {
   "cell_type": "code",
   "execution_count": 7,
   "outputs": [
    {
     "data": {
      "text/plain": "(timestamp        0\n icao24           0\n latitude         0\n longitude        0\n ground_speed     0\n track            0\n vertical_rate    0\n baro_altitude    0\n dtype: int64,\n (15274354, 8))"
     },
     "execution_count": 7,
     "metadata": {},
     "output_type": "execute_result"
    }
   ],
   "source": [
    "flights_df.dropna(inplace = True)\n",
    "flights_df.isnull().sum(), flights_df.shape"
   ],
   "metadata": {
    "collapsed": false,
    "pycharm": {
     "name": "#%%\n"
    }
   }
  },
  {
   "cell_type": "code",
   "execution_count": 8,
   "outputs": [
    {
     "data": {
      "text/plain": "                   timestamp  icao24   latitude  longitude  ground_speed  \\\n10060824 2023-05-23 09:00:02  342582  41.280988   2.399389    268.463918   \n10060825 2023-05-23 09:00:03  342582  41.281128   2.400887    269.673644   \n10060826 2023-05-23 09:00:04  342582  41.281314   2.402697    270.896425   \n10060827 2023-05-23 09:00:05  342582  41.281454   2.404570    273.124278   \n10060828 2023-05-23 09:00:06  342582  41.281547   2.405444    273.380451   \n...                      ...     ...        ...        ...           ...   \n9551848  2023-05-13 14:53:48  343194  49.277313   1.607112    410.077687   \n9551849  2023-05-13 14:53:49  343194  49.279408   1.608919    409.694655   \n9551850  2023-05-13 14:53:50  343194  49.281097   1.610413    409.810578   \n9551851  2023-05-13 14:53:51  343194  49.282654   1.611751    410.306848   \n9551852  2023-05-13 14:53:52  343194  49.284156   1.613111    409.938666   \n\n              track  vertical_rate  baro_altitude  \n10060824  84.013336         1088.0        10025.0  \n10060825  83.612883         1088.0        10050.0  \n10060826  83.216026         1152.0        10075.0  \n10060827  82.848964         1152.0        10075.0  \n10060828  82.433056         1216.0        10100.0  \n...             ...            ...            ...  \n9551848   29.190312           64.0        36025.0  \n9551849   29.380608           64.0        36025.0  \n9551850   29.692857           64.0        36025.0  \n9551851   29.814163           64.0        36025.0  \n9551852   30.004921           64.0        36025.0  \n\n[10000 rows x 8 columns]",
      "text/html": "<div>\n<style scoped>\n    .dataframe tbody tr th:only-of-type {\n        vertical-align: middle;\n    }\n\n    .dataframe tbody tr th {\n        vertical-align: top;\n    }\n\n    .dataframe thead th {\n        text-align: right;\n    }\n</style>\n<table border=\"1\" class=\"dataframe\">\n  <thead>\n    <tr style=\"text-align: right;\">\n      <th></th>\n      <th>timestamp</th>\n      <th>icao24</th>\n      <th>latitude</th>\n      <th>longitude</th>\n      <th>ground_speed</th>\n      <th>track</th>\n      <th>vertical_rate</th>\n      <th>baro_altitude</th>\n    </tr>\n  </thead>\n  <tbody>\n    <tr>\n      <th>10060824</th>\n      <td>2023-05-23 09:00:02</td>\n      <td>342582</td>\n      <td>41.280988</td>\n      <td>2.399389</td>\n      <td>268.463918</td>\n      <td>84.013336</td>\n      <td>1088.0</td>\n      <td>10025.0</td>\n    </tr>\n    <tr>\n      <th>10060825</th>\n      <td>2023-05-23 09:00:03</td>\n      <td>342582</td>\n      <td>41.281128</td>\n      <td>2.400887</td>\n      <td>269.673644</td>\n      <td>83.612883</td>\n      <td>1088.0</td>\n      <td>10050.0</td>\n    </tr>\n    <tr>\n      <th>10060826</th>\n      <td>2023-05-23 09:00:04</td>\n      <td>342582</td>\n      <td>41.281314</td>\n      <td>2.402697</td>\n      <td>270.896425</td>\n      <td>83.216026</td>\n      <td>1152.0</td>\n      <td>10075.0</td>\n    </tr>\n    <tr>\n      <th>10060827</th>\n      <td>2023-05-23 09:00:05</td>\n      <td>342582</td>\n      <td>41.281454</td>\n      <td>2.404570</td>\n      <td>273.124278</td>\n      <td>82.848964</td>\n      <td>1152.0</td>\n      <td>10075.0</td>\n    </tr>\n    <tr>\n      <th>10060828</th>\n      <td>2023-05-23 09:00:06</td>\n      <td>342582</td>\n      <td>41.281547</td>\n      <td>2.405444</td>\n      <td>273.380451</td>\n      <td>82.433056</td>\n      <td>1216.0</td>\n      <td>10100.0</td>\n    </tr>\n    <tr>\n      <th>...</th>\n      <td>...</td>\n      <td>...</td>\n      <td>...</td>\n      <td>...</td>\n      <td>...</td>\n      <td>...</td>\n      <td>...</td>\n      <td>...</td>\n    </tr>\n    <tr>\n      <th>9551848</th>\n      <td>2023-05-13 14:53:48</td>\n      <td>343194</td>\n      <td>49.277313</td>\n      <td>1.607112</td>\n      <td>410.077687</td>\n      <td>29.190312</td>\n      <td>64.0</td>\n      <td>36025.0</td>\n    </tr>\n    <tr>\n      <th>9551849</th>\n      <td>2023-05-13 14:53:49</td>\n      <td>343194</td>\n      <td>49.279408</td>\n      <td>1.608919</td>\n      <td>409.694655</td>\n      <td>29.380608</td>\n      <td>64.0</td>\n      <td>36025.0</td>\n    </tr>\n    <tr>\n      <th>9551850</th>\n      <td>2023-05-13 14:53:50</td>\n      <td>343194</td>\n      <td>49.281097</td>\n      <td>1.610413</td>\n      <td>409.810578</td>\n      <td>29.692857</td>\n      <td>64.0</td>\n      <td>36025.0</td>\n    </tr>\n    <tr>\n      <th>9551851</th>\n      <td>2023-05-13 14:53:51</td>\n      <td>343194</td>\n      <td>49.282654</td>\n      <td>1.611751</td>\n      <td>410.306848</td>\n      <td>29.814163</td>\n      <td>64.0</td>\n      <td>36025.0</td>\n    </tr>\n    <tr>\n      <th>9551852</th>\n      <td>2023-05-13 14:53:52</td>\n      <td>343194</td>\n      <td>49.284156</td>\n      <td>1.613111</td>\n      <td>409.938666</td>\n      <td>30.004921</td>\n      <td>64.0</td>\n      <td>36025.0</td>\n    </tr>\n  </tbody>\n</table>\n<p>10000 rows × 8 columns</p>\n</div>"
     },
     "execution_count": 8,
     "metadata": {},
     "output_type": "execute_result"
    }
   ],
   "source": [
    "flights_df_sorted = flights_df.sort_values(by=['icao24', 'timestamp'])\n",
    "flights_df_sorted.head(10000)"
   ],
   "metadata": {
    "collapsed": false,
    "pycharm": {
     "name": "#%%\n"
    }
   }
  },
  {
   "cell_type": "code",
   "execution_count": 9,
   "outputs": [
    {
     "data": {
      "text/plain": "(127287, 8)"
     },
     "execution_count": 9,
     "metadata": {},
     "output_type": "execute_result"
    }
   ],
   "source": [
    "# Downsampling the dataset by keeping one in every 60 data points\n",
    "downsampled_df = flights_df_sorted.iloc[::120, :]\n",
    "downsampled_df.shape"
   ],
   "metadata": {
    "collapsed": false,
    "pycharm": {
     "name": "#%%\n"
    }
   }
  },
  {
   "cell_type": "code",
   "execution_count": 10,
   "outputs": [
    {
     "name": "stderr",
     "output_type": "stream",
     "text": [
      "F:\\WIN temp files\\ipykernel_12684\\2624164120.py:10: SettingWithCopyWarning: \n",
      "A value is trying to be set on a copy of a slice from a DataFrame.\n",
      "Try using .loc[row_indexer,col_indexer] = value instead\n",
      "\n",
      "See the caveats in the documentation: https://pandas.pydata.org/pandas-docs/stable/user_guide/indexing.html#returning-a-view-versus-a-copy\n",
      "  subset_df['latitude_in_10min'] = np.nan\n",
      "F:\\WIN temp files\\ipykernel_12684\\2624164120.py:11: SettingWithCopyWarning: \n",
      "A value is trying to be set on a copy of a slice from a DataFrame.\n",
      "Try using .loc[row_indexer,col_indexer] = value instead\n",
      "\n",
      "See the caveats in the documentation: https://pandas.pydata.org/pandas-docs/stable/user_guide/indexing.html#returning-a-view-versus-a-copy\n",
      "  subset_df['longitude_in_10min'] = np.nan\n",
      "F:\\WIN temp files\\ipykernel_12684\\2624164120.py:12: SettingWithCopyWarning: \n",
      "A value is trying to be set on a copy of a slice from a DataFrame.\n",
      "Try using .loc[row_indexer,col_indexer] = value instead\n",
      "\n",
      "See the caveats in the documentation: https://pandas.pydata.org/pandas-docs/stable/user_guide/indexing.html#returning-a-view-versus-a-copy\n",
      "  subset_df['baro_altitude_in_10min'] = np.nan\n"
     ]
    },
    {
     "name": "stdout",
     "output_type": "stream",
     "text": [
      "0.8 %\n",
      "1.6 %\n",
      "2.4 %\n",
      "3.1 %\n",
      "3.9 %\n",
      "4.7 %\n",
      "5.5 %\n",
      "6.3 %\n",
      "7.1 %\n",
      "7.9 %\n",
      "8.6 %\n",
      "9.4 %\n",
      "10.2 %\n",
      "11.0 %\n",
      "11.8 %\n",
      "12.6 %\n",
      "13.4 %\n",
      "14.1 %\n",
      "14.9 %\n",
      "15.7 %\n",
      "16.5 %\n",
      "17.3 %\n",
      "18.1 %\n",
      "18.9 %\n",
      "19.6 %\n",
      "20.4 %\n",
      "21.2 %\n",
      "22.0 %\n",
      "22.8 %\n",
      "23.6 %\n",
      "24.4 %\n",
      "25.1 %\n",
      "25.9 %\n",
      "26.7 %\n",
      "27.5 %\n",
      "28.3 %\n",
      "29.1 %\n",
      "29.9 %\n",
      "30.6 %\n",
      "31.4 %\n",
      "32.2 %\n",
      "33.0 %\n",
      "33.8 %\n",
      "34.6 %\n",
      "35.4 %\n",
      "36.1 %\n",
      "36.9 %\n",
      "37.7 %\n",
      "38.5 %\n",
      "39.3 %\n",
      "40.1 %\n",
      "40.9 %\n",
      "41.6 %\n",
      "42.4 %\n",
      "43.2 %\n",
      "44.0 %\n",
      "44.8 %\n",
      "45.6 %\n",
      "46.4 %\n",
      "47.1 %\n",
      "47.9 %\n",
      "48.7 %\n",
      "49.5 %\n",
      "50.3 %\n",
      "51.1 %\n",
      "51.9 %\n",
      "52.6 %\n",
      "53.4 %\n",
      "54.2 %\n",
      "55.0 %\n",
      "55.8 %\n",
      "56.6 %\n",
      "57.4 %\n",
      "58.1 %\n",
      "58.9 %\n",
      "59.7 %\n",
      "60.5 %\n",
      "61.3 %\n",
      "62.1 %\n",
      "62.9 %\n",
      "63.6 %\n",
      "64.4 %\n",
      "65.2 %\n",
      "66.0 %\n",
      "66.8 %\n",
      "67.6 %\n",
      "68.3 %\n",
      "69.1 %\n",
      "69.9 %\n",
      "70.7 %\n",
      "71.5 %\n",
      "72.3 %\n",
      "73.1 %\n",
      "73.8 %\n",
      "74.6 %\n",
      "75.4 %\n",
      "76.2 %\n",
      "77.0 %\n",
      "77.8 %\n",
      "78.6 %\n",
      "79.3 %\n",
      "80.1 %\n",
      "80.9 %\n",
      "81.7 %\n",
      "82.5 %\n",
      "83.3 %\n",
      "84.1 %\n",
      "84.8 %\n",
      "85.6 %\n",
      "86.4 %\n",
      "87.2 %\n",
      "88.0 %\n",
      "88.8 %\n",
      "89.6 %\n",
      "90.3 %\n",
      "91.1 %\n",
      "91.9 %\n",
      "92.7 %\n",
      "93.5 %\n",
      "94.3 %\n",
      "95.1 %\n",
      "95.8 %\n",
      "96.6 %\n",
      "97.4 %\n",
      "98.2 %\n",
      "99.0 %\n",
      "99.8 %\n"
     ]
    },
    {
     "data": {
      "text/plain": "timestamp                     0\nicao24                        0\nlatitude                      0\nlongitude                     0\nground_speed                  0\ntrack                         0\nvertical_rate                 0\nbaro_altitude                 0\nlatitude_in_10min         17451\nlongitude_in_10min        17451\nbaro_altitude_in_10min    17451\ndtype: int64"
     },
     "execution_count": 10,
     "metadata": {},
     "output_type": "execute_result"
    }
   ],
   "source": [
    "# Function to find the row with the closest timestamp to the target time\n",
    "def find_first_future_row(df, target_time, icao24):\n",
    "    future_rows = df[(df['icao24'] == icao24) & (df['timestamp'] >= target_time) & (df['timestamp'] <= target_time + timedelta(minutes=2))]\n",
    "    return future_rows.iloc[0] if not future_rows.empty else None\n",
    "\n",
    "# Testing the function on a small subset of the data\n",
    "subset_df = downsampled_df\n",
    "\n",
    "# Adding new columns for future position and altitude\n",
    "subset_df['latitude_in_10min'] = np.nan\n",
    "subset_df['longitude_in_10min'] = np.nan\n",
    "subset_df['baro_altitude_in_10min'] = np.nan\n",
    "\n",
    "rows = subset_df.shape[0]\n",
    "n=0\n",
    "# Iterating over each row in the subset\n",
    "for index, row in subset_df.iterrows():\n",
    "    future_time = row['timestamp'] + timedelta(minutes=10)\n",
    "    future_row = find_first_future_row(subset_df, future_time, row['icao24'])\n",
    "    if future_row is not None:\n",
    "        subset_df.at[index, 'latitude_in_10min'] = future_row['latitude']\n",
    "        subset_df.at[index, 'longitude_in_10min'] = future_row['longitude']\n",
    "        subset_df.at[index, 'baro_altitude_in_10min'] = future_row['baro_altitude']\n",
    "    n += 1\n",
    "    if n % 1000 == 0:\n",
    "        print(round((n/rows)*100,1), '%')\n",
    "\n",
    "\n",
    "\n",
    "# Displaying the modified subset to check the results\n",
    "subset_df.head()\n",
    "subset_df.isna().sum()"
   ],
   "metadata": {
    "collapsed": false,
    "pycharm": {
     "name": "#%%\n"
    }
   }
  },
  {
   "cell_type": "code",
   "execution_count": 11,
   "outputs": [
    {
     "name": "stderr",
     "output_type": "stream",
     "text": [
      "F:\\WIN temp files\\ipykernel_12684\\1856307613.py:1: SettingWithCopyWarning: \n",
      "A value is trying to be set on a copy of a slice from a DataFrame\n",
      "\n",
      "See the caveats in the documentation: https://pandas.pydata.org/pandas-docs/stable/user_guide/indexing.html#returning-a-view-versus-a-copy\n",
      "  subset_df.dropna(inplace = True)\n"
     ]
    }
   ],
   "source": [
    "subset_df.dropna(inplace = True)"
   ],
   "metadata": {
    "collapsed": false,
    "pycharm": {
     "name": "#%%\n"
    }
   }
  },
  {
   "cell_type": "code",
   "execution_count": 12,
   "outputs": [
    {
     "name": "stderr",
     "output_type": "stream",
     "text": [
      "F:\\WIN temp files\\ipykernel_12684\\1686109439.py:1: SettingWithCopyWarning: \n",
      "A value is trying to be set on a copy of a slice from a DataFrame.\n",
      "Try using .loc[row_indexer,col_indexer] = value instead\n",
      "\n",
      "See the caveats in the documentation: https://pandas.pydata.org/pandas-docs/stable/user_guide/indexing.html#returning-a-view-versus-a-copy\n",
      "  subset_df['Climbing'] = subset_df['vertical_rate'] > 0\n",
      "F:\\WIN temp files\\ipykernel_12684\\1686109439.py:2: SettingWithCopyWarning: \n",
      "A value is trying to be set on a copy of a slice from a DataFrame.\n",
      "Try using .loc[row_indexer,col_indexer] = value instead\n",
      "\n",
      "See the caveats in the documentation: https://pandas.pydata.org/pandas-docs/stable/user_guide/indexing.html#returning-a-view-versus-a-copy\n",
      "  subset_df['Descending'] = subset_df['vertical_rate'] < 0\n",
      "F:\\WIN temp files\\ipykernel_12684\\1686109439.py:3: SettingWithCopyWarning: \n",
      "A value is trying to be set on a copy of a slice from a DataFrame.\n",
      "Try using .loc[row_indexer,col_indexer] = value instead\n",
      "\n",
      "See the caveats in the documentation: https://pandas.pydata.org/pandas-docs/stable/user_guide/indexing.html#returning-a-view-versus-a-copy\n",
      "  subset_df['Cruise'] = subset_df['vertical_rate'] == 0\n"
     ]
    }
   ],
   "source": [
    "subset_df['Climbing'] = subset_df['vertical_rate'] > 0\n",
    "subset_df['Descending'] = subset_df['vertical_rate'] < 0\n",
    "subset_df['Cruise'] = subset_df['vertical_rate'] == 0"
   ],
   "metadata": {
    "collapsed": false,
    "pycharm": {
     "name": "#%%\n"
    }
   }
  },
  {
   "cell_type": "code",
   "execution_count": 13,
   "outputs": [
    {
     "data": {
      "text/plain": "                   timestamp  icao24   latitude  longitude  ground_speed  \\\n10060824 2023-05-23 09:00:02  342582  41.280988   2.399389    268.463918   \n10060944 2023-05-23 09:02:02  342582  41.342204   2.601513    330.287468   \n10061064 2023-05-23 09:04:02  342582  41.502949   2.601460    372.413427   \n10061184 2023-05-23 09:06:02  342582  41.672353   2.411818    415.895060   \n10061304 2023-05-23 09:08:02  342582  41.843216   2.212996    411.095741   \n...                      ...     ...        ...        ...           ...   \n20942036 2023-08-27 12:15:59  ad5b90  53.724976  -9.134426    429.283917   \n20942194 2023-08-27 12:18:37  ad5b90  53.761690  -9.662314    428.923865   \n20942315 2023-08-27 12:20:38  ad5b90  53.787048 -10.055158    408.485877   \n20942435 2023-08-27 12:22:38  ad5b90  53.811454 -10.442020    422.403470   \n20942798 2023-08-27 12:28:41  ad5b90  53.878647 -11.658927    429.958929   \n\n               track  vertical_rate  baro_altitude  latitude_in_10min  \\\n10060824   84.013336         1088.0        10025.0          42.024148   \n10060944   48.928307         3136.0        14625.0          42.228513   \n10061064  322.637777          896.0        19225.0          42.470910   \n10061184  318.606717         1472.0        22675.0          42.707428   \n10061304  318.945186         1728.0        27100.0          42.946115   \n...              ...            ...            ...                ...   \n20942036  277.091907           64.0        36000.0          53.857215   \n20942194  276.694229          -64.0        36000.0          53.878647   \n20942315  276.324702           64.0        36000.0          53.898926   \n20942435  276.115504         1024.0        37675.0          53.917694   \n20942798  275.471917          128.0        40000.0          53.972897   \n\n          longitude_in_10min  baro_altitude_in_10min  Climbing  Descending  \\\n10060824            2.001172                 29175.0      True       False   \n10060944            1.819898                 31900.0      True       False   \n10061064            1.768352                 34800.0      True       False   \n10061184            1.718674                 36000.0      True       False   \n10061304            1.693072                 36000.0      True       False   \n...                      ...                     ...       ...         ...   \n20942036          -11.247011                 40000.0      True       False   \n20942194          -11.658927                 40000.0     False        True   \n20942315          -12.067674                 40000.0      True       False   \n20942435          -12.492711                 40000.0      True       False   \n20942798          -13.980587                 40000.0      True       False   \n\n          Cruise  \n10060824   False  \n10060944   False  \n10061064   False  \n10061184   False  \n10061304   False  \n...          ...  \n20942036   False  \n20942194   False  \n20942315   False  \n20942435   False  \n20942798   False  \n\n[109836 rows x 14 columns]",
      "text/html": "<div>\n<style scoped>\n    .dataframe tbody tr th:only-of-type {\n        vertical-align: middle;\n    }\n\n    .dataframe tbody tr th {\n        vertical-align: top;\n    }\n\n    .dataframe thead th {\n        text-align: right;\n    }\n</style>\n<table border=\"1\" class=\"dataframe\">\n  <thead>\n    <tr style=\"text-align: right;\">\n      <th></th>\n      <th>timestamp</th>\n      <th>icao24</th>\n      <th>latitude</th>\n      <th>longitude</th>\n      <th>ground_speed</th>\n      <th>track</th>\n      <th>vertical_rate</th>\n      <th>baro_altitude</th>\n      <th>latitude_in_10min</th>\n      <th>longitude_in_10min</th>\n      <th>baro_altitude_in_10min</th>\n      <th>Climbing</th>\n      <th>Descending</th>\n      <th>Cruise</th>\n    </tr>\n  </thead>\n  <tbody>\n    <tr>\n      <th>10060824</th>\n      <td>2023-05-23 09:00:02</td>\n      <td>342582</td>\n      <td>41.280988</td>\n      <td>2.399389</td>\n      <td>268.463918</td>\n      <td>84.013336</td>\n      <td>1088.0</td>\n      <td>10025.0</td>\n      <td>42.024148</td>\n      <td>2.001172</td>\n      <td>29175.0</td>\n      <td>True</td>\n      <td>False</td>\n      <td>False</td>\n    </tr>\n    <tr>\n      <th>10060944</th>\n      <td>2023-05-23 09:02:02</td>\n      <td>342582</td>\n      <td>41.342204</td>\n      <td>2.601513</td>\n      <td>330.287468</td>\n      <td>48.928307</td>\n      <td>3136.0</td>\n      <td>14625.0</td>\n      <td>42.228513</td>\n      <td>1.819898</td>\n      <td>31900.0</td>\n      <td>True</td>\n      <td>False</td>\n      <td>False</td>\n    </tr>\n    <tr>\n      <th>10061064</th>\n      <td>2023-05-23 09:04:02</td>\n      <td>342582</td>\n      <td>41.502949</td>\n      <td>2.601460</td>\n      <td>372.413427</td>\n      <td>322.637777</td>\n      <td>896.0</td>\n      <td>19225.0</td>\n      <td>42.470910</td>\n      <td>1.768352</td>\n      <td>34800.0</td>\n      <td>True</td>\n      <td>False</td>\n      <td>False</td>\n    </tr>\n    <tr>\n      <th>10061184</th>\n      <td>2023-05-23 09:06:02</td>\n      <td>342582</td>\n      <td>41.672353</td>\n      <td>2.411818</td>\n      <td>415.895060</td>\n      <td>318.606717</td>\n      <td>1472.0</td>\n      <td>22675.0</td>\n      <td>42.707428</td>\n      <td>1.718674</td>\n      <td>36000.0</td>\n      <td>True</td>\n      <td>False</td>\n      <td>False</td>\n    </tr>\n    <tr>\n      <th>10061304</th>\n      <td>2023-05-23 09:08:02</td>\n      <td>342582</td>\n      <td>41.843216</td>\n      <td>2.212996</td>\n      <td>411.095741</td>\n      <td>318.945186</td>\n      <td>1728.0</td>\n      <td>27100.0</td>\n      <td>42.946115</td>\n      <td>1.693072</td>\n      <td>36000.0</td>\n      <td>True</td>\n      <td>False</td>\n      <td>False</td>\n    </tr>\n    <tr>\n      <th>...</th>\n      <td>...</td>\n      <td>...</td>\n      <td>...</td>\n      <td>...</td>\n      <td>...</td>\n      <td>...</td>\n      <td>...</td>\n      <td>...</td>\n      <td>...</td>\n      <td>...</td>\n      <td>...</td>\n      <td>...</td>\n      <td>...</td>\n      <td>...</td>\n    </tr>\n    <tr>\n      <th>20942036</th>\n      <td>2023-08-27 12:15:59</td>\n      <td>ad5b90</td>\n      <td>53.724976</td>\n      <td>-9.134426</td>\n      <td>429.283917</td>\n      <td>277.091907</td>\n      <td>64.0</td>\n      <td>36000.0</td>\n      <td>53.857215</td>\n      <td>-11.247011</td>\n      <td>40000.0</td>\n      <td>True</td>\n      <td>False</td>\n      <td>False</td>\n    </tr>\n    <tr>\n      <th>20942194</th>\n      <td>2023-08-27 12:18:37</td>\n      <td>ad5b90</td>\n      <td>53.761690</td>\n      <td>-9.662314</td>\n      <td>428.923865</td>\n      <td>276.694229</td>\n      <td>-64.0</td>\n      <td>36000.0</td>\n      <td>53.878647</td>\n      <td>-11.658927</td>\n      <td>40000.0</td>\n      <td>False</td>\n      <td>True</td>\n      <td>False</td>\n    </tr>\n    <tr>\n      <th>20942315</th>\n      <td>2023-08-27 12:20:38</td>\n      <td>ad5b90</td>\n      <td>53.787048</td>\n      <td>-10.055158</td>\n      <td>408.485877</td>\n      <td>276.324702</td>\n      <td>64.0</td>\n      <td>36000.0</td>\n      <td>53.898926</td>\n      <td>-12.067674</td>\n      <td>40000.0</td>\n      <td>True</td>\n      <td>False</td>\n      <td>False</td>\n    </tr>\n    <tr>\n      <th>20942435</th>\n      <td>2023-08-27 12:22:38</td>\n      <td>ad5b90</td>\n      <td>53.811454</td>\n      <td>-10.442020</td>\n      <td>422.403470</td>\n      <td>276.115504</td>\n      <td>1024.0</td>\n      <td>37675.0</td>\n      <td>53.917694</td>\n      <td>-12.492711</td>\n      <td>40000.0</td>\n      <td>True</td>\n      <td>False</td>\n      <td>False</td>\n    </tr>\n    <tr>\n      <th>20942798</th>\n      <td>2023-08-27 12:28:41</td>\n      <td>ad5b90</td>\n      <td>53.878647</td>\n      <td>-11.658927</td>\n      <td>429.958929</td>\n      <td>275.471917</td>\n      <td>128.0</td>\n      <td>40000.0</td>\n      <td>53.972897</td>\n      <td>-13.980587</td>\n      <td>40000.0</td>\n      <td>True</td>\n      <td>False</td>\n      <td>False</td>\n    </tr>\n  </tbody>\n</table>\n<p>109836 rows × 14 columns</p>\n</div>"
     },
     "execution_count": 13,
     "metadata": {},
     "output_type": "execute_result"
    }
   ],
   "source": [
    "subset_df"
   ],
   "metadata": {
    "collapsed": false,
    "pycharm": {
     "name": "#%%\n"
    }
   }
  },
  {
   "cell_type": "code",
   "execution_count": 14,
   "outputs": [],
   "source": [
    "subset_df.to_csv('Datasets/Cleaned_prepared_data.csv')"
   ],
   "metadata": {
    "collapsed": false,
    "pycharm": {
     "name": "#%%\n"
    }
   }
  }
 ],
 "metadata": {
  "kernelspec": {
   "display_name": "Python 3",
   "language": "python",
   "name": "python3"
  },
  "language_info": {
   "codemirror_mode": {
    "name": "ipython",
    "version": 2
   },
   "file_extension": ".py",
   "mimetype": "text/x-python",
   "name": "python",
   "nbconvert_exporter": "python",
   "pygments_lexer": "ipython2",
   "version": "2.7.6"
  }
 },
 "nbformat": 4,
 "nbformat_minor": 0
}
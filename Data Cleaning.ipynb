{
 "cells": [
  {
   "cell_type": "code",
   "execution_count": 1,
   "metadata": {
    "collapsed": true,
    "pycharm": {
     "name": "#%%\n"
    }
   },
   "outputs": [],
   "source": [
    "import pickle\n",
    "import os\n",
    "import pandas as pd\n",
    "import matplotlib.pyplot as plt"
   ]
  },
  {
   "cell_type": "code",
   "execution_count": 2,
   "outputs": [
    {
     "name": "stdout",
     "output_type": "stream",
     "text": [
      "   Unnamed: 0            timestamp  icao24  latitude  longitude  ground_speed  \\\n",
      "0           0  2022-10-01 17:22:01  4853d1  52.30436   4.766124           NaN   \n",
      "1           1  2022-10-01 17:22:02  4853d1  52.30436   4.766124           NaN   \n",
      "2           2  2022-10-01 17:22:03  4853d1  52.30436   4.766124           NaN   \n",
      "3           3  2022-10-01 17:22:04  4853d1  52.30436   4.766124           NaN   \n",
      "4           4  2022-10-01 17:22:05  4853d1  52.30436   4.766124           NaN   \n",
      "\n",
      "   track  vertical_rate callsign  onground  alert    spi  squawk  \\\n",
      "0    NaN            NaN   TRA13Y      True  False  False     NaN   \n",
      "1    NaN            NaN   TRA13Y      True  False  False     NaN   \n",
      "2    NaN            NaN   TRA13Y      True  False  False     NaN   \n",
      "3    NaN            NaN   TRA13Y      True  False  False     NaN   \n",
      "4    NaN            NaN   TRA13Y      True  False  False     NaN   \n",
      "\n",
      "   baro_altitude  altitude            last_position        hour  \n",
      "0            NaN       NaN  2022-10-01 17:22:00.300  1664636400  \n",
      "1            NaN       NaN  2022-10-01 17:22:00.300  1664636400  \n",
      "2            NaN       NaN  2022-10-01 17:22:00.300  1664636400  \n",
      "3            NaN       NaN  2022-10-01 17:22:00.300  1664636400  \n",
      "4            NaN       NaN  2022-10-01 17:22:00.300  1664636400  \n"
     ]
    }
   ],
   "source": [
    "df = pd.read_pickle('combined_data.pk1')\n",
    "print(df.head())"
   ],
   "metadata": {
    "collapsed": false,
    "pycharm": {
     "name": "#%%\n"
    }
   }
  },
  {
   "cell_type": "code",
   "execution_count": null,
   "outputs": [],
   "source": [
    "df = df.drop('Unnamed: 0', axis=1)\n",
    "\n",
    "print(df.head())"
   ],
   "metadata": {
    "collapsed": false,
    "pycharm": {
     "name": "#%%\n"
    }
   }
  },
  {
   "cell_type": "code",
   "execution_count": null,
   "outputs": [],
   "source": [
    "print(df.isna().sum())"
   ],
   "metadata": {
    "collapsed": false,
    "pycharm": {
     "name": "#%%\n"
    }
   }
  },
  {
   "cell_type": "code",
   "execution_count": 3,
   "outputs": [
    {
     "name": "stdout",
     "output_type": "stream",
     "text": [
      "Unnamed: 0         int64\n",
      "timestamp         object\n",
      "icao24            object\n",
      "latitude         float64\n",
      "longitude        float64\n",
      "ground_speed     float64\n",
      "track            float64\n",
      "vertical_rate    float64\n",
      "callsign          object\n",
      "onground            bool\n",
      "alert               bool\n",
      "spi                 bool\n",
      "squawk           float64\n",
      "baro_altitude    float64\n",
      "altitude         float64\n",
      "last_position     object\n",
      "hour               int64\n",
      "dtype: object\n"
     ]
    }
   ],
   "source": [
    "print(df.dtypes)"
   ],
   "metadata": {
    "collapsed": false,
    "pycharm": {
     "name": "#%%\n"
    }
   }
  },
  {
   "cell_type": "code",
   "execution_count": null,
   "outputs": [],
   "source": [
    "df.shape"
   ],
   "metadata": {
    "collapsed": false,
    "pycharm": {
     "name": "#%%\n"
    }
   }
  },
  {
   "cell_type": "code",
   "execution_count": null,
   "outputs": [],
   "source": [
    "df = df[df['longitude'] >= -20]"
   ],
   "metadata": {
    "collapsed": false,
    "pycharm": {
     "name": "#%%\n"
    }
   }
  },
  {
   "cell_type": "code",
   "execution_count": null,
   "outputs": [],
   "source": [
    "plt.scatter(df['longitude'], df['latitude'], c=df['altitude'], cmap='viridis', alpha=0.5)\n",
    "plt.title('Flight Trajectories')\n",
    "plt.xlabel('Longitude')\n",
    "plt.ylabel('Latitude')\n",
    "plt.colorbar(label='Altitude')\n",
    "plt.show()"
   ],
   "metadata": {
    "collapsed": false,
    "pycharm": {
     "name": "#%%\n"
    }
   }
  },
  {
   "cell_type": "code",
   "execution_count": null,
   "outputs": [],
   "source": [
    "grouped_flights = df.groupby('icao24')\n",
    "flight_dfs = {icao24: group for icao24, group in grouped_flights}"
   ],
   "metadata": {
    "collapsed": false,
    "pycharm": {
     "name": "#%%\n"
    }
   }
  },
  {
   "cell_type": "code",
   "execution_count": null,
   "outputs": [],
   "source": [
    "flight_dfs"
   ],
   "metadata": {
    "collapsed": false,
    "pycharm": {
     "name": "#%%\n"
    }
   }
  },
  {
   "cell_type": "code",
   "execution_count": null,
   "outputs": [],
   "source": [
    "# Defining coordinates for Barcelona (BCN) and Amsterdam (AMS) airports with a tolerance range\n",
    "barcelona_coords = (41.2974, 2.0833)  # BCN Airport\n",
    "amsterdam_coords = (52.3105, 4.7683)  # AMS Airport\n",
    "\n",
    "# Tolerance range in degrees, can be adjusted\n",
    "tolerance = 0.5  # Approx. 55 km\n",
    "\n",
    "# Define ranges for latitude and longitude for both airports\n",
    "barcelona_lat_range = (barcelona_coords[0] - tolerance, barcelona_coords[0] + tolerance)\n",
    "barcelona_lon_range = (barcelona_coords[1] - tolerance, barcelona_coords[1] + tolerance)\n",
    "\n",
    "amsterdam_lat_range = (amsterdam_coords[0] - tolerance, amsterdam_coords[0] + tolerance)\n",
    "amsterdam_lon_range = (amsterdam_coords[1] - tolerance, amsterdam_coords[1] + tolerance)\n",
    "\n",
    "# Function to check if a point is within a given range\n",
    "def in_range(lat, lon, lat_range, lon_range):\n",
    "    return lat_range[0] <= lat <= lat_range[1] and lon_range[0] <= lon <= lon_range[1]\n",
    "\n",
    "# Filter flights\n",
    "barcelona_amsterdam_flights = {}\n",
    "\n",
    "for icao24, flight_df in flight_dfs.items():\n",
    "    # Sort by timestamp to ensure the order of points\n",
    "    flight_df_sorted = flight_df.sort_values(by='timestamp')\n",
    "    # Get the first and last position of the flight\n",
    "    first_position = flight_df_sorted.iloc[0]\n",
    "    last_position = flight_df_sorted.iloc[-1]\n",
    "\n",
    "    # Check if the flight starts in Barcelona and ends in Amsterdam\n",
    "    if in_range(first_position['latitude'], first_position['longitude'], barcelona_lat_range, barcelona_lon_range) and \\\n",
    "       in_range(last_position['latitude'], last_position['longitude'], amsterdam_lat_range, amsterdam_lon_range):\n",
    "        barcelona_amsterdam_flights[icao24] = flight_df\n",
    "\n",
    "# Number of flights identified\n",
    "len(barcelona_amsterdam_flights)"
   ],
   "metadata": {
    "collapsed": false,
    "pycharm": {
     "name": "#%%\n"
    }
   }
  },
  {
   "cell_type": "code",
   "execution_count": null,
   "outputs": [],
   "source": [
    "with open('barcelona_amsterdam_flights.pkl', 'wb') as file:\n",
    "    pickle.dump(barcelona_amsterdam_flights, file)"
   ],
   "metadata": {
    "collapsed": false,
    "pycharm": {
     "name": "#%%\n"
    }
   }
  }
 ],
 "metadata": {
  "kernelspec": {
   "display_name": "Python 3",
   "language": "python",
   "name": "python3"
  },
  "language_info": {
   "codemirror_mode": {
    "name": "ipython",
    "version": 2
   },
   "file_extension": ".py",
   "mimetype": "text/x-python",
   "name": "python",
   "nbconvert_exporter": "python",
   "pygments_lexer": "ipython2",
   "version": "2.7.6"
  }
 },
 "nbformat": 4,
 "nbformat_minor": 0
}
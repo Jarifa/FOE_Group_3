{
 "cells": [
  {
   "cell_type": "code",
   "execution_count": 2,
   "metadata": {
    "collapsed": true,
    "pycharm": {
     "name": "#%%\n"
    },
    "ExecuteTime": {
     "end_time": "2023-11-28T12:52:03.413979100Z",
     "start_time": "2023-11-28T12:52:00.585874Z"
    }
   },
   "outputs": [],
   "source": [
    "import pandas as pd\n",
    "import os"
   ]
  },
  {
   "cell_type": "code",
   "execution_count": 3,
   "outputs": [
    {
     "name": "stdout",
     "output_type": "stream",
     "text": [
      "File 1 complete\n"
     ]
    },
    {
     "name": "stderr",
     "output_type": "stream",
     "text": [
      "C:\\Users\\dave\\AppData\\Local\\Temp\\ipykernel_13896\\1446555581.py:8: DtypeWarning: Columns (2) have mixed types. Specify dtype option on import or set low_memory=False.\n",
      "  df = pd.read_csv(file_path)\n"
     ]
    },
    {
     "name": "stdout",
     "output_type": "stream",
     "text": [
      "File 2 complete\n"
     ]
    },
    {
     "name": "stderr",
     "output_type": "stream",
     "text": [
      "C:\\Users\\dave\\AppData\\Local\\Temp\\ipykernel_13896\\1446555581.py:8: DtypeWarning: Columns (2) have mixed types. Specify dtype option on import or set low_memory=False.\n",
      "  df = pd.read_csv(file_path)\n"
     ]
    },
    {
     "name": "stdout",
     "output_type": "stream",
     "text": [
      "File 3 complete\n"
     ]
    },
    {
     "name": "stderr",
     "output_type": "stream",
     "text": [
      "C:\\Users\\dave\\AppData\\Local\\Temp\\ipykernel_13896\\1446555581.py:8: DtypeWarning: Columns (2) have mixed types. Specify dtype option on import or set low_memory=False.\n",
      "  df = pd.read_csv(file_path)\n"
     ]
    },
    {
     "name": "stdout",
     "output_type": "stream",
     "text": [
      "File 4 complete\n"
     ]
    },
    {
     "name": "stderr",
     "output_type": "stream",
     "text": [
      "C:\\Users\\dave\\AppData\\Local\\Temp\\ipykernel_13896\\1446555581.py:8: DtypeWarning: Columns (2) have mixed types. Specify dtype option on import or set low_memory=False.\n",
      "  df = pd.read_csv(file_path)\n"
     ]
    },
    {
     "name": "stdout",
     "output_type": "stream",
     "text": [
      "File 5 complete\n",
      "File 6 complete\n",
      "Datasets loaded into one df.\n"
     ]
    }
   ],
   "source": [
    "def load_csv(folder_path):\n",
    "    dataframes = []\n",
    "    file = 1\n",
    "\n",
    "    for filename in os.listdir(path):\n",
    "        if filename.endswith('.csv'):\n",
    "            file_path = os.path.join(folder_path, filename)\n",
    "            df = pd.read_csv(file_path)\n",
    "            dataframes.append(df)\n",
    "            print(\"File\", file, \"complete\")\n",
    "            file += 1\n",
    "\n",
    "    combined_df = pd.concat(dataframes, ignore_index=True)\n",
    "    return combined_df\n",
    "\n",
    "\n",
    "path = \"Datasets\"\n",
    "df = load_csv(path)\n",
    "print(path, \"loaded into one df.\")"
   ],
   "metadata": {
    "collapsed": false,
    "pycharm": {
     "name": "#%%\n"
    },
    "ExecuteTime": {
     "end_time": "2023-11-28T12:54:41.052487800Z",
     "start_time": "2023-11-28T12:52:03.413979100Z"
    }
   }
  },
  {
   "cell_type": "code",
   "execution_count": 4,
   "outputs": [
    {
     "name": "stdout",
     "output_type": "stream",
     "text": [
      "DataFrame saved at: Datasets\\combined_data.pk1\n"
     ]
    }
   ],
   "source": [
    "pickle_file_path = os.path.join(path, 'combined_data.pk1')\n",
    "df.to_pickle(pickle_file_path)\n",
    "print(f\"DataFrame saved at: {pickle_file_path}\")"
   ],
   "metadata": {
    "collapsed": false,
    "pycharm": {
     "name": "#%%\n"
    },
    "ExecuteTime": {
     "start_time": "2023-11-28T12:54:39.530974700Z"
    }
   }
  },
  {
   "cell_type": "code",
   "execution_count": 5,
   "outputs": [
    {
     "data": {
      "text/plain": "         Unnamed: 0            timestamp  icao24   latitude  longitude  \\\n0           1081344  2022-10-30 21:29:07  484133  50.280304   2.691000   \n1           1081404  2022-10-30 21:30:07  484133  50.403076   2.812572   \n2           1081464  2022-10-30 21:31:07  484133  50.525436   2.934795   \n3           1081526  2022-10-30 21:32:09  484133  50.651023   3.060657   \n4           1081586  2022-10-30 21:33:09  484133  50.777573   3.188336   \n...             ...                  ...     ...        ...        ...   \n8742070      853824  2022-11-29 22:09:57  48455a  52.327881   4.723129   \n8742071      853825  2022-11-29 22:09:58  48455a  52.327847   4.723129   \n8742072      853826  2022-11-29 22:09:59  48455a  52.327776   4.723238   \n8742073      853827  2022-11-29 22:10:00  48455a  52.327695   4.723474   \n8742074      853828  2022-11-29 22:10:01  48455a  52.327641   4.723587   \n\n         ground_speed       track  vertical_rate  baro_altitude  \\\n0          524.069199   32.295105            0.0        34000.0   \n1          523.759989   32.446022          -64.0        34000.0   \n2          525.140480   32.479560         -960.0        33000.0   \n3          530.969409   32.462916         -896.0        32025.0   \n4          535.111675   32.561525        -1984.0        30625.0   \n...               ...         ...            ...            ...   \n8742070    145.278916  183.551733          -64.0            NaN   \n8742071    145.278916  183.551733          -64.0            NaN   \n8742072    145.278916  183.551733          -64.0            NaN   \n8742073    145.278916  183.551733          -64.0            NaN   \n8742074    145.278916  183.551733          -64.0            NaN   \n\n         latitude_in_10min  longitude_in_10min  baro_altitude_in_10min  \\\n0                51.483078            3.806911                 17550.0   \n1                51.590744            3.887824                 15500.0   \n2                51.692210            3.963928                 13425.0   \n3                51.791087            4.038773                 11300.0   \n4                51.883118            4.107254                 10500.0   \n...                    ...                 ...                     ...   \n8742070                NaN                 NaN                     NaN   \n8742071                NaN                 NaN                     NaN   \n8742072                NaN                 NaN                     NaN   \n8742073                NaN                 NaN                     NaN   \n8742074                NaN                 NaN                     NaN   \n\n        callsign onground  alert    spi  squawk  altitude  \\\n0            NaN      NaN    NaN    NaN     NaN       NaN   \n1            NaN      NaN    NaN    NaN     NaN       NaN   \n2            NaN      NaN    NaN    NaN     NaN       NaN   \n3            NaN      NaN    NaN    NaN     NaN       NaN   \n4            NaN      NaN    NaN    NaN     NaN       NaN   \n...          ...      ...    ...    ...     ...       ...   \n8742070   KLM76T    False  False  False  6723.0       NaN   \n8742071   KLM76T    False  False  False  6723.0       NaN   \n8742072   KLM76T    False  False  False  6723.0       NaN   \n8742073   KLM76T    False  False  False  6723.0       NaN   \n8742074   KLM76T    False  False  False  6723.0       NaN   \n\n                   last_position          hour  \n0                            NaN           NaN  \n1                            NaN           NaN  \n2                            NaN           NaN  \n3                            NaN           NaN  \n4                            NaN           NaN  \n...                          ...           ...  \n8742070  2022-11-29 22:09:56.916  1.669756e+09  \n8742071  2022-11-29 22:09:57.423  1.669756e+09  \n8742072  2022-11-29 22:09:58.556  1.669756e+09  \n8742073  2022-11-29 22:09:59.996  1.669756e+09  \n8742074  2022-11-29 22:10:00.930  1.669756e+09  \n\n[8742075 rows x 20 columns]",
      "text/html": "<div>\n<style scoped>\n    .dataframe tbody tr th:only-of-type {\n        vertical-align: middle;\n    }\n\n    .dataframe tbody tr th {\n        vertical-align: top;\n    }\n\n    .dataframe thead th {\n        text-align: right;\n    }\n</style>\n<table border=\"1\" class=\"dataframe\">\n  <thead>\n    <tr style=\"text-align: right;\">\n      <th></th>\n      <th>Unnamed: 0</th>\n      <th>timestamp</th>\n      <th>icao24</th>\n      <th>latitude</th>\n      <th>longitude</th>\n      <th>ground_speed</th>\n      <th>track</th>\n      <th>vertical_rate</th>\n      <th>baro_altitude</th>\n      <th>latitude_in_10min</th>\n      <th>longitude_in_10min</th>\n      <th>baro_altitude_in_10min</th>\n      <th>callsign</th>\n      <th>onground</th>\n      <th>alert</th>\n      <th>spi</th>\n      <th>squawk</th>\n      <th>altitude</th>\n      <th>last_position</th>\n      <th>hour</th>\n    </tr>\n  </thead>\n  <tbody>\n    <tr>\n      <th>0</th>\n      <td>1081344</td>\n      <td>2022-10-30 21:29:07</td>\n      <td>484133</td>\n      <td>50.280304</td>\n      <td>2.691000</td>\n      <td>524.069199</td>\n      <td>32.295105</td>\n      <td>0.0</td>\n      <td>34000.0</td>\n      <td>51.483078</td>\n      <td>3.806911</td>\n      <td>17550.0</td>\n      <td>NaN</td>\n      <td>NaN</td>\n      <td>NaN</td>\n      <td>NaN</td>\n      <td>NaN</td>\n      <td>NaN</td>\n      <td>NaN</td>\n      <td>NaN</td>\n    </tr>\n    <tr>\n      <th>1</th>\n      <td>1081404</td>\n      <td>2022-10-30 21:30:07</td>\n      <td>484133</td>\n      <td>50.403076</td>\n      <td>2.812572</td>\n      <td>523.759989</td>\n      <td>32.446022</td>\n      <td>-64.0</td>\n      <td>34000.0</td>\n      <td>51.590744</td>\n      <td>3.887824</td>\n      <td>15500.0</td>\n      <td>NaN</td>\n      <td>NaN</td>\n      <td>NaN</td>\n      <td>NaN</td>\n      <td>NaN</td>\n      <td>NaN</td>\n      <td>NaN</td>\n      <td>NaN</td>\n    </tr>\n    <tr>\n      <th>2</th>\n      <td>1081464</td>\n      <td>2022-10-30 21:31:07</td>\n      <td>484133</td>\n      <td>50.525436</td>\n      <td>2.934795</td>\n      <td>525.140480</td>\n      <td>32.479560</td>\n      <td>-960.0</td>\n      <td>33000.0</td>\n      <td>51.692210</td>\n      <td>3.963928</td>\n      <td>13425.0</td>\n      <td>NaN</td>\n      <td>NaN</td>\n      <td>NaN</td>\n      <td>NaN</td>\n      <td>NaN</td>\n      <td>NaN</td>\n      <td>NaN</td>\n      <td>NaN</td>\n    </tr>\n    <tr>\n      <th>3</th>\n      <td>1081526</td>\n      <td>2022-10-30 21:32:09</td>\n      <td>484133</td>\n      <td>50.651023</td>\n      <td>3.060657</td>\n      <td>530.969409</td>\n      <td>32.462916</td>\n      <td>-896.0</td>\n      <td>32025.0</td>\n      <td>51.791087</td>\n      <td>4.038773</td>\n      <td>11300.0</td>\n      <td>NaN</td>\n      <td>NaN</td>\n      <td>NaN</td>\n      <td>NaN</td>\n      <td>NaN</td>\n      <td>NaN</td>\n      <td>NaN</td>\n      <td>NaN</td>\n    </tr>\n    <tr>\n      <th>4</th>\n      <td>1081586</td>\n      <td>2022-10-30 21:33:09</td>\n      <td>484133</td>\n      <td>50.777573</td>\n      <td>3.188336</td>\n      <td>535.111675</td>\n      <td>32.561525</td>\n      <td>-1984.0</td>\n      <td>30625.0</td>\n      <td>51.883118</td>\n      <td>4.107254</td>\n      <td>10500.0</td>\n      <td>NaN</td>\n      <td>NaN</td>\n      <td>NaN</td>\n      <td>NaN</td>\n      <td>NaN</td>\n      <td>NaN</td>\n      <td>NaN</td>\n      <td>NaN</td>\n    </tr>\n    <tr>\n      <th>...</th>\n      <td>...</td>\n      <td>...</td>\n      <td>...</td>\n      <td>...</td>\n      <td>...</td>\n      <td>...</td>\n      <td>...</td>\n      <td>...</td>\n      <td>...</td>\n      <td>...</td>\n      <td>...</td>\n      <td>...</td>\n      <td>...</td>\n      <td>...</td>\n      <td>...</td>\n      <td>...</td>\n      <td>...</td>\n      <td>...</td>\n      <td>...</td>\n      <td>...</td>\n    </tr>\n    <tr>\n      <th>8742070</th>\n      <td>853824</td>\n      <td>2022-11-29 22:09:57</td>\n      <td>48455a</td>\n      <td>52.327881</td>\n      <td>4.723129</td>\n      <td>145.278916</td>\n      <td>183.551733</td>\n      <td>-64.0</td>\n      <td>NaN</td>\n      <td>NaN</td>\n      <td>NaN</td>\n      <td>NaN</td>\n      <td>KLM76T</td>\n      <td>False</td>\n      <td>False</td>\n      <td>False</td>\n      <td>6723.0</td>\n      <td>NaN</td>\n      <td>2022-11-29 22:09:56.916</td>\n      <td>1.669756e+09</td>\n    </tr>\n    <tr>\n      <th>8742071</th>\n      <td>853825</td>\n      <td>2022-11-29 22:09:58</td>\n      <td>48455a</td>\n      <td>52.327847</td>\n      <td>4.723129</td>\n      <td>145.278916</td>\n      <td>183.551733</td>\n      <td>-64.0</td>\n      <td>NaN</td>\n      <td>NaN</td>\n      <td>NaN</td>\n      <td>NaN</td>\n      <td>KLM76T</td>\n      <td>False</td>\n      <td>False</td>\n      <td>False</td>\n      <td>6723.0</td>\n      <td>NaN</td>\n      <td>2022-11-29 22:09:57.423</td>\n      <td>1.669756e+09</td>\n    </tr>\n    <tr>\n      <th>8742072</th>\n      <td>853826</td>\n      <td>2022-11-29 22:09:59</td>\n      <td>48455a</td>\n      <td>52.327776</td>\n      <td>4.723238</td>\n      <td>145.278916</td>\n      <td>183.551733</td>\n      <td>-64.0</td>\n      <td>NaN</td>\n      <td>NaN</td>\n      <td>NaN</td>\n      <td>NaN</td>\n      <td>KLM76T</td>\n      <td>False</td>\n      <td>False</td>\n      <td>False</td>\n      <td>6723.0</td>\n      <td>NaN</td>\n      <td>2022-11-29 22:09:58.556</td>\n      <td>1.669756e+09</td>\n    </tr>\n    <tr>\n      <th>8742073</th>\n      <td>853827</td>\n      <td>2022-11-29 22:10:00</td>\n      <td>48455a</td>\n      <td>52.327695</td>\n      <td>4.723474</td>\n      <td>145.278916</td>\n      <td>183.551733</td>\n      <td>-64.0</td>\n      <td>NaN</td>\n      <td>NaN</td>\n      <td>NaN</td>\n      <td>NaN</td>\n      <td>KLM76T</td>\n      <td>False</td>\n      <td>False</td>\n      <td>False</td>\n      <td>6723.0</td>\n      <td>NaN</td>\n      <td>2022-11-29 22:09:59.996</td>\n      <td>1.669756e+09</td>\n    </tr>\n    <tr>\n      <th>8742074</th>\n      <td>853828</td>\n      <td>2022-11-29 22:10:01</td>\n      <td>48455a</td>\n      <td>52.327641</td>\n      <td>4.723587</td>\n      <td>145.278916</td>\n      <td>183.551733</td>\n      <td>-64.0</td>\n      <td>NaN</td>\n      <td>NaN</td>\n      <td>NaN</td>\n      <td>NaN</td>\n      <td>KLM76T</td>\n      <td>False</td>\n      <td>False</td>\n      <td>False</td>\n      <td>6723.0</td>\n      <td>NaN</td>\n      <td>2022-11-29 22:10:00.930</td>\n      <td>1.669756e+09</td>\n    </tr>\n  </tbody>\n</table>\n<p>8742075 rows × 20 columns</p>\n</div>"
     },
     "execution_count": 5,
     "metadata": {},
     "output_type": "execute_result"
    }
   ],
   "source": [
    "df"
   ],
   "metadata": {
    "collapsed": false,
    "ExecuteTime": {
     "start_time": "2023-11-28T12:57:31.109425400Z"
    }
   }
  },
  {
   "cell_type": "code",
   "execution_count": null,
   "outputs": [],
   "source": [],
   "metadata": {
    "collapsed": false
   }
  }
 ],
 "metadata": {
  "kernelspec": {
   "display_name": "Python 3",
   "language": "python",
   "name": "python3"
  },
  "language_info": {
   "codemirror_mode": {
    "name": "ipython",
    "version": 2
   },
   "file_extension": ".py",
   "mimetype": "text/x-python",
   "name": "python",
   "nbconvert_exporter": "python",
   "pygments_lexer": "ipython2",
   "version": "2.7.6"
  }
 },
 "nbformat": 4,
 "nbformat_minor": 0
}

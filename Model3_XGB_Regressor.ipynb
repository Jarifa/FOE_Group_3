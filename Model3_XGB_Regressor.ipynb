{
 "cells": [
  {
   "cell_type": "code",
   "execution_count": 1,
   "outputs": [],
   "source": [
    "import pandas as pd\n",
    "from sklearn.model_selection import train_test_split\n",
    "from xgboost import XGBRegressor\n",
    "from sklearn.metrics import mean_absolute_error, r2_score"
   ],
   "metadata": {
    "collapsed": false,
    "pycharm": {
     "name": "#%%\n"
    }
   }
  },
  {
   "cell_type": "code",
   "execution_count": 2,
   "outputs": [],
   "source": [
    "# Read the dataset\n",
    "data = pd.read_csv('Datasets/Cleaned_prepared_data.csv')\n",
    "data = data[(data['longitude'] <= 20) & (data['longitude'] >= -20)]"
   ],
   "metadata": {
    "collapsed": false,
    "pycharm": {
     "name": "#%%\n"
    }
   }
  },
  {
   "cell_type": "code",
   "execution_count": 3,
   "outputs": [],
   "source": [
    "# Selecting the features and targets\n",
    "features = data[['latitude', 'longitude', 'baro_altitude', 'ground_speed', 'track', 'vertical_rate', 'Climbing', 'Descending', 'Cruise']]\n",
    "targets = data[['latitude_in_10min', 'longitude_in_10min', 'baro_altitude_in_10min']]"
   ],
   "metadata": {
    "collapsed": false,
    "pycharm": {
     "name": "#%%\n"
    }
   }
  },
  {
   "cell_type": "code",
   "execution_count": 4,
   "outputs": [],
   "source": [
    "# Splitting the dataset into training and testing sets\n",
    "X_train, X_test, y_train, y_test = train_test_split(features, targets, test_size=0.01, random_state=42)"
   ],
   "metadata": {
    "collapsed": false,
    "pycharm": {
     "name": "#%%\n"
    }
   }
  },
  {
   "cell_type": "code",
   "execution_count": 5,
   "outputs": [],
   "source": [
    "# Best parameters: {'colsample_bytree': 1.0, 'learning_rate': 0.05, 'max_depth': 7, 'n_estimators': 300, 'subsample': 0.8}"
   ],
   "metadata": {
    "collapsed": false,
    "pycharm": {
     "name": "#%%\n"
    }
   }
  },
  {
   "cell_type": "code",
   "execution_count": 9,
   "outputs": [
    {
     "name": "stdout",
     "output_type": "stream",
     "text": [
      "Model trained successfully\n"
     ]
    }
   ],
   "source": [
    "# Creating an XGBoost Regression model\n",
    "#model = XGBRegressor(random_state=42)\n",
    "model = XGBRegressor(colsample_bytree = 1.0, learning_rate = 0.05, max_depth = 7, n_estimators = 300, subsample = 0.8, random_state=42)\n",
    "\n",
    "# Training the model\n",
    "model.fit(X_train, y_train)\n",
    "\n",
    "# The model is now trained and can be used for predictions\n",
    "print(\"Model trained successfully\")"
   ],
   "metadata": {
    "collapsed": false,
    "pycharm": {
     "name": "#%%\n"
    }
   }
  },
  {
   "cell_type": "code",
   "execution_count": 10,
   "outputs": [
    {
     "name": "stdout",
     "output_type": "stream",
     "text": [
      "MAE and R2 scores: 207.39771739439516 234.214173249953 0.9895913309286501 0.9850652596975147\n"
     ]
    }
   ],
   "source": [
    "# Predictions on the training and testing sets\n",
    "train_predictions = model.predict(X_train)\n",
    "test_predictions = model.predict(X_test)\n",
    "\n",
    "# Evaluating the model\n",
    "mae_train = mean_absolute_error(y_train, train_predictions)\n",
    "mae_test = mean_absolute_error(y_test, test_predictions)\n",
    "r2_train = r2_score(y_train, train_predictions)\n",
    "r2_test = r2_score(y_test, test_predictions)\n",
    "\n",
    "print(\"MAE and R2 scores:\", mae_train, mae_test, r2_train, r2_test)"
   ],
   "metadata": {
    "collapsed": false,
    "pycharm": {
     "name": "#%%\n"
    }
   }
  },
  {
   "cell_type": "code",
   "execution_count": 11,
   "outputs": [
    {
     "name": "stdout",
     "output_type": "stream",
     "text": [
      "Latitude metrics: 0.04893412198604624 0.056348618722576384 0.9994529137373008 0.9955895000594884\n",
      "Longitude metrics: 0.06414465120278076 0.0691146095827038 0.9953475831140054 0.9917939592609436\n",
      "Altitude metrics: 622.0800734099976 702.5170565215543 0.9739734959346381 0.9678123197721118\n"
     ]
    }
   ],
   "source": [
    "# Separating the predictions and true values for latitude, longitude, and altitude\n",
    "train_lat_true, train_long_true, train_alt_true = y_train['latitude_in_10min'], y_train['longitude_in_10min'], y_train['baro_altitude_in_10min']\n",
    "test_lat_true, test_long_true, test_alt_true = y_test['latitude_in_10min'], y_test['longitude_in_10min'], y_test['baro_altitude_in_10min']\n",
    "train_lat_pred, train_long_pred, train_alt_pred = train_predictions[:, 0], train_predictions[:, 1], train_predictions[:, 2]\n",
    "test_lat_pred, test_long_pred, test_alt_pred = test_predictions[:, 0], test_predictions[:, 1], test_predictions[:, 2]\n",
    "\n",
    "# Calculating and printing metrics for latitude, longitude, and altitude\n",
    "mae_train_lat = mean_absolute_error(train_lat_true, train_lat_pred)\n",
    "mae_test_lat = mean_absolute_error(test_lat_true, test_lat_pred)\n",
    "r2_train_lat = r2_score(train_lat_true, train_lat_pred)\n",
    "r2_test_lat = r2_score(test_lat_true, test_lat_pred)\n",
    "\n",
    "mae_train_long = mean_absolute_error(train_long_true, train_long_pred)\n",
    "mae_test_long = mean_absolute_error(test_long_true, test_long_pred)\n",
    "r2_train_long = r2_score(train_long_true, train_long_pred)\n",
    "r2_test_long = r2_score(test_long_true, test_long_pred)\n",
    "\n",
    "mae_train_alt = mean_absolute_error(train_alt_true, train_alt_pred)\n",
    "mae_test_alt = mean_absolute_error(test_alt_true, test_alt_pred)\n",
    "r2_train_alt = r2_score(train_alt_true, train_alt_pred)\n",
    "r2_test_alt = r2_score(test_alt_true, test_alt_pred)\n",
    "\n",
    "print(\"Latitude metrics:\", mae_train_lat, mae_test_lat, r2_train_lat, r2_test_lat)\n",
    "print(\"Longitude metrics:\", mae_train_long, mae_test_long, r2_train_long, r2_test_long)\n",
    "print(\"Altitude metrics:\", mae_train_alt, mae_test_alt, r2_train_alt, r2_test_alt)"
   ],
   "metadata": {
    "collapsed": false,
    "pycharm": {
     "name": "#%%\n"
    }
   }
  }
 ],
 "metadata": {
  "kernelspec": {
   "display_name": "Python 3",
   "language": "python",
   "name": "python3"
  },
  "language_info": {
   "codemirror_mode": {
    "name": "ipython",
    "version": 2
   },
   "file_extension": ".py",
   "mimetype": "text/x-python",
   "name": "python",
   "nbconvert_exporter": "python",
   "pygments_lexer": "ipython2",
   "version": "2.7.6"
  }
 },
 "nbformat": 4,
 "nbformat_minor": 0
}
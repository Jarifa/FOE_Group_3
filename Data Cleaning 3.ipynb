{
 "cells": [
  {
   "cell_type": "code",
   "execution_count": 1,
   "metadata": {
    "collapsed": true
   },
   "outputs": [],
   "source": [
    "import pandas as pd\n",
    "from datetime import timedelta\n",
    "import numpy as np"
   ]
  },
  {
   "cell_type": "code",
   "execution_count": 2,
   "outputs": [
    {
     "name": "stderr",
     "output_type": "stream",
     "text": [
      "C:\\Users\\dave\\AppData\\Local\\Temp\\ipykernel_15348\\3269815118.py:1: DtypeWarning: Columns (2) have mixed types. Specify dtype option on import or set low_memory=False.\n",
      "  flights_df = pd.read_csv('Data/File_1.csv')\n"
     ]
    }
   ],
   "source": [
    "flights_df = pd.read_csv('Data/File_1.csv')\n",
    "flights_df = flights_df.drop('Unnamed: 0', axis=1)"
   ],
   "metadata": {
    "collapsed": false
   }
  },
  {
   "cell_type": "code",
   "execution_count": 3,
   "outputs": [],
   "source": [
    "# Convert 'timestamp' and 'last_position' to datetime\n",
    "flights_df['timestamp'] = pd.to_datetime(flights_df['timestamp'])\n",
    "flights_df['last_position'] = pd.to_datetime(flights_df['last_position'])"
   ],
   "metadata": {
    "collapsed": false
   }
  },
  {
   "cell_type": "code",
   "execution_count": 4,
   "outputs": [],
   "source": [
    "flights_df.drop_duplicates(subset=['icao24', 'last_position'], inplace = True)\n",
    "flights_df = flights_df[flights_df['baro_altitude'] >= 10000]\n",
    "flights_df = flights_df[['timestamp', 'icao24', 'latitude', 'longitude', 'ground_speed', 'track', 'vertical_rate', 'baro_altitude']]"
   ],
   "metadata": {
    "collapsed": false
   }
  },
  {
   "cell_type": "code",
   "execution_count": 5,
   "outputs": [
    {
     "data": {
      "text/plain": "                  timestamp  icao24   latitude  longitude  ground_speed  \\\n929     2022-10-01 17:37:30  4853d1  52.044564   4.795846    295.413015   \n930     2022-10-01 17:37:31  4853d1  52.043260   4.796317    295.413015   \n931     2022-10-01 17:37:32  4853d1  52.041910   4.796866    295.651567   \n932     2022-10-01 17:37:33  4853d1  52.040467   4.797494    296.863349   \n933     2022-10-01 17:37:34  4853d1  52.039117   4.798043    297.107468   \n...                     ...     ...        ...        ...           ...   \n1082899 2022-10-30 21:55:02  484133  52.339519   4.709957    141.226646   \n1082983 2022-10-30 21:56:26  484133  52.330330   4.716034    141.226646   \n1082999 2022-10-30 21:56:42  484133  52.329014   4.718380    141.226646   \n1083022 2022-10-30 21:57:05  484133  52.328419   4.721928    141.226646   \n1083064 2022-10-30 21:57:47  484133  52.325251   4.727319    141.226646   \n\n              track  vertical_rate  baro_altitude  \n929      166.293039         2560.0        10025.0  \n930      166.293039         2688.0        10050.0  \n931      166.104763         2752.0        10100.0  \n932      165.963757         2816.0        10150.0  \n933      165.776669         2752.0        10200.0  \n...             ...            ...            ...  \n1082899  183.247343            0.0        40000.0  \n1082983  183.247343            0.0        40000.0  \n1082999  183.247343            0.0        40000.0  \n1083022  183.247343            0.0        18300.0  \n1083064  183.247343            0.0        23500.0  \n\n[731097 rows x 8 columns]",
      "text/html": "<div>\n<style scoped>\n    .dataframe tbody tr th:only-of-type {\n        vertical-align: middle;\n    }\n\n    .dataframe tbody tr th {\n        vertical-align: top;\n    }\n\n    .dataframe thead th {\n        text-align: right;\n    }\n</style>\n<table border=\"1\" class=\"dataframe\">\n  <thead>\n    <tr style=\"text-align: right;\">\n      <th></th>\n      <th>timestamp</th>\n      <th>icao24</th>\n      <th>latitude</th>\n      <th>longitude</th>\n      <th>ground_speed</th>\n      <th>track</th>\n      <th>vertical_rate</th>\n      <th>baro_altitude</th>\n    </tr>\n  </thead>\n  <tbody>\n    <tr>\n      <th>929</th>\n      <td>2022-10-01 17:37:30</td>\n      <td>4853d1</td>\n      <td>52.044564</td>\n      <td>4.795846</td>\n      <td>295.413015</td>\n      <td>166.293039</td>\n      <td>2560.0</td>\n      <td>10025.0</td>\n    </tr>\n    <tr>\n      <th>930</th>\n      <td>2022-10-01 17:37:31</td>\n      <td>4853d1</td>\n      <td>52.043260</td>\n      <td>4.796317</td>\n      <td>295.413015</td>\n      <td>166.293039</td>\n      <td>2688.0</td>\n      <td>10050.0</td>\n    </tr>\n    <tr>\n      <th>931</th>\n      <td>2022-10-01 17:37:32</td>\n      <td>4853d1</td>\n      <td>52.041910</td>\n      <td>4.796866</td>\n      <td>295.651567</td>\n      <td>166.104763</td>\n      <td>2752.0</td>\n      <td>10100.0</td>\n    </tr>\n    <tr>\n      <th>932</th>\n      <td>2022-10-01 17:37:33</td>\n      <td>4853d1</td>\n      <td>52.040467</td>\n      <td>4.797494</td>\n      <td>296.863349</td>\n      <td>165.963757</td>\n      <td>2816.0</td>\n      <td>10150.0</td>\n    </tr>\n    <tr>\n      <th>933</th>\n      <td>2022-10-01 17:37:34</td>\n      <td>4853d1</td>\n      <td>52.039117</td>\n      <td>4.798043</td>\n      <td>297.107468</td>\n      <td>165.776669</td>\n      <td>2752.0</td>\n      <td>10200.0</td>\n    </tr>\n    <tr>\n      <th>...</th>\n      <td>...</td>\n      <td>...</td>\n      <td>...</td>\n      <td>...</td>\n      <td>...</td>\n      <td>...</td>\n      <td>...</td>\n      <td>...</td>\n    </tr>\n    <tr>\n      <th>1082899</th>\n      <td>2022-10-30 21:55:02</td>\n      <td>484133</td>\n      <td>52.339519</td>\n      <td>4.709957</td>\n      <td>141.226646</td>\n      <td>183.247343</td>\n      <td>0.0</td>\n      <td>40000.0</td>\n    </tr>\n    <tr>\n      <th>1082983</th>\n      <td>2022-10-30 21:56:26</td>\n      <td>484133</td>\n      <td>52.330330</td>\n      <td>4.716034</td>\n      <td>141.226646</td>\n      <td>183.247343</td>\n      <td>0.0</td>\n      <td>40000.0</td>\n    </tr>\n    <tr>\n      <th>1082999</th>\n      <td>2022-10-30 21:56:42</td>\n      <td>484133</td>\n      <td>52.329014</td>\n      <td>4.718380</td>\n      <td>141.226646</td>\n      <td>183.247343</td>\n      <td>0.0</td>\n      <td>40000.0</td>\n    </tr>\n    <tr>\n      <th>1083022</th>\n      <td>2022-10-30 21:57:05</td>\n      <td>484133</td>\n      <td>52.328419</td>\n      <td>4.721928</td>\n      <td>141.226646</td>\n      <td>183.247343</td>\n      <td>0.0</td>\n      <td>18300.0</td>\n    </tr>\n    <tr>\n      <th>1083064</th>\n      <td>2022-10-30 21:57:47</td>\n      <td>484133</td>\n      <td>52.325251</td>\n      <td>4.727319</td>\n      <td>141.226646</td>\n      <td>183.247343</td>\n      <td>0.0</td>\n      <td>23500.0</td>\n    </tr>\n  </tbody>\n</table>\n<p>731097 rows × 8 columns</p>\n</div>"
     },
     "execution_count": 5,
     "metadata": {},
     "output_type": "execute_result"
    }
   ],
   "source": [
    "flights_df"
   ],
   "metadata": {
    "collapsed": false
   }
  },
  {
   "cell_type": "code",
   "execution_count": 6,
   "outputs": [
    {
     "data": {
      "text/plain": "(timestamp        0\n icao24           0\n latitude         0\n longitude        0\n ground_speed     3\n track            3\n vertical_rate    3\n baro_altitude    0\n dtype: int64,\n (731097, 8))"
     },
     "execution_count": 6,
     "metadata": {},
     "output_type": "execute_result"
    }
   ],
   "source": [
    "flights_df.isnull().sum(), flights_df.shape"
   ],
   "metadata": {
    "collapsed": false
   }
  },
  {
   "cell_type": "code",
   "execution_count": 7,
   "outputs": [
    {
     "data": {
      "text/plain": "(timestamp        0\n icao24           0\n latitude         0\n longitude        0\n ground_speed     0\n track            0\n vertical_rate    0\n baro_altitude    0\n dtype: int64,\n (731094, 8))"
     },
     "execution_count": 7,
     "metadata": {},
     "output_type": "execute_result"
    }
   ],
   "source": [
    "flights_df.dropna(inplace = True)\n",
    "flights_df.isnull().sum(), flights_df.shape"
   ],
   "metadata": {
    "collapsed": false
   }
  },
  {
   "cell_type": "code",
   "execution_count": 8,
   "outputs": [
    {
     "data": {
      "text/plain": "                  timestamp  icao24   latitude  longitude  ground_speed  \\\n1081344 2022-10-30 21:29:07  484133  50.280304   2.691000    524.069199   \n1081345 2022-10-30 21:29:08  484133  50.282329   2.692987    524.069199   \n1081346 2022-10-30 21:29:09  484133  50.284744   2.694903    524.069199   \n1081347 2022-10-30 21:29:10  484133  50.286705   2.697069    524.069199   \n1081348 2022-10-30 21:29:11  484133  50.286705   2.697069    524.069199   \n...                     ...     ...        ...        ...           ...   \n625047  2022-10-29 22:28:39  ad5b90  38.817169 -75.942874    288.949573   \n625048  2022-10-29 22:28:40  ad5b90  38.817537 -75.943726    288.999750   \n625049  2022-10-29 22:28:41  ad5b90  38.818405 -75.945799    288.591157   \n625050  2022-10-29 22:28:42  ad5b90  38.819027 -75.947327    288.188925   \n625051  2022-10-29 22:28:43  ad5b90  38.819818 -75.949097    287.311429   \n\n              track  vertical_rate  baro_altitude  \n1081344   32.295105            0.0        34000.0  \n1081345   32.295105            0.0        34000.0  \n1081346   32.295105            0.0        34000.0  \n1081347   32.295105            0.0        34000.0  \n1081348   32.295105            0.0        34000.0  \n...             ...            ...            ...  \n625047   297.629247        -1664.0        10100.0  \n625048   298.072487        -1664.0        10075.0  \n625049   298.341095        -1600.0        10050.0  \n625050   298.610460        -1600.0        10025.0  \n625051   298.705953        -1600.0        10000.0  \n\n[731094 rows x 8 columns]",
      "text/html": "<div>\n<style scoped>\n    .dataframe tbody tr th:only-of-type {\n        vertical-align: middle;\n    }\n\n    .dataframe tbody tr th {\n        vertical-align: top;\n    }\n\n    .dataframe thead th {\n        text-align: right;\n    }\n</style>\n<table border=\"1\" class=\"dataframe\">\n  <thead>\n    <tr style=\"text-align: right;\">\n      <th></th>\n      <th>timestamp</th>\n      <th>icao24</th>\n      <th>latitude</th>\n      <th>longitude</th>\n      <th>ground_speed</th>\n      <th>track</th>\n      <th>vertical_rate</th>\n      <th>baro_altitude</th>\n    </tr>\n  </thead>\n  <tbody>\n    <tr>\n      <th>1081344</th>\n      <td>2022-10-30 21:29:07</td>\n      <td>484133</td>\n      <td>50.280304</td>\n      <td>2.691000</td>\n      <td>524.069199</td>\n      <td>32.295105</td>\n      <td>0.0</td>\n      <td>34000.0</td>\n    </tr>\n    <tr>\n      <th>1081345</th>\n      <td>2022-10-30 21:29:08</td>\n      <td>484133</td>\n      <td>50.282329</td>\n      <td>2.692987</td>\n      <td>524.069199</td>\n      <td>32.295105</td>\n      <td>0.0</td>\n      <td>34000.0</td>\n    </tr>\n    <tr>\n      <th>1081346</th>\n      <td>2022-10-30 21:29:09</td>\n      <td>484133</td>\n      <td>50.284744</td>\n      <td>2.694903</td>\n      <td>524.069199</td>\n      <td>32.295105</td>\n      <td>0.0</td>\n      <td>34000.0</td>\n    </tr>\n    <tr>\n      <th>1081347</th>\n      <td>2022-10-30 21:29:10</td>\n      <td>484133</td>\n      <td>50.286705</td>\n      <td>2.697069</td>\n      <td>524.069199</td>\n      <td>32.295105</td>\n      <td>0.0</td>\n      <td>34000.0</td>\n    </tr>\n    <tr>\n      <th>1081348</th>\n      <td>2022-10-30 21:29:11</td>\n      <td>484133</td>\n      <td>50.286705</td>\n      <td>2.697069</td>\n      <td>524.069199</td>\n      <td>32.295105</td>\n      <td>0.0</td>\n      <td>34000.0</td>\n    </tr>\n    <tr>\n      <th>...</th>\n      <td>...</td>\n      <td>...</td>\n      <td>...</td>\n      <td>...</td>\n      <td>...</td>\n      <td>...</td>\n      <td>...</td>\n      <td>...</td>\n    </tr>\n    <tr>\n      <th>625047</th>\n      <td>2022-10-29 22:28:39</td>\n      <td>ad5b90</td>\n      <td>38.817169</td>\n      <td>-75.942874</td>\n      <td>288.949573</td>\n      <td>297.629247</td>\n      <td>-1664.0</td>\n      <td>10100.0</td>\n    </tr>\n    <tr>\n      <th>625048</th>\n      <td>2022-10-29 22:28:40</td>\n      <td>ad5b90</td>\n      <td>38.817537</td>\n      <td>-75.943726</td>\n      <td>288.999750</td>\n      <td>298.072487</td>\n      <td>-1664.0</td>\n      <td>10075.0</td>\n    </tr>\n    <tr>\n      <th>625049</th>\n      <td>2022-10-29 22:28:41</td>\n      <td>ad5b90</td>\n      <td>38.818405</td>\n      <td>-75.945799</td>\n      <td>288.591157</td>\n      <td>298.341095</td>\n      <td>-1600.0</td>\n      <td>10050.0</td>\n    </tr>\n    <tr>\n      <th>625050</th>\n      <td>2022-10-29 22:28:42</td>\n      <td>ad5b90</td>\n      <td>38.819027</td>\n      <td>-75.947327</td>\n      <td>288.188925</td>\n      <td>298.610460</td>\n      <td>-1600.0</td>\n      <td>10025.0</td>\n    </tr>\n    <tr>\n      <th>625051</th>\n      <td>2022-10-29 22:28:43</td>\n      <td>ad5b90</td>\n      <td>38.819818</td>\n      <td>-75.949097</td>\n      <td>287.311429</td>\n      <td>298.705953</td>\n      <td>-1600.0</td>\n      <td>10000.0</td>\n    </tr>\n  </tbody>\n</table>\n<p>731094 rows × 8 columns</p>\n</div>"
     },
     "execution_count": 8,
     "metadata": {},
     "output_type": "execute_result"
    }
   ],
   "source": [
    "flights_df_sorted = flights_df.sort_values(by=['icao24', 'timestamp'])\n",
    "flights_df_sorted"
   ],
   "metadata": {
    "collapsed": false
   }
  },
  {
   "cell_type": "code",
   "execution_count": 9,
   "outputs": [
    {
     "name": "stderr",
     "output_type": "stream",
     "text": [
      "C:\\Users\\dave\\AppData\\Local\\Temp\\ipykernel_15348\\3155901338.py:10: SettingWithCopyWarning: \n",
      "A value is trying to be set on a copy of a slice from a DataFrame.\n",
      "Try using .loc[row_indexer,col_indexer] = value instead\n",
      "\n",
      "See the caveats in the documentation: https://pandas.pydata.org/pandas-docs/stable/user_guide/indexing.html#returning-a-view-versus-a-copy\n",
      "  subset_df['latitude_in_10min'] = np.nan\n",
      "C:\\Users\\dave\\AppData\\Local\\Temp\\ipykernel_15348\\3155901338.py:11: SettingWithCopyWarning: \n",
      "A value is trying to be set on a copy of a slice from a DataFrame.\n",
      "Try using .loc[row_indexer,col_indexer] = value instead\n",
      "\n",
      "See the caveats in the documentation: https://pandas.pydata.org/pandas-docs/stable/user_guide/indexing.html#returning-a-view-versus-a-copy\n",
      "  subset_df['longitude_in_10min'] = np.nan\n",
      "C:\\Users\\dave\\AppData\\Local\\Temp\\ipykernel_15348\\3155901338.py:12: SettingWithCopyWarning: \n",
      "A value is trying to be set on a copy of a slice from a DataFrame.\n",
      "Try using .loc[row_indexer,col_indexer] = value instead\n",
      "\n",
      "See the caveats in the documentation: https://pandas.pydata.org/pandas-docs/stable/user_guide/indexing.html#returning-a-view-versus-a-copy\n",
      "  subset_df['baro_altitude_in_10min'] = np.nan\n"
     ]
    },
    {
     "data": {
      "text/plain": "timestamp                   0\nicao24                      0\nlatitude                    0\nlongitude                   0\nground_speed                0\ntrack                       0\nvertical_rate               0\nbaro_altitude               0\nlatitude_in_10min         127\nlongitude_in_10min        127\nbaro_altitude_in_10min    127\ndtype: int64"
     },
     "execution_count": 9,
     "metadata": {},
     "output_type": "execute_result"
    }
   ],
   "source": [
    "# Function to find the row with the closest timestamp to the target time\n",
    "def find_first_future_row(df, target_time, icao24):\n",
    "    future_rows = df[(df['icao24'] == icao24) & (df['timestamp'] >= target_time) & (df['timestamp'] <= target_time + timedelta(minutes=10))]\n",
    "    return future_rows.iloc[0] if not future_rows.empty else None\n",
    "\n",
    "# Testing the function on a small subset of the data\n",
    "subset_df = flights_df_sorted.head(1000)\n",
    "\n",
    "# Adding new columns for future position and altitude\n",
    "subset_df['latitude_in_10min'] = np.nan\n",
    "subset_df['longitude_in_10min'] = np.nan\n",
    "subset_df['baro_altitude_in_10min'] = np.nan\n",
    "\n",
    "# Iterating over each row in the subset\n",
    "for index, row in subset_df.iterrows():\n",
    "    future_time = row['timestamp'] + timedelta(minutes=10)\n",
    "    future_row = find_first_future_row(subset_df, future_time, row['icao24'])\n",
    "    if future_row is not None:\n",
    "        subset_df.at[index, 'latitude_in_10min'] = future_row['latitude']\n",
    "        subset_df.at[index, 'longitude_in_10min'] = future_row['longitude']\n",
    "        subset_df.at[index, 'baro_altitude_in_10min'] = future_row['baro_altitude']\n",
    "\n",
    "# Displaying the modified subset to check the results\n",
    "subset_df.head()\n",
    "subset_df.isna().sum()"
   ],
   "metadata": {
    "collapsed": false
   }
  },
  {
   "cell_type": "code",
   "execution_count": 10,
   "outputs": [
    {
     "data": {
      "text/plain": "                  timestamp  icao24   latitude  longitude  ground_speed  \\\n1081344 2022-10-30 21:29:07  484133  50.280304   2.691000    524.069199   \n1081345 2022-10-30 21:29:08  484133  50.282329   2.692987    524.069199   \n1081346 2022-10-30 21:29:09  484133  50.284744   2.694903    524.069199   \n1081347 2022-10-30 21:29:10  484133  50.286705   2.697069    524.069199   \n1081348 2022-10-30 21:29:11  484133  50.286705   2.697069    524.069199   \n...                     ...     ...        ...        ...           ...   \n356292  2022-10-09 17:38:47  484130  41.407378   1.880259    359.201583   \n356293  2022-10-09 17:38:48  484130  41.409943   1.879723    359.201583   \n356294  2022-10-09 17:38:49  484130  41.410636   1.879237    359.201583   \n356295  2022-10-09 17:38:50  484130  41.412277   1.878662    359.201583   \n356296  2022-10-09 17:38:51  484130  41.414081   1.878151    360.173258   \n\n              track  vertical_rate  baro_altitude  latitude_in_10min  \\\n1081344   32.295105            0.0        34000.0          51.472183   \n1081345   32.295105            0.0        34000.0          51.474066   \n1081346   32.295105            0.0        34000.0          51.475891   \n1081347   32.295105            0.0        34000.0          51.477651   \n1081348   32.295105            0.0        34000.0          51.479416   \n...             ...            ...            ...                ...   \n356292   346.311937         3072.0        13500.0                NaN   \n356293   346.311937         3072.0        13575.0                NaN   \n356294   346.311937         3008.0        13600.0                NaN   \n356295   346.311937         2944.0        13650.0                NaN   \n356296   346.349581         2880.0        13700.0                NaN   \n\n         longitude_in_10min  baro_altitude_in_10min  \n1081344            3.798597                 17775.0  \n1081345            3.799973                 17750.0  \n1081346            3.801344                 17700.0  \n1081347            3.802872                 17675.0  \n1081348            3.804165                 17625.0  \n...                     ...                     ...  \n356292                  NaN                     NaN  \n356293                  NaN                     NaN  \n356294                  NaN                     NaN  \n356295                  NaN                     NaN  \n356296                  NaN                     NaN  \n\n[1000 rows x 11 columns]",
      "text/html": "<div>\n<style scoped>\n    .dataframe tbody tr th:only-of-type {\n        vertical-align: middle;\n    }\n\n    .dataframe tbody tr th {\n        vertical-align: top;\n    }\n\n    .dataframe thead th {\n        text-align: right;\n    }\n</style>\n<table border=\"1\" class=\"dataframe\">\n  <thead>\n    <tr style=\"text-align: right;\">\n      <th></th>\n      <th>timestamp</th>\n      <th>icao24</th>\n      <th>latitude</th>\n      <th>longitude</th>\n      <th>ground_speed</th>\n      <th>track</th>\n      <th>vertical_rate</th>\n      <th>baro_altitude</th>\n      <th>latitude_in_10min</th>\n      <th>longitude_in_10min</th>\n      <th>baro_altitude_in_10min</th>\n    </tr>\n  </thead>\n  <tbody>\n    <tr>\n      <th>1081344</th>\n      <td>2022-10-30 21:29:07</td>\n      <td>484133</td>\n      <td>50.280304</td>\n      <td>2.691000</td>\n      <td>524.069199</td>\n      <td>32.295105</td>\n      <td>0.0</td>\n      <td>34000.0</td>\n      <td>51.472183</td>\n      <td>3.798597</td>\n      <td>17775.0</td>\n    </tr>\n    <tr>\n      <th>1081345</th>\n      <td>2022-10-30 21:29:08</td>\n      <td>484133</td>\n      <td>50.282329</td>\n      <td>2.692987</td>\n      <td>524.069199</td>\n      <td>32.295105</td>\n      <td>0.0</td>\n      <td>34000.0</td>\n      <td>51.474066</td>\n      <td>3.799973</td>\n      <td>17750.0</td>\n    </tr>\n    <tr>\n      <th>1081346</th>\n      <td>2022-10-30 21:29:09</td>\n      <td>484133</td>\n      <td>50.284744</td>\n      <td>2.694903</td>\n      <td>524.069199</td>\n      <td>32.295105</td>\n      <td>0.0</td>\n      <td>34000.0</td>\n      <td>51.475891</td>\n      <td>3.801344</td>\n      <td>17700.0</td>\n    </tr>\n    <tr>\n      <th>1081347</th>\n      <td>2022-10-30 21:29:10</td>\n      <td>484133</td>\n      <td>50.286705</td>\n      <td>2.697069</td>\n      <td>524.069199</td>\n      <td>32.295105</td>\n      <td>0.0</td>\n      <td>34000.0</td>\n      <td>51.477651</td>\n      <td>3.802872</td>\n      <td>17675.0</td>\n    </tr>\n    <tr>\n      <th>1081348</th>\n      <td>2022-10-30 21:29:11</td>\n      <td>484133</td>\n      <td>50.286705</td>\n      <td>2.697069</td>\n      <td>524.069199</td>\n      <td>32.295105</td>\n      <td>0.0</td>\n      <td>34000.0</td>\n      <td>51.479416</td>\n      <td>3.804165</td>\n      <td>17625.0</td>\n    </tr>\n    <tr>\n      <th>...</th>\n      <td>...</td>\n      <td>...</td>\n      <td>...</td>\n      <td>...</td>\n      <td>...</td>\n      <td>...</td>\n      <td>...</td>\n      <td>...</td>\n      <td>...</td>\n      <td>...</td>\n      <td>...</td>\n    </tr>\n    <tr>\n      <th>356292</th>\n      <td>2022-10-09 17:38:47</td>\n      <td>484130</td>\n      <td>41.407378</td>\n      <td>1.880259</td>\n      <td>359.201583</td>\n      <td>346.311937</td>\n      <td>3072.0</td>\n      <td>13500.0</td>\n      <td>NaN</td>\n      <td>NaN</td>\n      <td>NaN</td>\n    </tr>\n    <tr>\n      <th>356293</th>\n      <td>2022-10-09 17:38:48</td>\n      <td>484130</td>\n      <td>41.409943</td>\n      <td>1.879723</td>\n      <td>359.201583</td>\n      <td>346.311937</td>\n      <td>3072.0</td>\n      <td>13575.0</td>\n      <td>NaN</td>\n      <td>NaN</td>\n      <td>NaN</td>\n    </tr>\n    <tr>\n      <th>356294</th>\n      <td>2022-10-09 17:38:49</td>\n      <td>484130</td>\n      <td>41.410636</td>\n      <td>1.879237</td>\n      <td>359.201583</td>\n      <td>346.311937</td>\n      <td>3008.0</td>\n      <td>13600.0</td>\n      <td>NaN</td>\n      <td>NaN</td>\n      <td>NaN</td>\n    </tr>\n    <tr>\n      <th>356295</th>\n      <td>2022-10-09 17:38:50</td>\n      <td>484130</td>\n      <td>41.412277</td>\n      <td>1.878662</td>\n      <td>359.201583</td>\n      <td>346.311937</td>\n      <td>2944.0</td>\n      <td>13650.0</td>\n      <td>NaN</td>\n      <td>NaN</td>\n      <td>NaN</td>\n    </tr>\n    <tr>\n      <th>356296</th>\n      <td>2022-10-09 17:38:51</td>\n      <td>484130</td>\n      <td>41.414081</td>\n      <td>1.878151</td>\n      <td>360.173258</td>\n      <td>346.349581</td>\n      <td>2880.0</td>\n      <td>13700.0</td>\n      <td>NaN</td>\n      <td>NaN</td>\n      <td>NaN</td>\n    </tr>\n  </tbody>\n</table>\n<p>1000 rows × 11 columns</p>\n</div>"
     },
     "execution_count": 10,
     "metadata": {},
     "output_type": "execute_result"
    }
   ],
   "source": [
    "subset_df"
   ],
   "metadata": {
    "collapsed": false
   }
  },
  {
   "cell_type": "code",
   "execution_count": null,
   "outputs": [],
   "source": [],
   "metadata": {
    "collapsed": false
   }
  }
 ],
 "metadata": {
  "kernelspec": {
   "display_name": "Python 3",
   "language": "python",
   "name": "python3"
  },
  "language_info": {
   "codemirror_mode": {
    "name": "ipython",
    "version": 2
   },
   "file_extension": ".py",
   "mimetype": "text/x-python",
   "name": "python",
   "nbconvert_exporter": "python",
   "pygments_lexer": "ipython2",
   "version": "2.7.6"
  }
 },
 "nbformat": 4,
 "nbformat_minor": 0
}

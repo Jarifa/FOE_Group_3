{
 "cells": [
  {
   "cell_type": "code",
   "execution_count": 14,
   "metadata": {
    "collapsed": true
   },
   "outputs": [],
   "source": [
    "import pandas as pd\n",
    "from datetime import timedelta\n",
    "import numpy as np"
   ]
  },
  {
   "cell_type": "code",
   "execution_count": 15,
   "outputs": [
    {
     "name": "stderr",
     "output_type": "stream",
     "text": [
      "C:\\Users\\dave\\AppData\\Local\\Temp\\ipykernel_2688\\928529073.py:1: DtypeWarning: Columns (2) have mixed types. Specify dtype option on import or set low_memory=False.\n",
      "  flights_df = pd.read_csv('Datasets/File_1.csv')\n"
     ]
    }
   ],
   "source": [
    "flights_df = pd.read_csv('Datasets/File_1.csv')\n",
    "flights_df = flights_df.drop('Unnamed: 0', axis=1)"
   ],
   "metadata": {
    "collapsed": false
   }
  },
  {
   "cell_type": "code",
   "execution_count": 16,
   "outputs": [
    {
     "data": {
      "text/plain": "                  timestamp  icao24   latitude  longitude  ground_speed  \\\n0       2022-10-01 17:22:01  4853d1  52.304360   4.766124           NaN   \n1       2022-10-01 17:22:02  4853d1  52.304360   4.766124           NaN   \n2       2022-10-01 17:22:03  4853d1  52.304360   4.766124           NaN   \n3       2022-10-01 17:22:04  4853d1  52.304360   4.766124           NaN   \n4       2022-10-01 17:22:05  4853d1  52.304360   4.766124           NaN   \n...                     ...     ...        ...        ...           ...   \n1083769 2022-10-30 22:09:35  484133  52.305061   4.769783    141.226646   \n1083770 2022-10-30 22:09:36  484133  52.305061   4.769783    141.226646   \n1083771 2022-10-30 22:09:37  484133  52.305061   4.769783    141.226646   \n1083772 2022-10-30 22:09:38  484133  52.305061   4.769783    141.226646   \n1083773 2022-10-30 22:09:39  484133  52.305061   4.769783    141.226646   \n\n              track  vertical_rate callsign  onground  alert    spi  squawk  \\\n0               NaN            NaN   TRA13Y      True  False  False     NaN   \n1               NaN            NaN   TRA13Y      True  False  False     NaN   \n2               NaN            NaN   TRA13Y      True  False  False     NaN   \n3               NaN            NaN   TRA13Y      True  False  False     NaN   \n4               NaN            NaN   TRA13Y      True  False  False     NaN   \n...             ...            ...      ...       ...    ...    ...     ...   \n1083769  183.247343            0.0   KLM76T     False  False  False  7124.0   \n1083770  183.247343            0.0   KLM76T     False  False  False  7124.0   \n1083771  183.247343            0.0   KLM76T     False  False  False  7124.0   \n1083772  183.247343            0.0   KLM76T     False  False  False  7124.0   \n1083773  183.247343            0.0   KLM76T     False  False  False  7124.0   \n\n         baro_altitude  altitude           last_position        hour  \n0                  NaN       NaN 2022-10-01 17:22:00.300  1664636400  \n1                  NaN       NaN 2022-10-01 17:22:00.300  1664636400  \n2                  NaN       NaN 2022-10-01 17:22:00.300  1664636400  \n3                  NaN       NaN 2022-10-01 17:22:00.300  1664636400  \n4                  NaN       NaN 2022-10-01 17:22:00.300  1664636400  \n...                ...       ...                     ...         ...  \n1083769        40000.0       NaN 2022-10-30 22:04:39.505  1667163600  \n1083770        40000.0       NaN 2022-10-30 22:04:39.505  1667163600  \n1083771        40000.0       NaN 2022-10-30 22:04:39.505  1667163600  \n1083772        40000.0       NaN 2022-10-30 22:04:39.505  1667163600  \n1083773        40000.0       NaN 2022-10-30 22:04:39.505  1667163600  \n\n[1083774 rows x 16 columns]",
      "text/html": "<div>\n<style scoped>\n    .dataframe tbody tr th:only-of-type {\n        vertical-align: middle;\n    }\n\n    .dataframe tbody tr th {\n        vertical-align: top;\n    }\n\n    .dataframe thead th {\n        text-align: right;\n    }\n</style>\n<table border=\"1\" class=\"dataframe\">\n  <thead>\n    <tr style=\"text-align: right;\">\n      <th></th>\n      <th>timestamp</th>\n      <th>icao24</th>\n      <th>latitude</th>\n      <th>longitude</th>\n      <th>ground_speed</th>\n      <th>track</th>\n      <th>vertical_rate</th>\n      <th>callsign</th>\n      <th>onground</th>\n      <th>alert</th>\n      <th>spi</th>\n      <th>squawk</th>\n      <th>baro_altitude</th>\n      <th>altitude</th>\n      <th>last_position</th>\n      <th>hour</th>\n    </tr>\n  </thead>\n  <tbody>\n    <tr>\n      <th>0</th>\n      <td>2022-10-01 17:22:01</td>\n      <td>4853d1</td>\n      <td>52.304360</td>\n      <td>4.766124</td>\n      <td>NaN</td>\n      <td>NaN</td>\n      <td>NaN</td>\n      <td>TRA13Y</td>\n      <td>True</td>\n      <td>False</td>\n      <td>False</td>\n      <td>NaN</td>\n      <td>NaN</td>\n      <td>NaN</td>\n      <td>2022-10-01 17:22:00.300</td>\n      <td>1664636400</td>\n    </tr>\n    <tr>\n      <th>1</th>\n      <td>2022-10-01 17:22:02</td>\n      <td>4853d1</td>\n      <td>52.304360</td>\n      <td>4.766124</td>\n      <td>NaN</td>\n      <td>NaN</td>\n      <td>NaN</td>\n      <td>TRA13Y</td>\n      <td>True</td>\n      <td>False</td>\n      <td>False</td>\n      <td>NaN</td>\n      <td>NaN</td>\n      <td>NaN</td>\n      <td>2022-10-01 17:22:00.300</td>\n      <td>1664636400</td>\n    </tr>\n    <tr>\n      <th>2</th>\n      <td>2022-10-01 17:22:03</td>\n      <td>4853d1</td>\n      <td>52.304360</td>\n      <td>4.766124</td>\n      <td>NaN</td>\n      <td>NaN</td>\n      <td>NaN</td>\n      <td>TRA13Y</td>\n      <td>True</td>\n      <td>False</td>\n      <td>False</td>\n      <td>NaN</td>\n      <td>NaN</td>\n      <td>NaN</td>\n      <td>2022-10-01 17:22:00.300</td>\n      <td>1664636400</td>\n    </tr>\n    <tr>\n      <th>3</th>\n      <td>2022-10-01 17:22:04</td>\n      <td>4853d1</td>\n      <td>52.304360</td>\n      <td>4.766124</td>\n      <td>NaN</td>\n      <td>NaN</td>\n      <td>NaN</td>\n      <td>TRA13Y</td>\n      <td>True</td>\n      <td>False</td>\n      <td>False</td>\n      <td>NaN</td>\n      <td>NaN</td>\n      <td>NaN</td>\n      <td>2022-10-01 17:22:00.300</td>\n      <td>1664636400</td>\n    </tr>\n    <tr>\n      <th>4</th>\n      <td>2022-10-01 17:22:05</td>\n      <td>4853d1</td>\n      <td>52.304360</td>\n      <td>4.766124</td>\n      <td>NaN</td>\n      <td>NaN</td>\n      <td>NaN</td>\n      <td>TRA13Y</td>\n      <td>True</td>\n      <td>False</td>\n      <td>False</td>\n      <td>NaN</td>\n      <td>NaN</td>\n      <td>NaN</td>\n      <td>2022-10-01 17:22:00.300</td>\n      <td>1664636400</td>\n    </tr>\n    <tr>\n      <th>...</th>\n      <td>...</td>\n      <td>...</td>\n      <td>...</td>\n      <td>...</td>\n      <td>...</td>\n      <td>...</td>\n      <td>...</td>\n      <td>...</td>\n      <td>...</td>\n      <td>...</td>\n      <td>...</td>\n      <td>...</td>\n      <td>...</td>\n      <td>...</td>\n      <td>...</td>\n      <td>...</td>\n    </tr>\n    <tr>\n      <th>1083769</th>\n      <td>2022-10-30 22:09:35</td>\n      <td>484133</td>\n      <td>52.305061</td>\n      <td>4.769783</td>\n      <td>141.226646</td>\n      <td>183.247343</td>\n      <td>0.0</td>\n      <td>KLM76T</td>\n      <td>False</td>\n      <td>False</td>\n      <td>False</td>\n      <td>7124.0</td>\n      <td>40000.0</td>\n      <td>NaN</td>\n      <td>2022-10-30 22:04:39.505</td>\n      <td>1667163600</td>\n    </tr>\n    <tr>\n      <th>1083770</th>\n      <td>2022-10-30 22:09:36</td>\n      <td>484133</td>\n      <td>52.305061</td>\n      <td>4.769783</td>\n      <td>141.226646</td>\n      <td>183.247343</td>\n      <td>0.0</td>\n      <td>KLM76T</td>\n      <td>False</td>\n      <td>False</td>\n      <td>False</td>\n      <td>7124.0</td>\n      <td>40000.0</td>\n      <td>NaN</td>\n      <td>2022-10-30 22:04:39.505</td>\n      <td>1667163600</td>\n    </tr>\n    <tr>\n      <th>1083771</th>\n      <td>2022-10-30 22:09:37</td>\n      <td>484133</td>\n      <td>52.305061</td>\n      <td>4.769783</td>\n      <td>141.226646</td>\n      <td>183.247343</td>\n      <td>0.0</td>\n      <td>KLM76T</td>\n      <td>False</td>\n      <td>False</td>\n      <td>False</td>\n      <td>7124.0</td>\n      <td>40000.0</td>\n      <td>NaN</td>\n      <td>2022-10-30 22:04:39.505</td>\n      <td>1667163600</td>\n    </tr>\n    <tr>\n      <th>1083772</th>\n      <td>2022-10-30 22:09:38</td>\n      <td>484133</td>\n      <td>52.305061</td>\n      <td>4.769783</td>\n      <td>141.226646</td>\n      <td>183.247343</td>\n      <td>0.0</td>\n      <td>KLM76T</td>\n      <td>False</td>\n      <td>False</td>\n      <td>False</td>\n      <td>7124.0</td>\n      <td>40000.0</td>\n      <td>NaN</td>\n      <td>2022-10-30 22:04:39.505</td>\n      <td>1667163600</td>\n    </tr>\n    <tr>\n      <th>1083773</th>\n      <td>2022-10-30 22:09:39</td>\n      <td>484133</td>\n      <td>52.305061</td>\n      <td>4.769783</td>\n      <td>141.226646</td>\n      <td>183.247343</td>\n      <td>0.0</td>\n      <td>KLM76T</td>\n      <td>False</td>\n      <td>False</td>\n      <td>False</td>\n      <td>7124.0</td>\n      <td>40000.0</td>\n      <td>NaN</td>\n      <td>2022-10-30 22:04:39.505</td>\n      <td>1667163600</td>\n    </tr>\n  </tbody>\n</table>\n<p>1083774 rows × 16 columns</p>\n</div>"
     },
     "execution_count": 16,
     "metadata": {},
     "output_type": "execute_result"
    }
   ],
   "source": [
    "# Convert 'timestamp' and 'last_position' to datetime\n",
    "flights_df['timestamp'] = pd.to_datetime(flights_df['timestamp'])\n",
    "flights_df['last_position'] = pd.to_datetime(flights_df['last_position'])\n",
    "flights_df"
   ],
   "metadata": {
    "collapsed": false
   }
  },
  {
   "cell_type": "code",
   "execution_count": 17,
   "outputs": [
    {
     "name": "stdout",
     "output_type": "stream",
     "text": [
      "(648854, 16)\n",
      "(648573, 16)\n"
     ]
    },
    {
     "data": {
      "text/plain": "                  timestamp  icao24   latitude  longitude  ground_speed  \\\n929     2022-10-01 17:37:30  4853d1  52.044564   4.795846    295.413015   \n930     2022-10-01 17:37:31  4853d1  52.043260   4.796317    295.413015   \n931     2022-10-01 17:37:32  4853d1  52.041910   4.796866    295.651567   \n932     2022-10-01 17:37:33  4853d1  52.040467   4.797494    296.863349   \n933     2022-10-01 17:37:34  4853d1  52.039117   4.798043    297.107468   \n...                     ...     ...        ...        ...           ...   \n1082899 2022-10-30 21:55:02  484133  52.339519   4.709957    141.226646   \n1082983 2022-10-30 21:56:26  484133  52.330330   4.716034    141.226646   \n1082999 2022-10-30 21:56:42  484133  52.329014   4.718380    141.226646   \n1083022 2022-10-30 21:57:05  484133  52.328419   4.721928    141.226646   \n1083064 2022-10-30 21:57:47  484133  52.325251   4.727319    141.226646   \n\n              track  vertical_rate  baro_altitude  \n929      166.293039         2560.0        10025.0  \n930      166.293039         2688.0        10050.0  \n931      166.104763         2752.0        10100.0  \n932      165.963757         2816.0        10150.0  \n933      165.776669         2752.0        10200.0  \n...             ...            ...            ...  \n1082899  183.247343            0.0        40000.0  \n1082983  183.247343            0.0        40000.0  \n1082999  183.247343            0.0        40000.0  \n1083022  183.247343            0.0        18300.0  \n1083064  183.247343            0.0        23500.0  \n\n[648573 rows x 8 columns]",
      "text/html": "<div>\n<style scoped>\n    .dataframe tbody tr th:only-of-type {\n        vertical-align: middle;\n    }\n\n    .dataframe tbody tr th {\n        vertical-align: top;\n    }\n\n    .dataframe thead th {\n        text-align: right;\n    }\n</style>\n<table border=\"1\" class=\"dataframe\">\n  <thead>\n    <tr style=\"text-align: right;\">\n      <th></th>\n      <th>timestamp</th>\n      <th>icao24</th>\n      <th>latitude</th>\n      <th>longitude</th>\n      <th>ground_speed</th>\n      <th>track</th>\n      <th>vertical_rate</th>\n      <th>baro_altitude</th>\n    </tr>\n  </thead>\n  <tbody>\n    <tr>\n      <th>929</th>\n      <td>2022-10-01 17:37:30</td>\n      <td>4853d1</td>\n      <td>52.044564</td>\n      <td>4.795846</td>\n      <td>295.413015</td>\n      <td>166.293039</td>\n      <td>2560.0</td>\n      <td>10025.0</td>\n    </tr>\n    <tr>\n      <th>930</th>\n      <td>2022-10-01 17:37:31</td>\n      <td>4853d1</td>\n      <td>52.043260</td>\n      <td>4.796317</td>\n      <td>295.413015</td>\n      <td>166.293039</td>\n      <td>2688.0</td>\n      <td>10050.0</td>\n    </tr>\n    <tr>\n      <th>931</th>\n      <td>2022-10-01 17:37:32</td>\n      <td>4853d1</td>\n      <td>52.041910</td>\n      <td>4.796866</td>\n      <td>295.651567</td>\n      <td>166.104763</td>\n      <td>2752.0</td>\n      <td>10100.0</td>\n    </tr>\n    <tr>\n      <th>932</th>\n      <td>2022-10-01 17:37:33</td>\n      <td>4853d1</td>\n      <td>52.040467</td>\n      <td>4.797494</td>\n      <td>296.863349</td>\n      <td>165.963757</td>\n      <td>2816.0</td>\n      <td>10150.0</td>\n    </tr>\n    <tr>\n      <th>933</th>\n      <td>2022-10-01 17:37:34</td>\n      <td>4853d1</td>\n      <td>52.039117</td>\n      <td>4.798043</td>\n      <td>297.107468</td>\n      <td>165.776669</td>\n      <td>2752.0</td>\n      <td>10200.0</td>\n    </tr>\n    <tr>\n      <th>...</th>\n      <td>...</td>\n      <td>...</td>\n      <td>...</td>\n      <td>...</td>\n      <td>...</td>\n      <td>...</td>\n      <td>...</td>\n      <td>...</td>\n    </tr>\n    <tr>\n      <th>1082899</th>\n      <td>2022-10-30 21:55:02</td>\n      <td>484133</td>\n      <td>52.339519</td>\n      <td>4.709957</td>\n      <td>141.226646</td>\n      <td>183.247343</td>\n      <td>0.0</td>\n      <td>40000.0</td>\n    </tr>\n    <tr>\n      <th>1082983</th>\n      <td>2022-10-30 21:56:26</td>\n      <td>484133</td>\n      <td>52.330330</td>\n      <td>4.716034</td>\n      <td>141.226646</td>\n      <td>183.247343</td>\n      <td>0.0</td>\n      <td>40000.0</td>\n    </tr>\n    <tr>\n      <th>1082999</th>\n      <td>2022-10-30 21:56:42</td>\n      <td>484133</td>\n      <td>52.329014</td>\n      <td>4.718380</td>\n      <td>141.226646</td>\n      <td>183.247343</td>\n      <td>0.0</td>\n      <td>40000.0</td>\n    </tr>\n    <tr>\n      <th>1083022</th>\n      <td>2022-10-30 21:57:05</td>\n      <td>484133</td>\n      <td>52.328419</td>\n      <td>4.721928</td>\n      <td>141.226646</td>\n      <td>183.247343</td>\n      <td>0.0</td>\n      <td>18300.0</td>\n    </tr>\n    <tr>\n      <th>1083064</th>\n      <td>2022-10-30 21:57:47</td>\n      <td>484133</td>\n      <td>52.325251</td>\n      <td>4.727319</td>\n      <td>141.226646</td>\n      <td>183.247343</td>\n      <td>0.0</td>\n      <td>23500.0</td>\n    </tr>\n  </tbody>\n</table>\n<p>648573 rows × 8 columns</p>\n</div>"
     },
     "execution_count": 17,
     "metadata": {},
     "output_type": "execute_result"
    }
   ],
   "source": [
    "flights_df.drop_duplicates(subset=['icao24', 'last_position'], inplace = True)\n",
    "flights_df = flights_df[(flights_df['longitude'] <= 20) & (flights_df['longitude'] >= -20)]\n",
    "flights_df = flights_df[(flights_df['baro_altitude'] >= 10000) & (flights_df['baro_altitude'] <= 50000)]\n",
    "print(flights_df.shape)\n",
    "flights_df = flights_df[(flights_df['vertical_rate'] >= -4500) & (flights_df['vertical_rate'] <= 4500)]\n",
    "print(flights_df.shape)\n",
    "flights_df = flights_df[['timestamp', 'icao24', 'latitude', 'longitude', 'ground_speed', 'track', 'vertical_rate', 'baro_altitude']]\n",
    "flights_df"
   ],
   "metadata": {
    "collapsed": false
   }
  },
  {
   "cell_type": "code",
   "execution_count": 17,
   "outputs": [],
   "source": [],
   "metadata": {
    "collapsed": false
   }
  },
  {
   "cell_type": "code",
   "execution_count": 18,
   "outputs": [
    {
     "data": {
      "text/plain": "(timestamp        0\n icao24           0\n latitude         0\n longitude        0\n ground_speed     0\n track            0\n vertical_rate    0\n baro_altitude    0\n dtype: int64,\n (648573, 8))"
     },
     "execution_count": 18,
     "metadata": {},
     "output_type": "execute_result"
    }
   ],
   "source": [
    "flights_df.isnull().sum(), flights_df.shape"
   ],
   "metadata": {
    "collapsed": false
   }
  },
  {
   "cell_type": "code",
   "execution_count": 19,
   "outputs": [
    {
     "data": {
      "text/plain": "(timestamp        0\n icao24           0\n latitude         0\n longitude        0\n ground_speed     0\n track            0\n vertical_rate    0\n baro_altitude    0\n dtype: int64,\n (648573, 8))"
     },
     "execution_count": 19,
     "metadata": {},
     "output_type": "execute_result"
    }
   ],
   "source": [
    "flights_df.dropna(inplace = True)\n",
    "flights_df.isnull().sum(), flights_df.shape"
   ],
   "metadata": {
    "collapsed": false
   }
  },
  {
   "cell_type": "code",
   "execution_count": 20,
   "outputs": [
    {
     "data": {
      "text/plain": "                  timestamp  icao24   latitude  longitude  ground_speed  \\\n1081344 2022-10-30 21:29:07  484133  50.280304   2.691000    524.069199   \n1081345 2022-10-30 21:29:08  484133  50.282329   2.692987    524.069199   \n1081346 2022-10-30 21:29:09  484133  50.284744   2.694903    524.069199   \n1081347 2022-10-30 21:29:10  484133  50.286705   2.697069    524.069199   \n1081348 2022-10-30 21:29:11  484133  50.286705   2.697069    524.069199   \n...                     ...     ...        ...        ...           ...   \n704309  2022-10-24 07:05:06  503d40  43.879028  16.596126    468.208950   \n704311  2022-10-24 07:05:08  503d40  43.875778  16.599703    468.208950   \n704313  2022-10-24 07:05:10  503d40  43.871155  16.604813    468.208950   \n704316  2022-10-24 07:05:13  503d40  43.867151  16.609235    468.208950   \n704319  2022-10-24 07:05:16  503d40  43.862217  16.614663    468.208950   \n\n              track  vertical_rate  baro_altitude  \n1081344   32.295105            0.0        34000.0  \n1081345   32.295105            0.0        34000.0  \n1081346   32.295105            0.0        34000.0  \n1081347   32.295105            0.0        34000.0  \n1081348   32.295105            0.0        34000.0  \n...             ...            ...            ...  \n704309   141.416637           64.0        39000.0  \n704311   141.416637           64.0        39000.0  \n704313   141.416637           64.0        39000.0  \n704316   141.416637           64.0        39000.0  \n704319   141.416637           64.0        39000.0  \n\n[648573 rows x 8 columns]",
      "text/html": "<div>\n<style scoped>\n    .dataframe tbody tr th:only-of-type {\n        vertical-align: middle;\n    }\n\n    .dataframe tbody tr th {\n        vertical-align: top;\n    }\n\n    .dataframe thead th {\n        text-align: right;\n    }\n</style>\n<table border=\"1\" class=\"dataframe\">\n  <thead>\n    <tr style=\"text-align: right;\">\n      <th></th>\n      <th>timestamp</th>\n      <th>icao24</th>\n      <th>latitude</th>\n      <th>longitude</th>\n      <th>ground_speed</th>\n      <th>track</th>\n      <th>vertical_rate</th>\n      <th>baro_altitude</th>\n    </tr>\n  </thead>\n  <tbody>\n    <tr>\n      <th>1081344</th>\n      <td>2022-10-30 21:29:07</td>\n      <td>484133</td>\n      <td>50.280304</td>\n      <td>2.691000</td>\n      <td>524.069199</td>\n      <td>32.295105</td>\n      <td>0.0</td>\n      <td>34000.0</td>\n    </tr>\n    <tr>\n      <th>1081345</th>\n      <td>2022-10-30 21:29:08</td>\n      <td>484133</td>\n      <td>50.282329</td>\n      <td>2.692987</td>\n      <td>524.069199</td>\n      <td>32.295105</td>\n      <td>0.0</td>\n      <td>34000.0</td>\n    </tr>\n    <tr>\n      <th>1081346</th>\n      <td>2022-10-30 21:29:09</td>\n      <td>484133</td>\n      <td>50.284744</td>\n      <td>2.694903</td>\n      <td>524.069199</td>\n      <td>32.295105</td>\n      <td>0.0</td>\n      <td>34000.0</td>\n    </tr>\n    <tr>\n      <th>1081347</th>\n      <td>2022-10-30 21:29:10</td>\n      <td>484133</td>\n      <td>50.286705</td>\n      <td>2.697069</td>\n      <td>524.069199</td>\n      <td>32.295105</td>\n      <td>0.0</td>\n      <td>34000.0</td>\n    </tr>\n    <tr>\n      <th>1081348</th>\n      <td>2022-10-30 21:29:11</td>\n      <td>484133</td>\n      <td>50.286705</td>\n      <td>2.697069</td>\n      <td>524.069199</td>\n      <td>32.295105</td>\n      <td>0.0</td>\n      <td>34000.0</td>\n    </tr>\n    <tr>\n      <th>...</th>\n      <td>...</td>\n      <td>...</td>\n      <td>...</td>\n      <td>...</td>\n      <td>...</td>\n      <td>...</td>\n      <td>...</td>\n      <td>...</td>\n    </tr>\n    <tr>\n      <th>704309</th>\n      <td>2022-10-24 07:05:06</td>\n      <td>503d40</td>\n      <td>43.879028</td>\n      <td>16.596126</td>\n      <td>468.208950</td>\n      <td>141.416637</td>\n      <td>64.0</td>\n      <td>39000.0</td>\n    </tr>\n    <tr>\n      <th>704311</th>\n      <td>2022-10-24 07:05:08</td>\n      <td>503d40</td>\n      <td>43.875778</td>\n      <td>16.599703</td>\n      <td>468.208950</td>\n      <td>141.416637</td>\n      <td>64.0</td>\n      <td>39000.0</td>\n    </tr>\n    <tr>\n      <th>704313</th>\n      <td>2022-10-24 07:05:10</td>\n      <td>503d40</td>\n      <td>43.871155</td>\n      <td>16.604813</td>\n      <td>468.208950</td>\n      <td>141.416637</td>\n      <td>64.0</td>\n      <td>39000.0</td>\n    </tr>\n    <tr>\n      <th>704316</th>\n      <td>2022-10-24 07:05:13</td>\n      <td>503d40</td>\n      <td>43.867151</td>\n      <td>16.609235</td>\n      <td>468.208950</td>\n      <td>141.416637</td>\n      <td>64.0</td>\n      <td>39000.0</td>\n    </tr>\n    <tr>\n      <th>704319</th>\n      <td>2022-10-24 07:05:16</td>\n      <td>503d40</td>\n      <td>43.862217</td>\n      <td>16.614663</td>\n      <td>468.208950</td>\n      <td>141.416637</td>\n      <td>64.0</td>\n      <td>39000.0</td>\n    </tr>\n  </tbody>\n</table>\n<p>648573 rows × 8 columns</p>\n</div>"
     },
     "execution_count": 20,
     "metadata": {},
     "output_type": "execute_result"
    }
   ],
   "source": [
    "flights_df_sorted = flights_df.sort_values(by=['icao24', 'timestamp'])\n",
    "flights_df_sorted"
   ],
   "metadata": {
    "collapsed": false
   }
  },
  {
   "cell_type": "code",
   "execution_count": 21,
   "outputs": [],
   "source": [
    "# Downsampling the dataset by keeping one in every 60 data points\n",
    "downsampled_df = flights_df_sorted.iloc[::60, :]"
   ],
   "metadata": {
    "collapsed": false
   }
  },
  {
   "cell_type": "code",
   "execution_count": 22,
   "outputs": [
    {
     "name": "stderr",
     "output_type": "stream",
     "text": [
      "C:\\Users\\dave\\AppData\\Local\\Temp\\ipykernel_2688\\3311161469.py:10: SettingWithCopyWarning: \n",
      "A value is trying to be set on a copy of a slice from a DataFrame.\n",
      "Try using .loc[row_indexer,col_indexer] = value instead\n",
      "\n",
      "See the caveats in the documentation: https://pandas.pydata.org/pandas-docs/stable/user_guide/indexing.html#returning-a-view-versus-a-copy\n",
      "  subset_df['latitude_in_10min'] = np.nan\n",
      "C:\\Users\\dave\\AppData\\Local\\Temp\\ipykernel_2688\\3311161469.py:11: SettingWithCopyWarning: \n",
      "A value is trying to be set on a copy of a slice from a DataFrame.\n",
      "Try using .loc[row_indexer,col_indexer] = value instead\n",
      "\n",
      "See the caveats in the documentation: https://pandas.pydata.org/pandas-docs/stable/user_guide/indexing.html#returning-a-view-versus-a-copy\n",
      "  subset_df['longitude_in_10min'] = np.nan\n",
      "C:\\Users\\dave\\AppData\\Local\\Temp\\ipykernel_2688\\3311161469.py:12: SettingWithCopyWarning: \n",
      "A value is trying to be set on a copy of a slice from a DataFrame.\n",
      "Try using .loc[row_indexer,col_indexer] = value instead\n",
      "\n",
      "See the caveats in the documentation: https://pandas.pydata.org/pandas-docs/stable/user_guide/indexing.html#returning-a-view-versus-a-copy\n",
      "  subset_df['baro_altitude_in_10min'] = np.nan\n"
     ]
    },
    {
     "data": {
      "text/plain": "timestamp                    0\nicao24                       0\nlatitude                     0\nlongitude                    0\nground_speed                 0\ntrack                        0\nvertical_rate                0\nbaro_altitude                0\nlatitude_in_10min         1414\nlongitude_in_10min        1414\nbaro_altitude_in_10min    1414\ndtype: int64"
     },
     "execution_count": 22,
     "metadata": {},
     "output_type": "execute_result"
    }
   ],
   "source": [
    "# Function to find the row with the closest timestamp to the target time\n",
    "def find_first_future_row(df, target_time, icao24):\n",
    "    future_rows = df[(df['icao24'] == icao24) & (df['timestamp'] >= target_time) & (df['timestamp'] <= target_time + timedelta(minutes=2))]\n",
    "    return future_rows.iloc[0] if not future_rows.empty else None\n",
    "\n",
    "# Testing the function on a small subset of the data\n",
    "subset_df = downsampled_df\n",
    "\n",
    "# Adding new columns for future position and altitude\n",
    "subset_df['latitude_in_10min'] = np.nan\n",
    "subset_df['longitude_in_10min'] = np.nan\n",
    "subset_df['baro_altitude_in_10min'] = np.nan\n",
    "\n",
    "# Iterating over each row in the subset\n",
    "for index, row in subset_df.iterrows():\n",
    "    future_time = row['timestamp'] + timedelta(minutes=10)\n",
    "    future_row = find_first_future_row(subset_df, future_time, row['icao24'])\n",
    "    if future_row is not None:\n",
    "        subset_df.at[index, 'latitude_in_10min'] = future_row['latitude']\n",
    "        subset_df.at[index, 'longitude_in_10min'] = future_row['longitude']\n",
    "        subset_df.at[index, 'baro_altitude_in_10min'] = future_row['baro_altitude']\n",
    "\n",
    "# Displaying the modified subset to check the results\n",
    "subset_df.head()\n",
    "subset_df.isna().sum()"
   ],
   "metadata": {
    "collapsed": false
   }
  },
  {
   "cell_type": "code",
   "execution_count": 23,
   "outputs": [
    {
     "name": "stderr",
     "output_type": "stream",
     "text": [
      "C:\\Users\\dave\\AppData\\Local\\Temp\\ipykernel_2688\\1856307613.py:1: SettingWithCopyWarning: \n",
      "A value is trying to be set on a copy of a slice from a DataFrame\n",
      "\n",
      "See the caveats in the documentation: https://pandas.pydata.org/pandas-docs/stable/user_guide/indexing.html#returning-a-view-versus-a-copy\n",
      "  subset_df.dropna(inplace = True)\n"
     ]
    }
   ],
   "source": [
    "subset_df.dropna(inplace = True)"
   ],
   "metadata": {
    "collapsed": false
   }
  },
  {
   "cell_type": "code",
   "execution_count": 24,
   "outputs": [
    {
     "name": "stderr",
     "output_type": "stream",
     "text": [
      "C:\\Users\\dave\\AppData\\Local\\Temp\\ipykernel_2688\\1686109439.py:1: SettingWithCopyWarning: \n",
      "A value is trying to be set on a copy of a slice from a DataFrame.\n",
      "Try using .loc[row_indexer,col_indexer] = value instead\n",
      "\n",
      "See the caveats in the documentation: https://pandas.pydata.org/pandas-docs/stable/user_guide/indexing.html#returning-a-view-versus-a-copy\n",
      "  subset_df['Climbing'] = subset_df['vertical_rate'] > 0\n",
      "C:\\Users\\dave\\AppData\\Local\\Temp\\ipykernel_2688\\1686109439.py:2: SettingWithCopyWarning: \n",
      "A value is trying to be set on a copy of a slice from a DataFrame.\n",
      "Try using .loc[row_indexer,col_indexer] = value instead\n",
      "\n",
      "See the caveats in the documentation: https://pandas.pydata.org/pandas-docs/stable/user_guide/indexing.html#returning-a-view-versus-a-copy\n",
      "  subset_df['Descending'] = subset_df['vertical_rate'] < 0\n",
      "C:\\Users\\dave\\AppData\\Local\\Temp\\ipykernel_2688\\1686109439.py:3: SettingWithCopyWarning: \n",
      "A value is trying to be set on a copy of a slice from a DataFrame.\n",
      "Try using .loc[row_indexer,col_indexer] = value instead\n",
      "\n",
      "See the caveats in the documentation: https://pandas.pydata.org/pandas-docs/stable/user_guide/indexing.html#returning-a-view-versus-a-copy\n",
      "  subset_df['Cruise'] = subset_df['vertical_rate'] == 0\n"
     ]
    }
   ],
   "source": [
    "subset_df['Climbing'] = subset_df['vertical_rate'] > 0\n",
    "subset_df['Descending'] = subset_df['vertical_rate'] < 0\n",
    "subset_df['Cruise'] = subset_df['vertical_rate'] == 0"
   ],
   "metadata": {
    "collapsed": false
   }
  },
  {
   "cell_type": "code",
   "execution_count": 25,
   "outputs": [
    {
     "data": {
      "text/plain": "                  timestamp  icao24   latitude  longitude  ground_speed  \\\n1081344 2022-10-30 21:29:07  484133  50.280304   2.691000    524.069199   \n1081404 2022-10-30 21:30:07  484133  50.403076   2.812572    523.759989   \n1081464 2022-10-30 21:31:07  484133  50.525436   2.934795    525.140480   \n1081526 2022-10-30 21:32:09  484133  50.651023   3.060657    530.969409   \n1081586 2022-10-30 21:33:09  484133  50.777573   3.188336    535.111675   \n...                     ...     ...        ...        ...           ...   \n703333  2022-10-24 06:48:46  503d40  45.536840  14.723153    466.511119   \n703395  2022-10-24 06:49:48  503d40  45.431396  14.840437    464.490718   \n703457  2022-10-24 06:50:50  503d40  45.326936  14.956010    461.069011   \n703521  2022-10-24 06:51:54  503d40  45.218857  15.075008    466.068262   \n703586  2022-10-24 06:52:59  503d40  45.109451  15.198277    473.358863   \n\n              track  vertical_rate  baro_altitude  latitude_in_10min  \\\n1081344   32.295105            0.0        34000.0          51.483078   \n1081404   32.446022          -64.0        34000.0          51.590744   \n1081464   32.479560         -960.0        33000.0          51.692210   \n1081526   32.462916         -896.0        32025.0          51.791087   \n1081586   32.561525        -1984.0        30625.0          51.883118   \n...             ...            ...            ...                ...   \n703333   141.877264            0.0        39025.0          44.368515   \n703395   141.995192            0.0        39000.0          44.368515   \n703457   142.135915            0.0        39000.0          44.177608   \n703521   142.146580          -64.0        38975.0          44.177608   \n703586   139.884474            0.0        39025.0          43.974408   \n\n         longitude_in_10min  baro_altitude_in_10min  Climbing  Descending  \\\n1081344            3.806911                 17550.0     False       False   \n1081404            3.887824                 15500.0     False        True   \n1081464            3.963928                 13425.0     False        True   \n1081526            4.038773                 11300.0     False        True   \n1081586            4.107254                 10500.0     False        True   \n...                     ...                     ...       ...         ...   \n703333            16.049717                 39000.0     False       False   \n703395            16.049717                 39000.0     False       False   \n703457            16.264147                 39000.0     False       False   \n703521            16.264147                 39000.0     False        True   \n703586            16.490609                 39025.0     False       False   \n\n         Cruise  \n1081344    True  \n1081404   False  \n1081464   False  \n1081526   False  \n1081586   False  \n...         ...  \n703333     True  \n703395     True  \n703457     True  \n703521    False  \n703586     True  \n\n[9396 rows x 14 columns]",
      "text/html": "<div>\n<style scoped>\n    .dataframe tbody tr th:only-of-type {\n        vertical-align: middle;\n    }\n\n    .dataframe tbody tr th {\n        vertical-align: top;\n    }\n\n    .dataframe thead th {\n        text-align: right;\n    }\n</style>\n<table border=\"1\" class=\"dataframe\">\n  <thead>\n    <tr style=\"text-align: right;\">\n      <th></th>\n      <th>timestamp</th>\n      <th>icao24</th>\n      <th>latitude</th>\n      <th>longitude</th>\n      <th>ground_speed</th>\n      <th>track</th>\n      <th>vertical_rate</th>\n      <th>baro_altitude</th>\n      <th>latitude_in_10min</th>\n      <th>longitude_in_10min</th>\n      <th>baro_altitude_in_10min</th>\n      <th>Climbing</th>\n      <th>Descending</th>\n      <th>Cruise</th>\n    </tr>\n  </thead>\n  <tbody>\n    <tr>\n      <th>1081344</th>\n      <td>2022-10-30 21:29:07</td>\n      <td>484133</td>\n      <td>50.280304</td>\n      <td>2.691000</td>\n      <td>524.069199</td>\n      <td>32.295105</td>\n      <td>0.0</td>\n      <td>34000.0</td>\n      <td>51.483078</td>\n      <td>3.806911</td>\n      <td>17550.0</td>\n      <td>False</td>\n      <td>False</td>\n      <td>True</td>\n    </tr>\n    <tr>\n      <th>1081404</th>\n      <td>2022-10-30 21:30:07</td>\n      <td>484133</td>\n      <td>50.403076</td>\n      <td>2.812572</td>\n      <td>523.759989</td>\n      <td>32.446022</td>\n      <td>-64.0</td>\n      <td>34000.0</td>\n      <td>51.590744</td>\n      <td>3.887824</td>\n      <td>15500.0</td>\n      <td>False</td>\n      <td>True</td>\n      <td>False</td>\n    </tr>\n    <tr>\n      <th>1081464</th>\n      <td>2022-10-30 21:31:07</td>\n      <td>484133</td>\n      <td>50.525436</td>\n      <td>2.934795</td>\n      <td>525.140480</td>\n      <td>32.479560</td>\n      <td>-960.0</td>\n      <td>33000.0</td>\n      <td>51.692210</td>\n      <td>3.963928</td>\n      <td>13425.0</td>\n      <td>False</td>\n      <td>True</td>\n      <td>False</td>\n    </tr>\n    <tr>\n      <th>1081526</th>\n      <td>2022-10-30 21:32:09</td>\n      <td>484133</td>\n      <td>50.651023</td>\n      <td>3.060657</td>\n      <td>530.969409</td>\n      <td>32.462916</td>\n      <td>-896.0</td>\n      <td>32025.0</td>\n      <td>51.791087</td>\n      <td>4.038773</td>\n      <td>11300.0</td>\n      <td>False</td>\n      <td>True</td>\n      <td>False</td>\n    </tr>\n    <tr>\n      <th>1081586</th>\n      <td>2022-10-30 21:33:09</td>\n      <td>484133</td>\n      <td>50.777573</td>\n      <td>3.188336</td>\n      <td>535.111675</td>\n      <td>32.561525</td>\n      <td>-1984.0</td>\n      <td>30625.0</td>\n      <td>51.883118</td>\n      <td>4.107254</td>\n      <td>10500.0</td>\n      <td>False</td>\n      <td>True</td>\n      <td>False</td>\n    </tr>\n    <tr>\n      <th>...</th>\n      <td>...</td>\n      <td>...</td>\n      <td>...</td>\n      <td>...</td>\n      <td>...</td>\n      <td>...</td>\n      <td>...</td>\n      <td>...</td>\n      <td>...</td>\n      <td>...</td>\n      <td>...</td>\n      <td>...</td>\n      <td>...</td>\n      <td>...</td>\n    </tr>\n    <tr>\n      <th>703333</th>\n      <td>2022-10-24 06:48:46</td>\n      <td>503d40</td>\n      <td>45.536840</td>\n      <td>14.723153</td>\n      <td>466.511119</td>\n      <td>141.877264</td>\n      <td>0.0</td>\n      <td>39025.0</td>\n      <td>44.368515</td>\n      <td>16.049717</td>\n      <td>39000.0</td>\n      <td>False</td>\n      <td>False</td>\n      <td>True</td>\n    </tr>\n    <tr>\n      <th>703395</th>\n      <td>2022-10-24 06:49:48</td>\n      <td>503d40</td>\n      <td>45.431396</td>\n      <td>14.840437</td>\n      <td>464.490718</td>\n      <td>141.995192</td>\n      <td>0.0</td>\n      <td>39000.0</td>\n      <td>44.368515</td>\n      <td>16.049717</td>\n      <td>39000.0</td>\n      <td>False</td>\n      <td>False</td>\n      <td>True</td>\n    </tr>\n    <tr>\n      <th>703457</th>\n      <td>2022-10-24 06:50:50</td>\n      <td>503d40</td>\n      <td>45.326936</td>\n      <td>14.956010</td>\n      <td>461.069011</td>\n      <td>142.135915</td>\n      <td>0.0</td>\n      <td>39000.0</td>\n      <td>44.177608</td>\n      <td>16.264147</td>\n      <td>39000.0</td>\n      <td>False</td>\n      <td>False</td>\n      <td>True</td>\n    </tr>\n    <tr>\n      <th>703521</th>\n      <td>2022-10-24 06:51:54</td>\n      <td>503d40</td>\n      <td>45.218857</td>\n      <td>15.075008</td>\n      <td>466.068262</td>\n      <td>142.146580</td>\n      <td>-64.0</td>\n      <td>38975.0</td>\n      <td>44.177608</td>\n      <td>16.264147</td>\n      <td>39000.0</td>\n      <td>False</td>\n      <td>True</td>\n      <td>False</td>\n    </tr>\n    <tr>\n      <th>703586</th>\n      <td>2022-10-24 06:52:59</td>\n      <td>503d40</td>\n      <td>45.109451</td>\n      <td>15.198277</td>\n      <td>473.358863</td>\n      <td>139.884474</td>\n      <td>0.0</td>\n      <td>39025.0</td>\n      <td>43.974408</td>\n      <td>16.490609</td>\n      <td>39025.0</td>\n      <td>False</td>\n      <td>False</td>\n      <td>True</td>\n    </tr>\n  </tbody>\n</table>\n<p>9396 rows × 14 columns</p>\n</div>"
     },
     "execution_count": 25,
     "metadata": {},
     "output_type": "execute_result"
    }
   ],
   "source": [
    "subset_df"
   ],
   "metadata": {
    "collapsed": false
   }
  },
  {
   "cell_type": "code",
   "execution_count": 26,
   "outputs": [],
   "source": [
    "subset_df.to_csv('Datasets/Cleaned_prepared_data.csv')"
   ],
   "metadata": {
    "collapsed": false
   }
  },
  {
   "cell_type": "code",
   "execution_count": 26,
   "outputs": [],
   "source": [],
   "metadata": {
    "collapsed": false
   }
  }
 ],
 "metadata": {
  "kernelspec": {
   "display_name": "Python 3",
   "language": "python",
   "name": "python3"
  },
  "language_info": {
   "codemirror_mode": {
    "name": "ipython",
    "version": 2
   },
   "file_extension": ".py",
   "mimetype": "text/x-python",
   "name": "python",
   "nbconvert_exporter": "python",
   "pygments_lexer": "ipython2",
   "version": "2.7.6"
  }
 },
 "nbformat": 4,
 "nbformat_minor": 0
}

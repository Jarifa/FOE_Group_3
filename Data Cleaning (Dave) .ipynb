{
 "cells": [
  {
   "cell_type": "code",
   "execution_count": null,
   "metadata": {
    "collapsed": true
   },
   "outputs": [],
   "source": [
    "import pandas as pd\n",
    "from datetime import timedelta\n",
    "import numpy as np"
   ]
  },
  {
   "cell_type": "code",
   "execution_count": null,
   "outputs": [],
   "source": [
    "flights_df = pd.read_csv('Data/File_1.csv')\n",
    "flights_df = flights_df.drop('Unnamed: 0', axis=1)"
   ],
   "metadata": {
    "collapsed": false
   }
  },
  {
   "cell_type": "code",
   "execution_count": null,
   "outputs": [],
   "source": [
    "# Convert 'timestamp' and 'last_position' to datetime\n",
    "flights_df['timestamp'] = pd.to_datetime(flights_df['timestamp'])\n",
    "flights_df['last_position'] = pd.to_datetime(flights_df['last_position'])\n",
    "flights_df"
   ],
   "metadata": {
    "collapsed": false
   }
  },
  {
   "cell_type": "code",
   "execution_count": null,
   "outputs": [],
   "source": [
    "flights_df.drop_duplicates(subset=['icao24', 'last_position'], inplace = True)\n",
    "flights_df = flights_df[flights_df['baro_altitude'] >= 10000]\n",
    "flights_df = flights_df[['timestamp', 'icao24', 'latitude', 'longitude', 'ground_speed', 'track', 'vertical_rate', 'baro_altitude']]"
   ],
   "metadata": {
    "collapsed": false
   }
  },
  {
   "cell_type": "code",
   "execution_count": null,
   "outputs": [],
   "source": [
    "flights_df"
   ],
   "metadata": {
    "collapsed": false
   }
  },
  {
   "cell_type": "code",
   "execution_count": null,
   "outputs": [],
   "source": [
    "flights_df.isnull().sum(), flights_df.shape"
   ],
   "metadata": {
    "collapsed": false
   }
  },
  {
   "cell_type": "code",
   "execution_count": null,
   "outputs": [],
   "source": [
    "flights_df.dropna(inplace = True)\n",
    "flights_df.isnull().sum(), flights_df.shape"
   ],
   "metadata": {
    "collapsed": false
   }
  },
  {
   "cell_type": "code",
   "execution_count": null,
   "outputs": [],
   "source": [
    "flights_df_sorted = flights_df.sort_values(by=['icao24', 'timestamp'])\n",
    "flights_df_sorted"
   ],
   "metadata": {
    "collapsed": false
   }
  },
  {
   "cell_type": "code",
   "execution_count": null,
   "outputs": [],
   "source": [
    "# Downsampling the dataset by keeping one in every 60 data points\n",
    "downsampled_df = flights_df_sorted.iloc[::60, :]"
   ],
   "metadata": {
    "collapsed": false
   }
  },
  {
   "cell_type": "code",
   "execution_count": null,
   "outputs": [],
   "source": [
    "# Function to find the row with the closest timestamp to the target time\n",
    "def find_first_future_row(df, target_time, icao24):\n",
    "    future_rows = df[(df['icao24'] == icao24) & (df['timestamp'] >= target_time) & (df['timestamp'] <= target_time + timedelta(minutes=10))]\n",
    "    return future_rows.iloc[0] if not future_rows.empty else None\n",
    "\n",
    "# Testing the function on a small subset of the data\n",
    "subset_df = downsampled_df\n",
    "\n",
    "# Adding new columns for future position and altitude\n",
    "subset_df['latitude_in_10min'] = np.nan\n",
    "subset_df['longitude_in_10min'] = np.nan\n",
    "subset_df['baro_altitude_in_10min'] = np.nan\n",
    "\n",
    "# Iterating over each row in the subset\n",
    "for index, row in subset_df.iterrows():\n",
    "    future_time = row['timestamp'] + timedelta(minutes=10)\n",
    "    future_row = find_first_future_row(subset_df, future_time, row['icao24'])\n",
    "    if future_row is not None:\n",
    "        subset_df.at[index, 'latitude_in_10min'] = future_row['latitude']\n",
    "        subset_df.at[index, 'longitude_in_10min'] = future_row['longitude']\n",
    "        subset_df.at[index, 'baro_altitude_in_10min'] = future_row['baro_altitude']\n",
    "\n",
    "# Displaying the modified subset to check the results\n",
    "subset_df.head()\n",
    "subset_df.isna().sum()"
   ],
   "metadata": {
    "collapsed": false
   }
  },
  {
   "cell_type": "code",
   "execution_count": null,
   "outputs": [],
   "source": [
    "subset_df.dropna(inplace = True)"
   ],
   "metadata": {
    "collapsed": false
   }
  },
  {
   "cell_type": "code",
   "execution_count": null,
   "outputs": [],
   "source": [
    "subset_df"
   ],
   "metadata": {
    "collapsed": false
   }
  },
  {
   "cell_type": "code",
   "execution_count": null,
   "outputs": [],
   "source": [
    "subset_df.to_csv('Datasets/Cleaned_prepared_data.csv')"
   ],
   "metadata": {
    "collapsed": false
   }
  },
  {
   "cell_type": "code",
   "execution_count": null,
   "outputs": [],
   "source": [],
   "metadata": {
    "collapsed": false
   }
  }
 ],
 "metadata": {
  "kernelspec": {
   "display_name": "Python 3",
   "language": "python",
   "name": "python3"
  },
  "language_info": {
   "codemirror_mode": {
    "name": "ipython",
    "version": 2
   },
   "file_extension": ".py",
   "mimetype": "text/x-python",
   "name": "python",
   "nbconvert_exporter": "python",
   "pygments_lexer": "ipython2",
   "version": "2.7.6"
  }
 },
 "nbformat": 4,
 "nbformat_minor": 0
}

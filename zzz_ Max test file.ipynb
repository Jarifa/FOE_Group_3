{
 "cells": [
  {
   "cell_type": "code",
   "execution_count": 7,
   "metadata": {
    "collapsed": true,
    "pycharm": {
     "name": "#%%\n"
    }
   },
   "outputs": [],
   "source": [
    "import pandas as pd"
   ]
  },
  {
   "cell_type": "code",
   "execution_count": 8,
   "outputs": [
    {
     "name": "stderr",
     "output_type": "stream",
     "text": [
      "F:\\WIN temp files\\ipykernel_12024\\714561428.py:1: DtypeWarning: Columns (2) have mixed types. Specify dtype option on import or set low_memory=False.\n",
      "  data = pd.read_csv('Datasets/Flights/File_1.csv')\n"
     ]
    }
   ],
   "source": [
    "data = pd.read_csv('Datasets/Flights/File_1.csv')"
   ],
   "metadata": {
    "collapsed": false,
    "pycharm": {
     "name": "#%%\n"
    }
   }
  },
  {
   "cell_type": "code",
   "execution_count": 9,
   "outputs": [
    {
     "data": {
      "text/plain": "         Unnamed: 0            timestamp  icao24   latitude  longitude  \\\n0                 0  2022-10-01 17:22:01  4853d1  52.304360   4.766124   \n1                 1  2022-10-01 17:22:02  4853d1  52.304360   4.766124   \n2                 2  2022-10-01 17:22:03  4853d1  52.304360   4.766124   \n3                 3  2022-10-01 17:22:04  4853d1  52.304360   4.766124   \n4                 4  2022-10-01 17:22:05  4853d1  52.304360   4.766124   \n...             ...                  ...     ...        ...        ...   \n1083769     1083769  2022-10-30 22:09:35  484133  52.305061   4.769783   \n1083770     1083770  2022-10-30 22:09:36  484133  52.305061   4.769783   \n1083771     1083771  2022-10-30 22:09:37  484133  52.305061   4.769783   \n1083772     1083772  2022-10-30 22:09:38  484133  52.305061   4.769783   \n1083773     1083773  2022-10-30 22:09:39  484133  52.305061   4.769783   \n\n         ground_speed       track  vertical_rate callsign  onground  alert  \\\n0                 NaN         NaN            NaN   TRA13Y      True  False   \n1                 NaN         NaN            NaN   TRA13Y      True  False   \n2                 NaN         NaN            NaN   TRA13Y      True  False   \n3                 NaN         NaN            NaN   TRA13Y      True  False   \n4                 NaN         NaN            NaN   TRA13Y      True  False   \n...               ...         ...            ...      ...       ...    ...   \n1083769    141.226646  183.247343            0.0   KLM76T     False  False   \n1083770    141.226646  183.247343            0.0   KLM76T     False  False   \n1083771    141.226646  183.247343            0.0   KLM76T     False  False   \n1083772    141.226646  183.247343            0.0   KLM76T     False  False   \n1083773    141.226646  183.247343            0.0   KLM76T     False  False   \n\n           spi  squawk  baro_altitude  altitude            last_position  \\\n0        False     NaN            NaN       NaN  2022-10-01 17:22:00.300   \n1        False     NaN            NaN       NaN  2022-10-01 17:22:00.300   \n2        False     NaN            NaN       NaN  2022-10-01 17:22:00.300   \n3        False     NaN            NaN       NaN  2022-10-01 17:22:00.300   \n4        False     NaN            NaN       NaN  2022-10-01 17:22:00.300   \n...        ...     ...            ...       ...                      ...   \n1083769  False  7124.0        40000.0       NaN  2022-10-30 22:04:39.505   \n1083770  False  7124.0        40000.0       NaN  2022-10-30 22:04:39.505   \n1083771  False  7124.0        40000.0       NaN  2022-10-30 22:04:39.505   \n1083772  False  7124.0        40000.0       NaN  2022-10-30 22:04:39.505   \n1083773  False  7124.0        40000.0       NaN  2022-10-30 22:04:39.505   \n\n               hour  \n0        1664636400  \n1        1664636400  \n2        1664636400  \n3        1664636400  \n4        1664636400  \n...             ...  \n1083769  1667163600  \n1083770  1667163600  \n1083771  1667163600  \n1083772  1667163600  \n1083773  1667163600  \n\n[1083774 rows x 17 columns]",
      "text/html": "<div>\n<style scoped>\n    .dataframe tbody tr th:only-of-type {\n        vertical-align: middle;\n    }\n\n    .dataframe tbody tr th {\n        vertical-align: top;\n    }\n\n    .dataframe thead th {\n        text-align: right;\n    }\n</style>\n<table border=\"1\" class=\"dataframe\">\n  <thead>\n    <tr style=\"text-align: right;\">\n      <th></th>\n      <th>Unnamed: 0</th>\n      <th>timestamp</th>\n      <th>icao24</th>\n      <th>latitude</th>\n      <th>longitude</th>\n      <th>ground_speed</th>\n      <th>track</th>\n      <th>vertical_rate</th>\n      <th>callsign</th>\n      <th>onground</th>\n      <th>alert</th>\n      <th>spi</th>\n      <th>squawk</th>\n      <th>baro_altitude</th>\n      <th>altitude</th>\n      <th>last_position</th>\n      <th>hour</th>\n    </tr>\n  </thead>\n  <tbody>\n    <tr>\n      <th>0</th>\n      <td>0</td>\n      <td>2022-10-01 17:22:01</td>\n      <td>4853d1</td>\n      <td>52.304360</td>\n      <td>4.766124</td>\n      <td>NaN</td>\n      <td>NaN</td>\n      <td>NaN</td>\n      <td>TRA13Y</td>\n      <td>True</td>\n      <td>False</td>\n      <td>False</td>\n      <td>NaN</td>\n      <td>NaN</td>\n      <td>NaN</td>\n      <td>2022-10-01 17:22:00.300</td>\n      <td>1664636400</td>\n    </tr>\n    <tr>\n      <th>1</th>\n      <td>1</td>\n      <td>2022-10-01 17:22:02</td>\n      <td>4853d1</td>\n      <td>52.304360</td>\n      <td>4.766124</td>\n      <td>NaN</td>\n      <td>NaN</td>\n      <td>NaN</td>\n      <td>TRA13Y</td>\n      <td>True</td>\n      <td>False</td>\n      <td>False</td>\n      <td>NaN</td>\n      <td>NaN</td>\n      <td>NaN</td>\n      <td>2022-10-01 17:22:00.300</td>\n      <td>1664636400</td>\n    </tr>\n    <tr>\n      <th>2</th>\n      <td>2</td>\n      <td>2022-10-01 17:22:03</td>\n      <td>4853d1</td>\n      <td>52.304360</td>\n      <td>4.766124</td>\n      <td>NaN</td>\n      <td>NaN</td>\n      <td>NaN</td>\n      <td>TRA13Y</td>\n      <td>True</td>\n      <td>False</td>\n      <td>False</td>\n      <td>NaN</td>\n      <td>NaN</td>\n      <td>NaN</td>\n      <td>2022-10-01 17:22:00.300</td>\n      <td>1664636400</td>\n    </tr>\n    <tr>\n      <th>3</th>\n      <td>3</td>\n      <td>2022-10-01 17:22:04</td>\n      <td>4853d1</td>\n      <td>52.304360</td>\n      <td>4.766124</td>\n      <td>NaN</td>\n      <td>NaN</td>\n      <td>NaN</td>\n      <td>TRA13Y</td>\n      <td>True</td>\n      <td>False</td>\n      <td>False</td>\n      <td>NaN</td>\n      <td>NaN</td>\n      <td>NaN</td>\n      <td>2022-10-01 17:22:00.300</td>\n      <td>1664636400</td>\n    </tr>\n    <tr>\n      <th>4</th>\n      <td>4</td>\n      <td>2022-10-01 17:22:05</td>\n      <td>4853d1</td>\n      <td>52.304360</td>\n      <td>4.766124</td>\n      <td>NaN</td>\n      <td>NaN</td>\n      <td>NaN</td>\n      <td>TRA13Y</td>\n      <td>True</td>\n      <td>False</td>\n      <td>False</td>\n      <td>NaN</td>\n      <td>NaN</td>\n      <td>NaN</td>\n      <td>2022-10-01 17:22:00.300</td>\n      <td>1664636400</td>\n    </tr>\n    <tr>\n      <th>...</th>\n      <td>...</td>\n      <td>...</td>\n      <td>...</td>\n      <td>...</td>\n      <td>...</td>\n      <td>...</td>\n      <td>...</td>\n      <td>...</td>\n      <td>...</td>\n      <td>...</td>\n      <td>...</td>\n      <td>...</td>\n      <td>...</td>\n      <td>...</td>\n      <td>...</td>\n      <td>...</td>\n      <td>...</td>\n    </tr>\n    <tr>\n      <th>1083769</th>\n      <td>1083769</td>\n      <td>2022-10-30 22:09:35</td>\n      <td>484133</td>\n      <td>52.305061</td>\n      <td>4.769783</td>\n      <td>141.226646</td>\n      <td>183.247343</td>\n      <td>0.0</td>\n      <td>KLM76T</td>\n      <td>False</td>\n      <td>False</td>\n      <td>False</td>\n      <td>7124.0</td>\n      <td>40000.0</td>\n      <td>NaN</td>\n      <td>2022-10-30 22:04:39.505</td>\n      <td>1667163600</td>\n    </tr>\n    <tr>\n      <th>1083770</th>\n      <td>1083770</td>\n      <td>2022-10-30 22:09:36</td>\n      <td>484133</td>\n      <td>52.305061</td>\n      <td>4.769783</td>\n      <td>141.226646</td>\n      <td>183.247343</td>\n      <td>0.0</td>\n      <td>KLM76T</td>\n      <td>False</td>\n      <td>False</td>\n      <td>False</td>\n      <td>7124.0</td>\n      <td>40000.0</td>\n      <td>NaN</td>\n      <td>2022-10-30 22:04:39.505</td>\n      <td>1667163600</td>\n    </tr>\n    <tr>\n      <th>1083771</th>\n      <td>1083771</td>\n      <td>2022-10-30 22:09:37</td>\n      <td>484133</td>\n      <td>52.305061</td>\n      <td>4.769783</td>\n      <td>141.226646</td>\n      <td>183.247343</td>\n      <td>0.0</td>\n      <td>KLM76T</td>\n      <td>False</td>\n      <td>False</td>\n      <td>False</td>\n      <td>7124.0</td>\n      <td>40000.0</td>\n      <td>NaN</td>\n      <td>2022-10-30 22:04:39.505</td>\n      <td>1667163600</td>\n    </tr>\n    <tr>\n      <th>1083772</th>\n      <td>1083772</td>\n      <td>2022-10-30 22:09:38</td>\n      <td>484133</td>\n      <td>52.305061</td>\n      <td>4.769783</td>\n      <td>141.226646</td>\n      <td>183.247343</td>\n      <td>0.0</td>\n      <td>KLM76T</td>\n      <td>False</td>\n      <td>False</td>\n      <td>False</td>\n      <td>7124.0</td>\n      <td>40000.0</td>\n      <td>NaN</td>\n      <td>2022-10-30 22:04:39.505</td>\n      <td>1667163600</td>\n    </tr>\n    <tr>\n      <th>1083773</th>\n      <td>1083773</td>\n      <td>2022-10-30 22:09:39</td>\n      <td>484133</td>\n      <td>52.305061</td>\n      <td>4.769783</td>\n      <td>141.226646</td>\n      <td>183.247343</td>\n      <td>0.0</td>\n      <td>KLM76T</td>\n      <td>False</td>\n      <td>False</td>\n      <td>False</td>\n      <td>7124.0</td>\n      <td>40000.0</td>\n      <td>NaN</td>\n      <td>2022-10-30 22:04:39.505</td>\n      <td>1667163600</td>\n    </tr>\n  </tbody>\n</table>\n<p>1083774 rows × 17 columns</p>\n</div>"
     },
     "execution_count": 9,
     "metadata": {},
     "output_type": "execute_result"
    }
   ],
   "source": [
    "data"
   ],
   "metadata": {
    "collapsed": false,
    "pycharm": {
     "name": "#%%\n"
    }
   }
  },
  {
   "cell_type": "code",
   "execution_count": 11,
   "outputs": [
    {
     "data": {
      "text/plain": "         Unnamed: 0      latitude     longitude  ground_speed         track  \\\ncount  1.083774e+06  1.083774e+06  1.083774e+06  1.061121e+06  1.061121e+06   \nmean   5.418865e+05  4.616727e+01 -7.304617e+00  4.026688e+02  1.665914e+02   \nstd    3.128587e+05  4.759886e+00  2.954114e+01  1.059717e+02  1.330434e+02   \nmin    0.000000e+00  2.590883e+01 -1.187069e+02  5.859176e+01  0.000000e+00   \n25%    2.709432e+05  4.234396e+01  1.055558e+00  3.731082e+02  2.830956e+01   \n50%    5.418865e+05  4.649066e+01  1.647637e+00  4.414031e+02  1.551363e+02   \n75%    8.128298e+05  5.047961e+01  3.830327e+00  4.711280e+02  3.342186e+02   \nmax    1.083773e+06  5.264062e+01  1.983429e+01  1.125599e+03  3.598954e+02   \n\n       vertical_rate         squawk  baro_altitude      altitude          hour  \ncount   1.061121e+06  988737.000000   1.026550e+06  1.020215e+06  1.083774e+06  \nmean    8.846252e+00    4171.553842   2.860642e+04  2.944515e+04  1.665835e+09  \nstd     1.106598e+03    1956.686909   1.268507e+04  1.290317e+04  7.464490e+05  \nmin    -1.888000e+04       0.000000  -1.000000e+03 -5.000000e+01  1.664597e+09  \n25%    -1.280000e+02    2136.000000   2.087500e+04  2.185000e+04  1.665205e+09  \n50%     0.000000e+00    5356.000000   3.600000e+04  3.657500e+04  1.665824e+09  \n75%     0.000000e+00    5533.000000   3.700000e+04  3.772500e+04  1.666454e+09  \nmax     2.662400e+04    7777.000000   1.263000e+05  1.276750e+05  1.667164e+09  ",
      "text/html": "<div>\n<style scoped>\n    .dataframe tbody tr th:only-of-type {\n        vertical-align: middle;\n    }\n\n    .dataframe tbody tr th {\n        vertical-align: top;\n    }\n\n    .dataframe thead th {\n        text-align: right;\n    }\n</style>\n<table border=\"1\" class=\"dataframe\">\n  <thead>\n    <tr style=\"text-align: right;\">\n      <th></th>\n      <th>Unnamed: 0</th>\n      <th>latitude</th>\n      <th>longitude</th>\n      <th>ground_speed</th>\n      <th>track</th>\n      <th>vertical_rate</th>\n      <th>squawk</th>\n      <th>baro_altitude</th>\n      <th>altitude</th>\n      <th>hour</th>\n    </tr>\n  </thead>\n  <tbody>\n    <tr>\n      <th>count</th>\n      <td>1.083774e+06</td>\n      <td>1.083774e+06</td>\n      <td>1.083774e+06</td>\n      <td>1.061121e+06</td>\n      <td>1.061121e+06</td>\n      <td>1.061121e+06</td>\n      <td>988737.000000</td>\n      <td>1.026550e+06</td>\n      <td>1.020215e+06</td>\n      <td>1.083774e+06</td>\n    </tr>\n    <tr>\n      <th>mean</th>\n      <td>5.418865e+05</td>\n      <td>4.616727e+01</td>\n      <td>-7.304617e+00</td>\n      <td>4.026688e+02</td>\n      <td>1.665914e+02</td>\n      <td>8.846252e+00</td>\n      <td>4171.553842</td>\n      <td>2.860642e+04</td>\n      <td>2.944515e+04</td>\n      <td>1.665835e+09</td>\n    </tr>\n    <tr>\n      <th>std</th>\n      <td>3.128587e+05</td>\n      <td>4.759886e+00</td>\n      <td>2.954114e+01</td>\n      <td>1.059717e+02</td>\n      <td>1.330434e+02</td>\n      <td>1.106598e+03</td>\n      <td>1956.686909</td>\n      <td>1.268507e+04</td>\n      <td>1.290317e+04</td>\n      <td>7.464490e+05</td>\n    </tr>\n    <tr>\n      <th>min</th>\n      <td>0.000000e+00</td>\n      <td>2.590883e+01</td>\n      <td>-1.187069e+02</td>\n      <td>5.859176e+01</td>\n      <td>0.000000e+00</td>\n      <td>-1.888000e+04</td>\n      <td>0.000000</td>\n      <td>-1.000000e+03</td>\n      <td>-5.000000e+01</td>\n      <td>1.664597e+09</td>\n    </tr>\n    <tr>\n      <th>25%</th>\n      <td>2.709432e+05</td>\n      <td>4.234396e+01</td>\n      <td>1.055558e+00</td>\n      <td>3.731082e+02</td>\n      <td>2.830956e+01</td>\n      <td>-1.280000e+02</td>\n      <td>2136.000000</td>\n      <td>2.087500e+04</td>\n      <td>2.185000e+04</td>\n      <td>1.665205e+09</td>\n    </tr>\n    <tr>\n      <th>50%</th>\n      <td>5.418865e+05</td>\n      <td>4.649066e+01</td>\n      <td>1.647637e+00</td>\n      <td>4.414031e+02</td>\n      <td>1.551363e+02</td>\n      <td>0.000000e+00</td>\n      <td>5356.000000</td>\n      <td>3.600000e+04</td>\n      <td>3.657500e+04</td>\n      <td>1.665824e+09</td>\n    </tr>\n    <tr>\n      <th>75%</th>\n      <td>8.128298e+05</td>\n      <td>5.047961e+01</td>\n      <td>3.830327e+00</td>\n      <td>4.711280e+02</td>\n      <td>3.342186e+02</td>\n      <td>0.000000e+00</td>\n      <td>5533.000000</td>\n      <td>3.700000e+04</td>\n      <td>3.772500e+04</td>\n      <td>1.666454e+09</td>\n    </tr>\n    <tr>\n      <th>max</th>\n      <td>1.083773e+06</td>\n      <td>5.264062e+01</td>\n      <td>1.983429e+01</td>\n      <td>1.125599e+03</td>\n      <td>3.598954e+02</td>\n      <td>2.662400e+04</td>\n      <td>7777.000000</td>\n      <td>1.263000e+05</td>\n      <td>1.276750e+05</td>\n      <td>1.667164e+09</td>\n    </tr>\n  </tbody>\n</table>\n</div>"
     },
     "execution_count": 11,
     "metadata": {},
     "output_type": "execute_result"
    }
   ],
   "source": [
    "data.describe()"
   ],
   "metadata": {
    "collapsed": false,
    "pycharm": {
     "name": "#%%\n"
    }
   }
  },
  {
   "cell_type": "code",
   "execution_count": 10,
   "outputs": [],
   "source": [],
   "metadata": {
    "collapsed": false,
    "pycharm": {
     "name": "#%%\n"
    }
   }
  }
 ],
 "metadata": {
  "kernelspec": {
   "display_name": "Python 3",
   "language": "python",
   "name": "python3"
  },
  "language_info": {
   "codemirror_mode": {
    "name": "ipython",
    "version": 2
   },
   "file_extension": ".py",
   "mimetype": "text/x-python",
   "name": "python",
   "nbconvert_exporter": "python",
   "pygments_lexer": "ipython2",
   "version": "2.7.6"
  }
 },
 "nbformat": 4,
 "nbformat_minor": 0
}
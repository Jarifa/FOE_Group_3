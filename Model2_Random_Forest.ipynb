{
 "cells": [
  {
   "cell_type": "code",
   "execution_count": 1,
   "outputs": [],
   "source": [
    "import pandas as pd\n",
    "from sklearn.model_selection import train_test_split\n",
    "from sklearn.ensemble import RandomForestRegressor\n",
    "from sklearn.metrics import mean_absolute_error, r2_score\n",
    "import numpy as np\n",
    "import matplotlib.pyplot as plt"
   ],
   "metadata": {
    "collapsed": false
   }
  },
  {
   "cell_type": "code",
   "execution_count": 2,
   "outputs": [],
   "source": [
    "data = pd.read_csv('Datasets/Cleaned_prepared_data.csv')\n",
    "data = data[(data['longitude'] <= 20) & (data['longitude'] >= -20)]"
   ],
   "metadata": {
    "collapsed": false
   }
  },
  {
   "cell_type": "code",
   "execution_count": 3,
   "outputs": [
    {
     "data": {
      "text/plain": "'Model trained successfully'"
     },
     "execution_count": 3,
     "metadata": {},
     "output_type": "execute_result"
    }
   ],
   "source": [
    "# Selecting the features and targets\n",
    "features = data[['latitude', 'longitude', 'baro_altitude','ground_speed', 'track', 'vertical_rate', 'Climbing', 'Descending', 'Cruise']]\n",
    "targets = data[['latitude_in_10min', 'longitude_in_10min', 'baro_altitude_in_10min']]\n",
    "\n",
    "# Splitting the dataset into training and testing sets\n",
    "X_train, X_test, y_train, y_test = train_test_split(features, targets, test_size=0.2, random_state=42)\n",
    "\n",
    "# Creating a Linear Regression model\n",
    "model = RandomForestRegressor(n_estimators=100, random_state=42)\n",
    "\n",
    "# Training the model\n",
    "model.fit(X_train, y_train)\n",
    "\n",
    "# The model is now trained and can be used for predictions\n",
    "\"Model trained successfully\""
   ],
   "metadata": {
    "collapsed": false
   }
  },
  {
   "cell_type": "code",
   "execution_count": 4,
   "outputs": [
    {
     "data": {
      "text/plain": "(68.70032054661442, 192.19935947371297, 0.9975184346468762, 0.9853248024711146)"
     },
     "execution_count": 4,
     "metadata": {},
     "output_type": "execute_result"
    }
   ],
   "source": [
    "# Predictions on the training and testing sets\n",
    "train_predictions = model.predict(X_train)\n",
    "test_predictions = model.predict(X_test)\n",
    "\n",
    "# Evaluating the model\n",
    "mae_train = mean_absolute_error(y_train, train_predictions)\n",
    "mae_test = mean_absolute_error(y_test, test_predictions)\n",
    "r2_train = r2_score(y_train, train_predictions)\n",
    "r2_test = r2_score(y_test, test_predictions)\n",
    "\n",
    "(mae_train, mae_test, r2_train, r2_test)"
   ],
   "metadata": {
    "collapsed": false
   }
  },
  {
   "cell_type": "code",
   "execution_count": 5,
   "outputs": [
    {
     "name": "stdout",
     "output_type": "stream",
     "text": [
      "Latitude metrics: 0.031664833206280135 0.08416517999933175 0.999576048235966 0.9977386532545215\n",
      "Longitude metrics: 0.0404250663495733 0.09436536879912816 0.9980870916002244 0.9936586931867579\n",
      "Altitude metrics: 206.0288717402873 576.4195478723404 0.9948921641044381 0.9645770609720644\n"
     ]
    }
   ],
   "source": [
    "# Separating the predictions and true values for latitude and longitude\n",
    "train_lat_true, train_long_true, train_alt_true = y_train['latitude_in_10min'], y_train['longitude_in_10min'], y_train['baro_altitude_in_10min']\n",
    "test_lat_true, test_long_true, test_alt_true = y_test['latitude_in_10min'], y_test['longitude_in_10min'], y_test['baro_altitude_in_10min']\n",
    "train_lat_pred, train_long_pred, train_alt_pred = train_predictions[:, 0], train_predictions[:, 1], train_predictions[:, 2]\n",
    "test_lat_pred, test_long_pred, test_alt_pred = test_predictions[:, 0], test_predictions[:, 1], test_predictions[:, 2]\n",
    "\n",
    "# Calculating metrics for latitude\n",
    "mae_train_lat = mean_absolute_error(train_lat_true, train_lat_pred)\n",
    "mae_test_lat = mean_absolute_error(test_lat_true, test_lat_pred)\n",
    "r2_train_lat = r2_score(train_lat_true, train_lat_pred)\n",
    "r2_test_lat = r2_score(test_lat_true, test_lat_pred)\n",
    "\n",
    "# Calculating metrics for longitude\n",
    "mae_train_long = mean_absolute_error(train_long_true, train_long_pred)\n",
    "mae_test_long = mean_absolute_error(test_long_true, test_long_pred)\n",
    "r2_train_long = r2_score(train_long_true, train_long_pred)\n",
    "r2_test_long = r2_score(test_long_true, test_long_pred)\n",
    "\n",
    "# Calculating metrics for Altitude\n",
    "mae_train_alt = mean_absolute_error(train_alt_true, train_alt_pred)\n",
    "mae_test_alt = mean_absolute_error(test_alt_true, test_alt_pred)\n",
    "r2_train_alt = r2_score(train_alt_true, train_alt_pred)\n",
    "r2_test_alt = r2_score(test_alt_true, test_alt_pred)\n",
    "\n",
    "print(\"Latitude metrics:\", mae_train_lat, mae_test_lat, r2_train_lat, r2_test_lat)\n",
    "print(\"Longitude metrics:\", mae_train_long, mae_test_long, r2_train_long, r2_test_long)\n",
    "print(\"Altitude metrics:\", mae_train_alt, mae_test_alt, r2_train_alt, r2_test_alt)"
   ],
   "metadata": {
    "collapsed": false
   }
  },
  {
   "cell_type": "code",
   "execution_count": 6,
   "outputs": [
    {
     "data": {
      "text/plain": "<Figure size 1200x600 with 1 Axes>",
      "image/png": "[encoded data removed]"
     },
     "metadata": {},
     "output_type": "display_data"
    }
   ],
   "source": [
    "# Selecting a few random samples from the test dataset for prediction\n",
    "np.random.seed(5)\n",
    "sample_indices = np.random.choice(X_test.index, size=5, replace=False)\n",
    "sample_data = X_test.loc[sample_indices]\n",
    "\n",
    "# Using the model to predict the latitude and longitude in 10 minutes\n",
    "predicted_positions = model.predict(sample_data)\n",
    "\n",
    "# Actual positions for comparison\n",
    "actual_positions = y_test.loc[sample_indices]\n",
    "\n",
    "# Visualization\n",
    "plt.figure(figsize=(12, 6))\n",
    "\n",
    "# Plotting predicted positions\n",
    "plt.scatter(predicted_positions[:, 1], predicted_positions[:, 0], color='blue', label='Predicted Positions')\n",
    "\n",
    "# Plotting actual positions\n",
    "plt.scatter(actual_positions['longitude_in_10min'], actual_positions['latitude_in_10min'], color='red',\n",
    "            label='Actual Positions')\n",
    "\n",
    "plt.xlabel('Longitude')\n",
    "plt.ylabel('Latitude')\n",
    "plt.title('Predicted vs Actual Positions')\n",
    "plt.legend()\n",
    "plt.grid(True)\n",
    "plt.show()"
   ],
   "metadata": {
    "collapsed": false
   }
  },
  {
   "cell_type": "code",
   "execution_count": 7,
   "outputs": [
    {
     "data": {
      "text/plain": "   Actual Latitude  Predicted Latitude  Latitude Error  Actual Longitude  \\\n0        47.339539           47.085073        0.254465         12.485550   \n1        49.907397           49.943677        0.036280          2.398212   \n2        45.234949           45.259243        0.024294          1.162340   \n3        48.648345           48.611643        0.036702          2.384901   \n4        45.227315           45.180152        0.047162          1.064267   \n\n   Predicted Longitude  Longitude Error  Actual Altitude  Predicted Altitude  \\\n0            12.770075         0.284525          37350.0            37810.25   \n1             2.457380         0.059169          36000.0            35190.50   \n2             1.142187         0.020153          36000.0            36120.00   \n3             2.383222         0.001679          37000.0            37000.00   \n4             1.097980         0.033712          36000.0            36089.25   \n\n   Altitude Error  \n0          460.25  \n1          809.50  \n2          120.00  \n3            0.00  \n4           89.25  ",
      "text/html": "<div>\n<style scoped>\n    .dataframe tbody tr th:only-of-type {\n        vertical-align: middle;\n    }\n\n    .dataframe tbody tr th {\n        vertical-align: top;\n    }\n\n    .dataframe thead th {\n        text-align: right;\n    }\n</style>\n<table border=\"1\" class=\"dataframe\">\n  <thead>\n    <tr style=\"text-align: right;\">\n      <th></th>\n      <th>Actual Latitude</th>\n      <th>Predicted Latitude</th>\n      <th>Latitude Error</th>\n      <th>Actual Longitude</th>\n      <th>Predicted Longitude</th>\n      <th>Longitude Error</th>\n      <th>Actual Altitude</th>\n      <th>Predicted Altitude</th>\n      <th>Altitude Error</th>\n    </tr>\n  </thead>\n  <tbody>\n    <tr>\n      <th>0</th>\n      <td>47.339539</td>\n      <td>47.085073</td>\n      <td>0.254465</td>\n      <td>12.485550</td>\n      <td>12.770075</td>\n      <td>0.284525</td>\n      <td>37350.0</td>\n      <td>37810.25</td>\n      <td>460.25</td>\n    </tr>\n    <tr>\n      <th>1</th>\n      <td>49.907397</td>\n      <td>49.943677</td>\n      <td>0.036280</td>\n      <td>2.398212</td>\n      <td>2.457380</td>\n      <td>0.059169</td>\n      <td>36000.0</td>\n      <td>35190.50</td>\n      <td>809.50</td>\n    </tr>\n    <tr>\n      <th>2</th>\n      <td>45.234949</td>\n      <td>45.259243</td>\n      <td>0.024294</td>\n      <td>1.162340</td>\n      <td>1.142187</td>\n      <td>0.020153</td>\n      <td>36000.0</td>\n      <td>36120.00</td>\n      <td>120.00</td>\n    </tr>\n    <tr>\n      <th>3</th>\n      <td>48.648345</td>\n      <td>48.611643</td>\n      <td>0.036702</td>\n      <td>2.384901</td>\n      <td>2.383222</td>\n      <td>0.001679</td>\n      <td>37000.0</td>\n      <td>37000.00</td>\n      <td>0.00</td>\n    </tr>\n    <tr>\n      <th>4</th>\n      <td>45.227315</td>\n      <td>45.180152</td>\n      <td>0.047162</td>\n      <td>1.064267</td>\n      <td>1.097980</td>\n      <td>0.033712</td>\n      <td>36000.0</td>\n      <td>36089.25</td>\n      <td>89.25</td>\n    </tr>\n  </tbody>\n</table>\n</div>"
     },
     "execution_count": 7,
     "metadata": {},
     "output_type": "execute_result"
    }
   ],
   "source": [
    "# Selecting a few example data points from the test set\n",
    "example_data = X_test.sample(5, random_state=1)\n",
    "\n",
    "# Actual values for comparison\n",
    "actual_values = y_test.loc[example_data.index]\n",
    "\n",
    "# Making predictions\n",
    "predictions = model.predict(example_data)\n",
    "\n",
    "# Creating a DataFrame for comparison\n",
    "comparison = pd.DataFrame({\n",
    "    'Actual Latitude': actual_values['latitude_in_10min'],\n",
    "    'Predicted Latitude': predictions[:, 0],\n",
    "    'Latitude Error': np.abs(actual_values['latitude_in_10min'] - predictions[:, 0]),\n",
    "    'Actual Longitude': actual_values['longitude_in_10min'],\n",
    "    'Predicted Longitude': predictions[:, 1],\n",
    "    'Longitude Error': np.abs(actual_values['longitude_in_10min'] - predictions[:, 1]),\n",
    "    'Actual Altitude': actual_values['baro_altitude_in_10min'],\n",
    "    'Predicted Altitude': predictions[:, 2],\n",
    "    'Altitude Error': np.abs(actual_values['baro_altitude_in_10min'] - predictions[:, 2])\n",
    "})\n",
    "\n",
    "comparison.reset_index(drop=True, inplace=True)\n",
    "comparison"
   ],
   "metadata": {
    "collapsed": false
   }
  },
  {
   "cell_type": "code",
   "execution_count": 7,
   "outputs": [],
   "source": [],
   "metadata": {
    "collapsed": false
   }
  }
 ],
 "metadata": {
  "kernelspec": {
   "display_name": "Python 3",
   "language": "python",
   "name": "python3"
  },
  "language_info": {
   "codemirror_mode": {
    "name": "ipython",
    "version": 2
   },
   "file_extension": ".py",
   "mimetype": "text/x-python",
   "name": "python",
   "nbconvert_exporter": "python",
   "pygments_lexer": "ipython2",
   "version": "2.7.6"
  }
 },
 "nbformat": 4,
 "nbformat_minor": 0
}
